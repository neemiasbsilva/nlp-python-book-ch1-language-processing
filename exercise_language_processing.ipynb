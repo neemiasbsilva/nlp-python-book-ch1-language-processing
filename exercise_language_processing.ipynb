{
  "nbformat": 4,
  "nbformat_minor": 0,
  "metadata": {
    "colab": {
      "name": "exercise-language-processing.ipynb",
      "provenance": [],
      "collapsed_sections": []
    },
    "kernelspec": {
      "name": "python3",
      "display_name": "Python 3"
    },
    "accelerator": "GPU"
  },
  "cells": [
    {
      "cell_type": "markdown",
      "metadata": {
        "id": "zrfuO7U-vfko",
        "colab_type": "text"
      },
      "source": [
        "# Exercise of NLP with Python: Chapter 1 - Language Processing"
      ]
    },
    {
      "cell_type": "markdown",
      "metadata": {
        "id": "NRbxsl7Wv011",
        "colab_type": "text"
      },
      "source": [
        "\n",
        "\n",
        "1.   **Try using the Python interpreter as a calculator, and typing expressions like 12/ (4+1)**"
      ]
    },
    {
      "cell_type": "code",
      "metadata": {
        "id": "EpZ0lYF4vTTq",
        "colab_type": "code",
        "colab": {
          "base_uri": "https://localhost:8080/",
          "height": 34
        },
        "outputId": "7c059676-261b-43dc-c1e1-440a3a5e01c0"
      },
      "source": [
        "12/(4+1)"
      ],
      "execution_count": 1,
      "outputs": [
        {
          "output_type": "execute_result",
          "data": {
            "text/plain": [
              "2.4"
            ]
          },
          "metadata": {
            "tags": []
          },
          "execution_count": 1
        }
      ]
    },
    {
      "cell_type": "markdown",
      "metadata": {
        "id": "sOpABx7uwfcV",
        "colab_type": "text"
      },
      "source": [
        "\n",
        "\n",
        "2.   **Given an alpabeth of 26 letters, there are 26 to the power 10, or 26 \\*\\* 10, 10-letter strings we can form... How many hundred-letter strings are possible?**\n",
        "\n"
      ]
    },
    {
      "cell_type": "code",
      "metadata": {
        "id": "xMsYnN4Wwds9",
        "colab_type": "code",
        "colab": {
          "base_uri": "https://localhost:8080/",
          "height": 54
        },
        "outputId": "cb543c36-86ec-45b0-e4c0-170983737fd1"
      },
      "source": [
        "26**100"
      ],
      "execution_count": 2,
      "outputs": [
        {
          "output_type": "execute_result",
          "data": {
            "text/plain": [
              "3142930641582938830174357788501626427282669988762475256374173175398995908420104023465432599069702289330964075081611719197835869803511992549376"
            ]
          },
          "metadata": {
            "tags": []
          },
          "execution_count": 2
        }
      ]
    },
    {
      "cell_type": "markdown",
      "metadata": {
        "id": "pAR4a6Rcxr_e",
        "colab_type": "text"
      },
      "source": [
        "\n",
        "\n",
        "3.   **The Python multiplication operation can be applied to lists. What happens when you type ['Monty', 'Python'] \\* 20, or 3 * sent1?**\n",
        "\n"
      ]
    },
    {
      "cell_type": "code",
      "metadata": {
        "id": "u73IlPcIxfrZ",
        "colab_type": "code",
        "colab": {
          "base_uri": "https://localhost:8080/",
          "height": 697
        },
        "outputId": "d5dbe1d6-e916-4e09-c03d-ff131f1dcb52"
      },
      "source": [
        " ['Monty', 'Python'] * 20"
      ],
      "execution_count": 3,
      "outputs": [
        {
          "output_type": "execute_result",
          "data": {
            "text/plain": [
              "['Monty',\n",
              " 'Python',\n",
              " 'Monty',\n",
              " 'Python',\n",
              " 'Monty',\n",
              " 'Python',\n",
              " 'Monty',\n",
              " 'Python',\n",
              " 'Monty',\n",
              " 'Python',\n",
              " 'Monty',\n",
              " 'Python',\n",
              " 'Monty',\n",
              " 'Python',\n",
              " 'Monty',\n",
              " 'Python',\n",
              " 'Monty',\n",
              " 'Python',\n",
              " 'Monty',\n",
              " 'Python',\n",
              " 'Monty',\n",
              " 'Python',\n",
              " 'Monty',\n",
              " 'Python',\n",
              " 'Monty',\n",
              " 'Python',\n",
              " 'Monty',\n",
              " 'Python',\n",
              " 'Monty',\n",
              " 'Python',\n",
              " 'Monty',\n",
              " 'Python',\n",
              " 'Monty',\n",
              " 'Python',\n",
              " 'Monty',\n",
              " 'Python',\n",
              " 'Monty',\n",
              " 'Python',\n",
              " 'Monty',\n",
              " 'Python']"
            ]
          },
          "metadata": {
            "tags": []
          },
          "execution_count": 3
        }
      ]
    },
    {
      "cell_type": "code",
      "metadata": {
        "id": "UJEj8_RFyB0p",
        "colab_type": "code",
        "colab": {
          "base_uri": "https://localhost:8080/",
          "height": 221
        },
        "outputId": "cb888e1e-9433-4f3e-c4fc-eacc75f2cdb6"
      },
      "source": [
        "sent1 = ['Call', 'me', 'Ismael', '.']\n",
        "3*sent1"
      ],
      "execution_count": 4,
      "outputs": [
        {
          "output_type": "execute_result",
          "data": {
            "text/plain": [
              "['Call',\n",
              " 'me',\n",
              " 'Ismael',\n",
              " '.',\n",
              " 'Call',\n",
              " 'me',\n",
              " 'Ismael',\n",
              " '.',\n",
              " 'Call',\n",
              " 'me',\n",
              " 'Ismael',\n",
              " '.']"
            ]
          },
          "metadata": {
            "tags": []
          },
          "execution_count": 4
        }
      ]
    },
    {
      "cell_type": "markdown",
      "metadata": {
        "id": "wSOWmR1mylfu",
        "colab_type": "text"
      },
      "source": [
        "\n",
        "\n",
        "4.   **Review Section 1.1 on computing with language. How many words are there in text2? How many distinct words are there?**\n",
        "\n"
      ]
    },
    {
      "cell_type": "code",
      "metadata": {
        "id": "1VbtY0g8yeDD",
        "colab_type": "code",
        "colab": {
          "base_uri": "https://localhost:8080/",
          "height": 1000
        },
        "outputId": "0cc3b91e-6687-4990-9b45-ea2687eb955a"
      },
      "source": [
        "import nltk\n",
        "nltk.download('book')\n",
        "nltk.download('gutenberg')\n",
        "nltk.download('genesis')\n",
        "nltk.download('inaugural')\n",
        "nltk.download('nps_chat')\n",
        "nltk.download('webtext')\n",
        "nltk.download('treebank')"
      ],
      "execution_count": 5,
      "outputs": [
        {
          "output_type": "stream",
          "text": [
            "[nltk_data] Downloading collection 'book'\n",
            "[nltk_data]    | \n",
            "[nltk_data]    | Downloading package abc to /root/nltk_data...\n",
            "[nltk_data]    |   Unzipping corpora/abc.zip.\n",
            "[nltk_data]    | Downloading package brown to /root/nltk_data...\n",
            "[nltk_data]    |   Unzipping corpora/brown.zip.\n",
            "[nltk_data]    | Downloading package chat80 to /root/nltk_data...\n",
            "[nltk_data]    |   Unzipping corpora/chat80.zip.\n",
            "[nltk_data]    | Downloading package cmudict to /root/nltk_data...\n",
            "[nltk_data]    |   Unzipping corpora/cmudict.zip.\n",
            "[nltk_data]    | Downloading package conll2000 to /root/nltk_data...\n",
            "[nltk_data]    |   Unzipping corpora/conll2000.zip.\n",
            "[nltk_data]    | Downloading package conll2002 to /root/nltk_data...\n",
            "[nltk_data]    |   Unzipping corpora/conll2002.zip.\n",
            "[nltk_data]    | Downloading package dependency_treebank to\n",
            "[nltk_data]    |     /root/nltk_data...\n",
            "[nltk_data]    |   Unzipping corpora/dependency_treebank.zip.\n",
            "[nltk_data]    | Downloading package genesis to /root/nltk_data...\n",
            "[nltk_data]    |   Unzipping corpora/genesis.zip.\n",
            "[nltk_data]    | Downloading package gutenberg to /root/nltk_data...\n",
            "[nltk_data]    |   Unzipping corpora/gutenberg.zip.\n",
            "[nltk_data]    | Downloading package ieer to /root/nltk_data...\n",
            "[nltk_data]    |   Unzipping corpora/ieer.zip.\n",
            "[nltk_data]    | Downloading package inaugural to /root/nltk_data...\n",
            "[nltk_data]    |   Unzipping corpora/inaugural.zip.\n",
            "[nltk_data]    | Downloading package movie_reviews to\n",
            "[nltk_data]    |     /root/nltk_data...\n",
            "[nltk_data]    |   Unzipping corpora/movie_reviews.zip.\n",
            "[nltk_data]    | Downloading package nps_chat to /root/nltk_data...\n",
            "[nltk_data]    |   Unzipping corpora/nps_chat.zip.\n",
            "[nltk_data]    | Downloading package names to /root/nltk_data...\n",
            "[nltk_data]    |   Unzipping corpora/names.zip.\n",
            "[nltk_data]    | Downloading package ppattach to /root/nltk_data...\n",
            "[nltk_data]    |   Unzipping corpora/ppattach.zip.\n",
            "[nltk_data]    | Downloading package reuters to /root/nltk_data...\n",
            "[nltk_data]    | Downloading package senseval to /root/nltk_data...\n",
            "[nltk_data]    |   Unzipping corpora/senseval.zip.\n",
            "[nltk_data]    | Downloading package state_union to /root/nltk_data...\n",
            "[nltk_data]    |   Unzipping corpora/state_union.zip.\n",
            "[nltk_data]    | Downloading package stopwords to /root/nltk_data...\n",
            "[nltk_data]    |   Unzipping corpora/stopwords.zip.\n",
            "[nltk_data]    | Downloading package swadesh to /root/nltk_data...\n",
            "[nltk_data]    |   Unzipping corpora/swadesh.zip.\n",
            "[nltk_data]    | Downloading package timit to /root/nltk_data...\n",
            "[nltk_data]    |   Unzipping corpora/timit.zip.\n",
            "[nltk_data]    | Downloading package treebank to /root/nltk_data...\n",
            "[nltk_data]    |   Unzipping corpora/treebank.zip.\n",
            "[nltk_data]    | Downloading package toolbox to /root/nltk_data...\n",
            "[nltk_data]    |   Unzipping corpora/toolbox.zip.\n",
            "[nltk_data]    | Downloading package udhr to /root/nltk_data...\n",
            "[nltk_data]    |   Unzipping corpora/udhr.zip.\n",
            "[nltk_data]    | Downloading package udhr2 to /root/nltk_data...\n",
            "[nltk_data]    |   Unzipping corpora/udhr2.zip.\n",
            "[nltk_data]    | Downloading package unicode_samples to\n",
            "[nltk_data]    |     /root/nltk_data...\n",
            "[nltk_data]    |   Unzipping corpora/unicode_samples.zip.\n",
            "[nltk_data]    | Downloading package webtext to /root/nltk_data...\n",
            "[nltk_data]    |   Unzipping corpora/webtext.zip.\n",
            "[nltk_data]    | Downloading package wordnet to /root/nltk_data...\n",
            "[nltk_data]    |   Unzipping corpora/wordnet.zip.\n",
            "[nltk_data]    | Downloading package wordnet_ic to /root/nltk_data...\n",
            "[nltk_data]    |   Unzipping corpora/wordnet_ic.zip.\n",
            "[nltk_data]    | Downloading package words to /root/nltk_data...\n",
            "[nltk_data]    |   Unzipping corpora/words.zip.\n",
            "[nltk_data]    | Downloading package maxent_treebank_pos_tagger to\n",
            "[nltk_data]    |     /root/nltk_data...\n",
            "[nltk_data]    |   Unzipping taggers/maxent_treebank_pos_tagger.zip.\n",
            "[nltk_data]    | Downloading package maxent_ne_chunker to\n",
            "[nltk_data]    |     /root/nltk_data...\n",
            "[nltk_data]    |   Unzipping chunkers/maxent_ne_chunker.zip.\n",
            "[nltk_data]    | Downloading package universal_tagset to\n",
            "[nltk_data]    |     /root/nltk_data...\n",
            "[nltk_data]    |   Unzipping taggers/universal_tagset.zip.\n",
            "[nltk_data]    | Downloading package punkt to /root/nltk_data...\n",
            "[nltk_data]    |   Unzipping tokenizers/punkt.zip.\n",
            "[nltk_data]    | Downloading package book_grammars to\n",
            "[nltk_data]    |     /root/nltk_data...\n",
            "[nltk_data]    |   Unzipping grammars/book_grammars.zip.\n",
            "[nltk_data]    | Downloading package city_database to\n",
            "[nltk_data]    |     /root/nltk_data...\n",
            "[nltk_data]    |   Unzipping corpora/city_database.zip.\n",
            "[nltk_data]    | Downloading package tagsets to /root/nltk_data...\n",
            "[nltk_data]    |   Unzipping help/tagsets.zip.\n",
            "[nltk_data]    | Downloading package panlex_swadesh to\n",
            "[nltk_data]    |     /root/nltk_data...\n",
            "[nltk_data]    | Downloading package averaged_perceptron_tagger to\n",
            "[nltk_data]    |     /root/nltk_data...\n",
            "[nltk_data]    |   Unzipping taggers/averaged_perceptron_tagger.zip.\n",
            "[nltk_data]    | \n",
            "[nltk_data]  Done downloading collection book\n",
            "[nltk_data] Downloading package gutenberg to /root/nltk_data...\n",
            "[nltk_data]   Package gutenberg is already up-to-date!\n",
            "[nltk_data] Downloading package genesis to /root/nltk_data...\n",
            "[nltk_data]   Package genesis is already up-to-date!\n",
            "[nltk_data] Downloading package inaugural to /root/nltk_data...\n",
            "[nltk_data]   Package inaugural is already up-to-date!\n",
            "[nltk_data] Downloading package nps_chat to /root/nltk_data...\n",
            "[nltk_data]   Package nps_chat is already up-to-date!\n",
            "[nltk_data] Downloading package webtext to /root/nltk_data...\n",
            "[nltk_data]   Package webtext is already up-to-date!\n",
            "[nltk_data] Downloading package treebank to /root/nltk_data...\n",
            "[nltk_data]   Package treebank is already up-to-date!\n"
          ],
          "name": "stdout"
        },
        {
          "output_type": "execute_result",
          "data": {
            "text/plain": [
              "True"
            ]
          },
          "metadata": {
            "tags": []
          },
          "execution_count": 5
        }
      ]
    },
    {
      "cell_type": "code",
      "metadata": {
        "id": "PjzgV6-u0X9s",
        "colab_type": "code",
        "colab": {
          "base_uri": "https://localhost:8080/",
          "height": 238
        },
        "outputId": "fba55991-42b5-422c-9658-96c7ad562060"
      },
      "source": [
        "from nltk.book import *"
      ],
      "execution_count": 6,
      "outputs": [
        {
          "output_type": "stream",
          "text": [
            "*** Introductory Examples for the NLTK Book ***\n",
            "Loading text1, ..., text9 and sent1, ..., sent9\n",
            "Type the name of the text or sentence to view it.\n",
            "Type: 'texts()' or 'sents()' to list the materials.\n",
            "text1: Moby Dick by Herman Melville 1851\n",
            "text2: Sense and Sensibility by Jane Austen 1811\n",
            "text3: The Book of Genesis\n",
            "text4: Inaugural Address Corpus\n",
            "text5: Chat Corpus\n",
            "text6: Monty Python and the Holy Grail\n",
            "text7: Wall Street Journal\n",
            "text8: Personals Corpus\n",
            "text9: The Man Who Was Thursday by G . K . Chesterton 1908\n"
          ],
          "name": "stdout"
        }
      ]
    },
    {
      "cell_type": "code",
      "metadata": {
        "id": "NqCcSKli1El7",
        "colab_type": "code",
        "colab": {
          "base_uri": "https://localhost:8080/",
          "height": 34
        },
        "outputId": "1614e2fd-3b3e-49ae-83f5-7a02272b7509"
      },
      "source": [
        "print(\"Number of Words in text2: {}\".format(len(text2)))"
      ],
      "execution_count": 7,
      "outputs": [
        {
          "output_type": "stream",
          "text": [
            "Number of Words in text2: 141576\n"
          ],
          "name": "stdout"
        }
      ]
    },
    {
      "cell_type": "code",
      "metadata": {
        "id": "QhfNGn421xd7",
        "colab_type": "code",
        "colab": {
          "base_uri": "https://localhost:8080/",
          "height": 34
        },
        "outputId": "3d63b0e2-eaca-41c1-bc14-338abc904ab9"
      },
      "source": [
        "print(\"Number of distinct word in text2: {}\".format(len(set(text2))))"
      ],
      "execution_count": 8,
      "outputs": [
        {
          "output_type": "stream",
          "text": [
            "Number of distinct word in text2: 6833\n"
          ],
          "name": "stdout"
        }
      ]
    },
    {
      "cell_type": "markdown",
      "metadata": {
        "id": "GAMNSUV55JZY",
        "colab_type": "text"
      },
      "source": [
        "\n",
        "\n",
        "5.   **Compare the lexical diversity scores for humor and romance fiction in Table 1-1. Which genre is more lexically diverse?**\n",
        "\n",
        "Answer: fiction:romance fiction is more lexically diverse.\n"
      ]
    },
    {
      "cell_type": "markdown",
      "metadata": {
        "id": "9Ox-YkOJ56EZ",
        "colab_type": "text"
      },
      "source": [
        "\n",
        "\n",
        "6.   **Produce a dispersion plot of the four main protagonists in *Sense and Sensibility*: Elinor, Marianne, Edward, and Willoughby. What can you observe about the different roles played by the males and females in this novel? Can you identify the couples?**\n",
        "\n"
      ]
    },
    {
      "cell_type": "code",
      "metadata": {
        "id": "Y2ynvH6Y299s",
        "colab_type": "code",
        "colab": {
          "base_uri": "https://localhost:8080/",
          "height": 295
        },
        "outputId": "7f22b9cf-5d75-44ab-c04c-913305ce7e1e"
      },
      "source": [
        "text2.dispersion_plot([\"Elinor\", \"Marianne\", \"Edward\", \"Willoughby\"])"
      ],
      "execution_count": 9,
      "outputs": [
        {
          "output_type": "display_data",
          "data": {
            "image/png": "[encoded data removed]",
            "text/plain": [
              "<Figure size 432x288 with 1 Axes>"
            ]
          },
          "metadata": {
            "tags": [],
            "needs_background": "light"
          }
        }
      ]
    },
    {
      "cell_type": "markdown",
      "metadata": {
        "id": "0PFB1ifO7od6",
        "colab_type": "text"
      },
      "source": [
        "\n",
        "6.   Answer: we can see the females name pop up more than males name. About if we can identify the couples, a think yes, Elinor and Marianne is Couple.\n",
        "\n",
        "\n",
        "\n"
      ]
    },
    {
      "cell_type": "markdown",
      "metadata": {
        "id": "8NsDVMwP6mwJ",
        "colab_type": "text"
      },
      "source": [
        "\n",
        "\n",
        "7.   **Find the collocations in text5**\n",
        "\n"
      ]
    },
    {
      "cell_type": "code",
      "metadata": {
        "id": "Hnhkok6i6keQ",
        "colab_type": "code",
        "colab": {
          "base_uri": "https://localhost:8080/",
          "height": 85
        },
        "outputId": "ab5aa910-9e86-4c1b-ddef-4facc0ae69d4"
      },
      "source": [
        "text5.collocations()"
      ],
      "execution_count": 10,
      "outputs": [
        {
          "output_type": "stream",
          "text": [
            "wanna chat; PART JOIN; MODE #14-19teens; JOIN PART; PART PART;\n",
            "cute.-ass MP3; MP3 player; JOIN JOIN; times .. .; ACTION watches; guys\n",
            "wanna; song lasts; last night; ACTION sits; -...)...- S.M.R.; Lime\n",
            "Player; Player 12%; dont know; lez gurls; long time\n"
          ],
          "name": "stdout"
        }
      ]
    },
    {
      "cell_type": "markdown",
      "metadata": {
        "id": "gncHP1le84iM",
        "colab_type": "text"
      },
      "source": [
        "\n",
        "\n",
        "8.   **Consider the following Python expression: len(set(text4)). State the purpose of this expression. Describe the two steps involved in perfoming thi computation.**\n",
        "\n",
        "Answer: Basically, this expression count the number of distinct words. The set() expression select all distinct word, and the len() get the number of distinct words.\n",
        "\n"
      ]
    },
    {
      "cell_type": "markdown",
      "metadata": {
        "id": "ORXRkdQc92bW",
        "colab_type": "text"
      },
      "source": [
        "\n",
        "\n",
        "9.   **Review Section 1.2 on lists and strings.**\n",
        "\n",
        "\n",
        "> **a) Define a string and assign it to a variable, e.g, my_string= \"My string\" (but put something more interesting in the string). Print the contents of this variable in two ways, first by simply typing the variable name and pressing Enter, then by using the print statement.**\n",
        "\n",
        "> **b) Try adding the string to itself using my_string + my_string, or multiplying it by a number, e.g., my_string \\* 3. Notice that the strings are joined together without any spaces. How could you fix this?**\n",
        "\n",
        "\n",
        "\n"
      ]
    },
    {
      "cell_type": "code",
      "metadata": {
        "id": "XdUQL4Xs8uJW",
        "colab_type": "code",
        "colab": {
          "base_uri": "https://localhost:8080/",
          "height": 37
        },
        "outputId": "f24456c8-ae94-46d8-ab01-639948a5daf8"
      },
      "source": [
        "my_string = \"stay hungry, stay foolish\"\n",
        "my_string"
      ],
      "execution_count": 11,
      "outputs": [
        {
          "output_type": "execute_result",
          "data": {
            "application/vnd.google.colaboratory.intrinsic+json": {
              "type": "string"
            },
            "text/plain": [
              "'stay hungry, stay foolish'"
            ]
          },
          "metadata": {
            "tags": []
          },
          "execution_count": 11
        }
      ]
    },
    {
      "cell_type": "code",
      "metadata": {
        "id": "hOaiDiiW_kfP",
        "colab_type": "code",
        "colab": {
          "base_uri": "https://localhost:8080/",
          "height": 34
        },
        "outputId": "7ab8c41e-54b6-456a-80fd-dcfecfcf8a9b"
      },
      "source": [
        "print(my_string)"
      ],
      "execution_count": 12,
      "outputs": [
        {
          "output_type": "stream",
          "text": [
            "stay hungry, stay foolish\n"
          ],
          "name": "stdout"
        }
      ]
    },
    {
      "cell_type": "code",
      "metadata": {
        "id": "tS5UbFSb_nRV",
        "colab_type": "code",
        "colab": {
          "base_uri": "https://localhost:8080/",
          "height": 54
        },
        "outputId": "5e947cc9-8d7c-47fb-b993-70cae1f19806"
      },
      "source": [
        "(my_string + ' ')* 3"
      ],
      "execution_count": 13,
      "outputs": [
        {
          "output_type": "execute_result",
          "data": {
            "application/vnd.google.colaboratory.intrinsic+json": {
              "type": "string"
            },
            "text/plain": [
              "'stay hungry, stay foolish stay hungry, stay foolish stay hungry, stay foolish '"
            ]
          },
          "metadata": {
            "tags": []
          },
          "execution_count": 13
        }
      ]
    },
    {
      "cell_type": "markdown",
      "metadata": {
        "id": "3AsMH8ntuM-G",
        "colab_type": "text"
      },
      "source": [
        "\n",
        "\n",
        "10.   **Define a variable *my_sent* to be a list of words, using the syntax my_sent = [\"My\", \"sent\"] (but with your own words, or a favorite saying).**\n",
        "\n",
        "\n",
        "\n",
        "> **a) Use ' '.join(my_sent) to convert this into a string.**\n",
        "\n",
        "> **b) Use split() to split the string back into the list form you had to start with.**\n",
        "\n",
        "\n"
      ]
    },
    {
      "cell_type": "code",
      "metadata": {
        "id": "nLjUptrj_uA4",
        "colab_type": "code",
        "colab": {
          "base_uri": "https://localhost:8080/",
          "height": 238
        },
        "outputId": "41c8629c-876c-447b-ae8f-496d34ae6244"
      },
      "source": [
        "my_sent = [\"I\", \"Love\", \"learn\", \"every\", \"day\", \"something\", \n",
        "           \"new\", \"that\", \"will\", \"impact\", \"for\", \"my\", \"life\"]\n",
        "my_sent"
      ],
      "execution_count": 14,
      "outputs": [
        {
          "output_type": "execute_result",
          "data": {
            "text/plain": [
              "['I',\n",
              " 'Love',\n",
              " 'learn',\n",
              " 'every',\n",
              " 'day',\n",
              " 'something',\n",
              " 'new',\n",
              " 'that',\n",
              " 'will',\n",
              " 'impact',\n",
              " 'for',\n",
              " 'my',\n",
              " 'life']"
            ]
          },
          "metadata": {
            "tags": []
          },
          "execution_count": 14
        }
      ]
    },
    {
      "cell_type": "code",
      "metadata": {
        "id": "mtrJM9P3xOAZ",
        "colab_type": "code",
        "colab": {
          "base_uri": "https://localhost:8080/",
          "height": 37
        },
        "outputId": "3a8557ad-c8ac-44bc-d953-35e749038b2c"
      },
      "source": [
        "my_sent =' '.join(my_sent)\n",
        "my_sent"
      ],
      "execution_count": 15,
      "outputs": [
        {
          "output_type": "execute_result",
          "data": {
            "application/vnd.google.colaboratory.intrinsic+json": {
              "type": "string"
            },
            "text/plain": [
              "'I Love learn every day something new that will impact for my life'"
            ]
          },
          "metadata": {
            "tags": []
          },
          "execution_count": 15
        }
      ]
    },
    {
      "cell_type": "code",
      "metadata": {
        "id": "KgOg_dgmxVWX",
        "colab_type": "code",
        "colab": {
          "base_uri": "https://localhost:8080/",
          "height": 238
        },
        "outputId": "3f5a0b47-5e40-42fb-a05d-5832e29d149d"
      },
      "source": [
        "my_sent = my_sent.split(' ')\n",
        "my_sent"
      ],
      "execution_count": 16,
      "outputs": [
        {
          "output_type": "execute_result",
          "data": {
            "text/plain": [
              "['I',\n",
              " 'Love',\n",
              " 'learn',\n",
              " 'every',\n",
              " 'day',\n",
              " 'something',\n",
              " 'new',\n",
              " 'that',\n",
              " 'will',\n",
              " 'impact',\n",
              " 'for',\n",
              " 'my',\n",
              " 'life']"
            ]
          },
          "metadata": {
            "tags": []
          },
          "execution_count": 16
        }
      ]
    },
    {
      "cell_type": "markdown",
      "metadata": {
        "id": "2hya39Eaxjva",
        "colab_type": "text"
      },
      "source": [
        "\n",
        "\n",
        "11.   **Define several variable containing lists of words, e.g., *phrase1*, *phrase2*, and so on. Join them together in various combinations (using the plus operator) to form whole sentences. What is the relationship between len(*phrase1* + *phrase2*) and len( *phrase1*) + len( *phrase2*)?**\n",
        "\n"
      ]
    },
    {
      "cell_type": "code",
      "metadata": {
        "id": "YgDcNVnXxhtT",
        "colab_type": "code",
        "colab": {
          "base_uri": "https://localhost:8080/",
          "height": 71
        },
        "outputId": "fd753576-a6ee-4ccc-fd04-006edbed174e"
      },
      "source": [
        "phrase1 = ' '.join(my_sent)\n",
        "phrase2 = (' '.join(my_sent)+' ') * 3\n",
        "print(phrase1)\n",
        "print(phrase2)"
      ],
      "execution_count": 17,
      "outputs": [
        {
          "output_type": "stream",
          "text": [
            "I Love learn every day something new that will impact for my life\n",
            "I Love learn every day something new that will impact for my life I Love learn every day something new that will impact for my life I Love learn every day something new that will impact for my life \n"
          ],
          "name": "stdout"
        }
      ]
    },
    {
      "cell_type": "code",
      "metadata": {
        "id": "CiE0i1YpyXeb",
        "colab_type": "code",
        "colab": {
          "base_uri": "https://localhost:8080/",
          "height": 34
        },
        "outputId": "2501d74d-a54b-4e78-ed33-a6bc2a89702e"
      },
      "source": [
        "len(phrase1 + phrase2)"
      ],
      "execution_count": 18,
      "outputs": [
        {
          "output_type": "execute_result",
          "data": {
            "text/plain": [
              "263"
            ]
          },
          "metadata": {
            "tags": []
          },
          "execution_count": 18
        }
      ]
    },
    {
      "cell_type": "code",
      "metadata": {
        "id": "vE7GSc7Hy69u",
        "colab_type": "code",
        "colab": {
          "base_uri": "https://localhost:8080/",
          "height": 34
        },
        "outputId": "04ed042f-be77-4e2b-80bb-244e6cc123f4"
      },
      "source": [
        "len(phrase1) + len(phrase2)"
      ],
      "execution_count": 19,
      "outputs": [
        {
          "output_type": "execute_result",
          "data": {
            "text/plain": [
              "263"
            ]
          },
          "metadata": {
            "tags": []
          },
          "execution_count": 19
        }
      ]
    },
    {
      "cell_type": "markdown",
      "metadata": {
        "id": "2I3R5uukzAZ-",
        "colab_type": "text"
      },
      "source": [
        "\n",
        "\n",
        "12.   **Consider the following two expressions, which have the same value. Which one typically be more relevant in NLP? Why?**\n",
        "\n",
        "> **a) \"Monty Python\"[6:12]**\n",
        "\n",
        "> **b) [\"Monty\", \"Python\"][1]**\n",
        "\n",
        "Answer: I believe is the second one, because we can get word by word and analyse more precisely\n",
        "\n"
      ]
    },
    {
      "cell_type": "markdown",
      "metadata": {
        "id": "o6CuXn5u0Db9",
        "colab_type": "text"
      },
      "source": [
        "\n",
        "\n",
        "13. **We have seen how to represent a sentence as a list of words, where each word is a sequence of characters. What does *sent1[2][2]* do? Why? Experiment with other index values.**\n",
        "\n"
      ]
    },
    {
      "cell_type": "code",
      "metadata": {
        "id": "cfLnuDrey9k6",
        "colab_type": "code",
        "colab": {
          "base_uri": "https://localhost:8080/",
          "height": 37
        },
        "outputId": "d7751c88-1e5f-41ed-ea02-45c24e1a7c9d"
      },
      "source": [
        "# get the third letter of my third word of my list.\n",
        "my_sent[2][2]"
      ],
      "execution_count": 20,
      "outputs": [
        {
          "output_type": "execute_result",
          "data": {
            "application/vnd.google.colaboratory.intrinsic+json": {
              "type": "string"
            },
            "text/plain": [
              "'a'"
            ]
          },
          "metadata": {
            "tags": []
          },
          "execution_count": 20
        }
      ]
    },
    {
      "cell_type": "code",
      "metadata": {
        "id": "KnRVhsX60qTx",
        "colab_type": "code",
        "colab": {
          "base_uri": "https://localhost:8080/",
          "height": 37
        },
        "outputId": "9e6b4782-37e7-421e-9da0-caf1f9c3f1b7"
      },
      "source": [
        "# get the first letter of my fitth word of my list.\n",
        "my_sent[4][0]"
      ],
      "execution_count": 21,
      "outputs": [
        {
          "output_type": "execute_result",
          "data": {
            "application/vnd.google.colaboratory.intrinsic+json": {
              "type": "string"
            },
            "text/plain": [
              "'d'"
            ]
          },
          "metadata": {
            "tags": []
          },
          "execution_count": 21
        }
      ]
    },
    {
      "cell_type": "markdown",
      "metadata": {
        "id": "IX38lW8I1Trx",
        "colab_type": "text"
      },
      "source": [
        "\n",
        "15.  **Review the discussion of conditional in Section 1.4. Find all words in the Chat Corpus (text5) starting with the letter *b*. Show them in alphabetical order.**\n",
        "\n"
      ]
    },
    {
      "cell_type": "code",
      "metadata": {
        "id": "Bd5fm5IC1Els",
        "colab_type": "code",
        "colab": {}
      },
      "source": [
        "alphabetic_order = set([word for word in text5 if word >= 'b'])\n",
        "alphabetic_order = sorted(alphabetic_order, key= str.lower)"
      ],
      "execution_count": 22,
      "outputs": []
    },
    {
      "cell_type": "code",
      "metadata": {
        "id": "UpFfh1hD1yD7",
        "colab_type": "code",
        "colab": {
          "base_uri": "https://localhost:8080/",
          "height": 71
        },
        "outputId": "47adfd28-14af-4d57-eb4f-620795409d81"
      },
      "source": [
        "print(alphabetic_order)\n",
        "print(len(alphabetic_order))"
      ],
      "execution_count": 23,
      "outputs": [
        {
          "output_type": "stream",
          "text": [
            "['b', 'b-day', 'b/c', 'b4', 'babay', 'babble', 'babblein', 'babe', 'babes', 'babi', 'babies', 'babiess', 'baby', 'babycakeses', 'bachelorette', 'back', 'backatchya', 'backfrontsidewaysandallaroundtheworld', 'backroom', 'backup', 'bacl', 'bad', 'bag', 'bagel', 'bagels', 'bahahahaa', 'bak', 'baked', 'balad', 'balance', 'balck', 'ball', 'ballin', 'balls', 'ban', 'band', 'bandito', 'bandsaw', 'banjoes', 'banned', 'baord', 'bar', 'barbie', 'bare', 'barely', 'bares', 'barfights', 'barks', 'barn', 'barrel', 'base', 'bases', 'basically', 'basket', 'battery', 'bay', 'bbbbbyyyyyyyeeeeeeeee', 'bbiam', 'bbl', 'bbs', 'bc', 'be', 'beach', 'beachhhh', 'beam', 'beams', 'beanbag', 'beans', 'bear', 'bears', 'beat', 'beaten', 'beatles', 'beats', 'beattles', 'beautiful', 'because', 'beckley', 'become', 'bed', 'bedford', 'bedroom', 'beeeeehave', 'beeehave', 'been', 'beer', 'before', 'beg', 'begin', 'behave', 'behind', 'bein', 'being', 'beleive', 'believe', 'belive', 'bell', 'belly', 'belong', 'belongings', 'ben', 'bend', 'benz', 'bes', 'beside', 'besides', 'best', 'bet', 'betrayal', 'betta', 'better', 'between', 'beuty', 'bf', 'bi', 'biatch', 'bible', 'biebsa', 'bied', 'big', 'bigest', 'biggest', 'biiiatch', 'bike', 'bikes', 'bikini', 'bio', 'bird', 'birfday', 'birthday', 'bisexual', 'bishes', 'bit', 'bitch', 'bitches', 'bitdh', 'bite', 'bites', 'biyatch', 'biz', 'bj', 'black', 'blade', 'blah', 'blank', 'blankie', 'blazed', 'bleach', 'blech', 'bless', 'blessings', 'blew', 'blind', 'blinks', 'bliss', 'blocking', 'bloe', 'blood', 'blooded', 'bloody', 'blow', 'blowing', 'blowjob', 'blowup', 'blue', 'blueberry', 'bluer', 'blues', 'blunt', 'board', 'bob', 'bodies', 'body', 'boed', 'boght', 'boi', 'boing', 'boinked', 'bois', 'bomb', 'bone', 'boned', 'bones', 'bong', 'boning', 'bonus', 'boo', 'booboo', 'boobs', 'book', 'boom', 'boooooooooooglyyyyyy', 'boost', 'boot', 'bootay', 'booted', 'boots', 'booty', 'border', 'borderline', 'bored', 'boredom', 'boring', 'born', 'born-again', 'bosom', 'boss', 'bossy', 'bot', 'both', 'bother', 'bothering', 'bottle', 'bought', 'bounced', 'bouncer', 'bouncers', 'bound', 'bout', 'bouts', 'bow', 'bowl', 'box', 'boy', 'boyfriend', 'boys', 'bra', 'brad', 'brady', 'brain', 'brakes', 'brass', 'brat', 'brb', 'brbbb', 'bread', 'break', 'breaks', 'breath', 'breathe', 'bred', 'breeding', 'bright', 'brightened', 'bring', 'brings', 'bro', 'broke', 'brooklyn', 'brother', 'brothers', 'brought', 'brown', 'brrrrrrr', 'bruises', 'brunswick', 'brwn', 'btw', 'bucks', 'buddyyyyyy', 'buff', 'buffalo', 'bug', 'bugs', 'buh', 'build', 'builds', 'built', 'bull', 'bulls', 'bum', 'bumber', 'bummer', 'bumped', 'bumper', 'bunch', 'bunny', 'burger', 'burito', 'burned', 'burns', 'burp', 'burpin', 'burps', 'burried', 'burryed', 'bus', 'buses', 'bust', 'busted', 'busy', 'but', 'butt', 'butter', 'butterscotch', 'button', 'buttons', 'buy', 'buying', 'bwahahahahahahahahahaha', 'by', 'byb', 'bye', 'byeee', 'byeeee', 'byeeeeeeee', 'byeeeeeeeeeeeee', 'byes', 'c', \"c'm\", 'ca', 'caan', 'cabbage', 'caca', 'caint', 'caiuse', 'cakes', 'cal', 'cali', 'call', 'called', 'callifornia', 'calling', 'calls', 'calm', 'cam', 'came', 'camel', 'cams', 'can', 'canada', 'canadaian', 'canadain', 'canadian', 'cancer', 'candy', 'canned', 'cannot', 'cant', 'capab;e', 'capable', 'caps', 'car', 'card', 'cardinals', 'care', 'careful', 'carefully', 'cares', 'carolina', 'carpet', 'carry', 'carrying', 'cars', 'case', 'cash', 'cast', 'casts', 'cat', 'catastrophic', 'catch', 'catches', 'categories', 'caught', 'cause', 'caused', 'caution', 'cell', 'center', 'cepn', 'cereals', 'cessation', 'chair', 'chance', 'change', 'changed', 'changing', 'channel', 'chanop', 'chanowner', 'chant', 'chapter', 'charge', 'charger', 'charlie', 'charm', 'chase', 'chat', 'chatland', 'chatr', 'chatroom', 'chats', 'chatt', 'chattanooga', 'chatted', 'chatter', 'chattin', 'chatting', 'chcken', 'cheaking', 'cheap', 'cheating', 'check', 'checkin', 'checking', 'checks', 'cheep', 'cheer', 'cheers', 'cheking', 'cherry', 'chest', 'chews', 'chica', 'chick', 'chicken', 'chics', 'chik', 'child', 'children', 'chilly', 'china', 'chineese', 'chinese', 'chip', 'chit', 'cho-co-la-te', 'cho-co-late', 'choc', 'chocha', 'choco', 'chococake', 'chocolate', 'choice', 'choices', 'choke', 'chokes', 'choose', 'chopped', 'chops', 'chp', 'christ', 'christian', 'christianity', 'chronic', 'chucking', 'chuckle', 'chuckles', 'chunks', 'churches', 'ciao', 'cigarette', 'cigars', 'ciggareets', 'cingular', 'circle', 'city', 'ck', 'claire', 'clap', 'class', 'classic', 'classroom', 'claws', 'clay', 'clear', 'cleared', 'clearly', 'clicked', 'client', 'clients', 'climate', 'cline', 'clinicals', 'clock', 'clooney', 'close', 'closes', 'closet', 'clothes', 'cloud', 'clown', 'club', 'clubs', 'clue', 'cmon', 'cnnecticut', 'co', 'co op', 'co-op', 'coast', 'coastal', 'coat', 'cock', 'coconuts', 'coem', 'coexistence', 'coffe', 'coffee', 'coggieeee', 'coherent', 'cold', 'collect', 'college', 'color', 'colors', 'column', 'com', 'combo', 'come', 'comenting', 'comes', 'comfy', 'comin', 'coming', 'commanded', 'comment', 'comments', 'common', 'comon', 'comp', 'complain', 'complains', 'completly', 'complex', 'complicated', 'compoud', 'comprende', 'comps', 'computer', 'computers', 'computor', 'con', 'conceited', 'concern', 'concernin', 'concerning', 'concrete', 'condition', 'confessed', 'confused', 'confusing', 'confusting', 'congrat', 'congrats', 'congressman', 'connection', 'considered', 'considering', 'console', 'conspiracy', 'constituents', 'construction', 'consultant', 'consuming', 'contact', 'contagious', 'contast', 'contemplating', 'contented', 'contribute', 'control', 'controll', 'controllers', 'controllin', 'controlling', 'conversation', 'converse', 'conversion', 'convinced', 'convo', 'conway', 'cook', 'cookie', 'cookies', 'cooking', 'cool', 'cool1024', 'coolcat', 'cooler', 'coonarsee', 'cooooooooookiiiiiiiiiiiieeeeeeeeeeee', 'cooter', 'cop', 'copone', 'cops', 'corn', 'corner', 'corny', 'correction', 'cos', 'cost', 'costumes', 'cotton', 'cottons', 'couch', 'coudl', 'cough', 'coughed', 'coughs', 'cougs', 'could', 'couldnt', 'counter', 'country', 'counts', 'couple', 'coupons', 'course', 'courst', 'courtesy', 'courtney', 'cousin', 'cover', 'covered', 'covers', 'cow', 'coworkers', 'cpr', 'crack', 'cramp', 'cramps', 'crap', 'crashed', 'crazy', 'cream', 'creative', 'credit', 'creme', 'crib', 'cries', 'cripes', 'cripos', 'cris-cross', 'crisis', 'criss', 'criss-cross', 'crop', 'crossed', 'crosses', 'crowded', 'cruise', 'crust', 'crusty', 'cry', 'crying', 'cuddle', 'cuddlicious', 'cuffed', 'cums', 'cup', 'cupper', 'cuppers', 'cure', 'curious', 'curls', 'current', 'currious', 'cus', 'cusion', 'cuss', 'cut', 'cute', 'cute.-ass', 'cuteness', 'cutes', 'cutie', 'cutting', 'cuz', 'cya', 'cyas', 'cyb3r', 'cyb3r-lover', 'cyber', 'cyber.', \"cyberin'\", 'cyclone', 'czeching', 'd', 'd=', 'da', 'dabble', 'dad', 'daft', 'dahlin', 'dam', 'damn', 'damnit', 'dance', 'dances', 'dancing', 'danes', 'dang', 'danger', 'dangit', 'daniel', 'danny', 'dark', 'darlin', 'darling', 'darlings', 'darwin', 'dat', 'date', 'dated', 'dating', 'daughter', 'daughters', 'davis', 'dawg', 'day', 'days', 'dayum', 'dd', 'de', 'de-tubetop', 'dead', 'deaf', 'deal', 'deals', 'dear', 'death', 'deaths', 'decades', 'deceived', 'decent', 'decided', 'deciding', 'declaw', 'declawed', 'deep', 'deeper', 'deeply', 'definately', 'definitely', 'definitley', 'defragging', 'defrags', 'degrees', 'deleware', 'deliverance', 'delivers', 'dem', 'demand', 'democrats', 'denial', 'denomination', 'dentist', 'denzel', 'deop', 'depeche', 'depending', 'depends', 'depressant', 'depressed', 'depression', 'descriminate', 'desert', 'desire', 'despie', 'despises', 'destiny', 'destruction', 'detroit', 'development', 'devil', 'devotion', 'dick', 'did', 'didnt', 'didnts', 'die', 'died', 'diego', 'dies', 'difference', 'different', 'differently', 'diggin', 'dik', 'dildo', 'dinner', 'dint', 'dirrrrty', 'dirt', 'dirty', 'dis', 'disagree', 'disappointed', 'disc', 'discretion', 'disease', 'diseast', 'disgusting', 'dislocated', 'disocvered', 'dispatcher', 'dissing', 'distance', 'distracted', 'distrustful', 'disturbing', 'ditto', 'divorced', 'dixie', 'dizzy', 'dj', 'dl', 'dman', 'do', 'dobson', 'doc', 'docs', 'doctor', 'doe', 'does', 'doesnt', 'dog', 'doggies', 'dogs', 'doin', \"doin'\", 'doing', 'dojn', 'dokey', 'doll', 'dollars', 'dolls', 'done', 'donno', 'dont', 'dontcha', 'donuts', 'doodle', 'doody', 'door', 'doors', 'dork', 'dotn', 'double', 'doublewide', 'doubt', 'douche', 'douchebag', 'doupt', 'down', 'downloaded', 'downloading', 'downnnnnn', 'downs', 'downtown', 'dr', 'dragged', 'drags', 'drama', 'drank', 'dratts', 'draw', 'drawers', 'drawn', 'dreaded', 'dream', 'dreammm', 'dreams', 'dressed', 'drew', 'drifter', 'drink', 'drinking', 'drinks', 'drive', 'driveby', 'drivers', 'drivin', 'drools', 'drop', 'dropped', 'drops', 'drug', 'drugs', 'druid', 'drunk', 'dry', 'dryer', 'dsklgjsdk', 'du', 'ducking', 'dude', 'dueling', 'duet', 'duh', 'dum', 'dumb', 'dumbass', 'dummmm', 'dump', 'dun', 'dunkin', 'dunno', 'during', 'dust', 'dya', 'dyed', 'dyslexic', 'e', \"e'wjfghky\", 'e-bay', 'e-herpes', 'e-husband', 'e-mail', 'e-v-e-r-y', 'e1', 'each', 'ear', 'early', 'early20s', 'earplugs', 'earrings', 'ears', 'easier', 'east', 'easy', 'eat', 'eating', 'eats', 'eay', 'ebay', 'ed', 'edgewood', 'edmonton', 'eeeeeeeeewwwwwwww', 'eeeek', 'eeek', 'eeekk', 'eeewww', 'eeewwwwww', 'eeww', 'effort', 'egg', 'eh', 'ehh', 'eighth', 'either', 'eitther', 'el', 'elbows', 'elbowS', 'elected', 'election', 'elections', 'electric', 'elevation', 'elle', 'ello', 'elo', 'else', 'elsewhere', 'elvis', 'em', 'email', 'emergency', 'employed', 'empty', 'enable', 'encore', 'end', 'endless', 'energy', 'eng', 'england', 'english', 'enjoy', 'enjoys', 'enough', 'ensure', 'enter', 'enters', 'entertain', 'entertaining', 'entitled', 'enuf', 'enuff', 'ep', 'equal', 'er', 'ere', 'eric', 'erics', 'erm', 'erotic', 'eroticaust', 'errrrr', 'es', 'escaped', 'eskimo', 'especially', 'essentially', 'este', 'esteem', 'estefan', 'estra', 'ether', 'euphamisms', 'euphemism', 'european', 'eva', 'evah', 'even', 'evening', 'ever', 'everbody', 'everone', 'evertonr', 'every', 'every1', 'everybody', 'everyday', 'everyone', 'everything', 'evil', 'ewedding', 'eww', 'ewww', 'ewwww', 'ewwwww', 'ewwwwww', 'ewwwwwww', 'ex', \"ex's\", 'exactly', 'excellent', 'except', 'exception', 'exchange', 'exchanged', 'exchanging', 'excitement', 'excitin', 'excuuuuuuse', 'exit', 'expect', 'expensive', 'experience', 'experimenting', 'expression', 'extensions', 'extras', 'exwife', 'eye', 'eyes', 'f', 'f**kalicious', 'f*cktards', 'f-ing', 'f.', 'f.b.i.', 'fabric', 'face', 'facilitated', 'faint', 'faints', 'fair', 'fake', 'fall', 'falling', 'fallout', 'falls', 'fallz', 'family', 'famous', 'fan', 'fantastic', 'fantastical', 'fantasy', 'far', 'farmer', 'farms', 'fart', 'farting', 'farts', 'fascination', 'fascist', 'fast', 'faster', 'fat', 'fault', 'fav', 'favorite', 'fawk', 'fawked', 'fawker', 'fck', 'fear', 'feat', 'febe', 'fee', 'feeds', 'feel', 'feeling', 'feelings', 'feels', 'feet', 'fella', 'fellow', 'fellows', 'felt', 'female', 'females', 'femine', 'fenks', 'fer', 'fetterline', 'fettish', 'few', 'fiance', 'fiddles', 'field', 'fight', 'fighter', 'fighting', 'figure', 'figured', 'files', 'filled', 'fillin', 'filthy', 'finally', 'financial', 'find', 'finding', 'finds', 'fine', 'finers', 'finger', 'fingers', 'finish', 'finished', 'fir', 'fire', 'fired', 'firs', 'first', 'fish', 'fishercat', 'fishercats', 'fishin', 'fit', 'fitness', 'fits', 'five', 'fix', 'fixed', 'fkajslf', 'fl', 'flame', 'flashed', 'flattered', 'flavor', 'flavors', 'flavour', 'flaw', 'flesh', 'flight', 'flippin', 'flirting', 'flirts', 'fliuds', 'floating', 'flooder', 'flooding', 'floor', 'flops', 'florida', 'flow', 'flower', 'fluids', 'fly', 'fo', 'fock', 'folks', 'follow', 'following', 'fongul', 'food', 'fool', 'foot', 'football', 'foothills', 'footprints', 'for', 'foreplay', 'forever', 'forget', 'forgets', 'forgive', 'forgot', 'forgotten', 'form', 'former', 'forwads', 'forward', 'forwards', 'fot', 'found', 'four', 'fourth', 'foxes', 'fractured', 'fragged', 'fraggle', 'frags', 'frankly', 'freaing', 'freak', 'freaked', 'freakin', 'freaking', 'freakishly', 'freaks', 'free', 'freeeezinggg', 'freeezinggggg', 'freind', 'french', 'frenchkiss', 'friend', 'friendly', 'friends', 'fries', 'frm', 'from', 'front', 'frown', 'frozen', 'frst', 'fruit', 'fruity', 'frustrating', 'ft', 'ft.', 'fu', 'fuck', 'fucker', 'fuckin', 'fucking', 'fucks', 'fuddahnut', 'fuked', 'fulfilling', 'full', 'fun', 'funny', 'furniture', 'further', 'futurama', 'future', 'fwd', \"g'\", 'ga', 'gaaaaaaay', 'gagas', 'gags', 'gained', 'gal', 'gals', 'game', 'gamefly', 'games', 'gaming', 'garciae', 'garlic', 'gas', 'gaspppp', 'gator', 'gawd', 'gay', 'gayoholic', 'gays', 'gear', 'gee', 'geeks', 'gees', 'geesh', 'geeshh', 'geeshhh', 'geessh', 'geez', 'geeze', 'geeZe', 'genital', 'gente', 'gentlemen', 'gently', 'george', 'get', 'gets', 'gettign', 'gettin', 'getting', 'gettysburg', 'gezzz', 'gf', 'gguyyyzzzz', 'ghet', 'ghost', 'gift', 'gigantic', 'giggles', 'giggling', 'gimp', 'girl', 'girlfriend', 'girls', 'git', 'giva', 'give', 'given', 'gives', 'giving', 'givs', 'glad', 'glitches', 'gloria', 'glorious', 'gm', 'gn', 'go', 'god', 'goddamn', 'goes', 'goin', 'going', 'gold', 'golden', 'golf', 'gomer', 'gone', 'goneee', 'gonna', 'good', 'goodbye', 'goodie', 'goodness', 'goodnight', 'goodnite', 'goody', 'goof', 'goofy', 'google', 'gooo', 'goooooo', 'gosh', 'got', 'gotaa', 'goths', 'gotta', 'gottsa', 'grabs', 'graciously', 'grade', 'grammar', 'graphics', 'grassy', 'gray', 'grea', 'great', 'green', 'greeter', 'gret', 'grettings', 'grew', 'grief', 'grilfriend', 'grin', 'grins', 'gritt', 'gritty', 'grope', 'ground', 'growing', 'grown', 'grrl', 'grrr', 'grrrrrring', 'grrrrrrrr', 'grrrrrrrrr', 'grrrrrrrrrrrrrrrrr', 'gtg', 'guard', 'guess', 'guessing', 'guest', 'guide', 'guitar', 'gum', 'gun', 'guns', 'gurlie', 'gurls', 'gurrrrl', 'guts', 'guy', 'guys', 'guyz', 'guyzz', 'h', 'h.s', 'ha', 'haaa', 'had', 'hafta', 'hah', 'haha', 'hahaaa', 'hahah', 'hahaha', 'hahahaa', 'hahahah', 'hahahaha', 'hahahaHA', 'hahahahaaa', 'hahahahahaha', 'hahahahahahaha', 'hahahahahahahahahahahahahahahaha', 'hahahhahah', 'hahhahahaha', 'hail', 'hair', 'hairs', 'half', 'halfa', 'hall', 'halloween', 'halo', 'hammock', 'hand', 'handheld', 'handing', 'handle', 'hands', 'handsome', 'handy', 'handyMan', 'hang', 'hangin', 'hanging', 'hangs', 'hank', 'happen', 'happend', 'happened', 'happening', 'happens', 'happily', 'happpy', 'happy', 'hard', 'harder', 'hardly', 'hardware', 'harley', 'harsh', 'hartford', 'harvest', 'has', 'hassle', 'hat', 'hatchet', 'hate', 'hater', 'haters', 'hates', 'hav', 'have', 'havent', 'havin', 'having', 'haw', 'hawaii', 'hawt', 'hawT', 'haze', 'hazy', 'hb', 'he', 'head', 'headach', 'headed', 'header', 'heading', 'headlights', 'heads', 'heal', 'hear', 'heard', 'hearin', 'hearing', 'heart', 'heartbreaker', 'hearthechatters', 'heat', 'heaven', 'heavens', 'heck', 'hedge', 'heee', 'heeee', 'heeeey', 'heeheeheeheeheehee', 'heh', 'hehe', 'heheh', 'hehehe', 'hehehee', 'hehehehe', 'hel', 'hell', 'hello', 'helloooo', 'hellos', 'help', 'helped', 'helpful', 'helping', 'hendrix', 'hep', 'her', 'herd', 'here', 'herE', 'heroes', 'herpes', 'herself', 'hertory', 'hes', 'hey', 'heya', 'heyheyhey', 'heyy', 'heyyy', 'heyyyy', 'heyyyyy', 'heyyyyyy', 'heyyyyyyyy', 'heyyyyyyyyy', 'heyyyyyyyyyy', 'heyyyyyyyyyyyyyy', 'hfglhs', 'hgey', 'hgfhgfjgf', 'hhaaaaatttee', 'hheeyy', 'hheeyyy', 'hhehe', 'hI', 'hi', 'hick', 'hickory', 'hide', 'hiding', 'high', 'highway', 'hih', 'hii', 'hiii', 'hiiii', 'hilarious', 'hill', 'him', 'himself', 'hint', 'hio', 'hiom', 'hired', 'his', 'hissy', 'history', 'hit', 'hits', 'hitting', 'hives', 'hix', 'hiy', 'hiya', 'hiYas', 'hm', 'hmm', 'hmmm', 'hmmmm', 'hmmmmm', 'hmmmmmmm', 'hmmmmmmmm', 'hmmmmmmmmmm', 'hmph', 'ho', 'hog', 'hogs', 'hohohohhohhoo', 'hoi', 'hola', 'hold', 'holdin', 'holds', 'holiday', 'holla', 'holocaust', 'holy', 'hom', 'home', 'homeade', 'homeboys', 'homes', 'homework', 'homicide', 'homies', 'homophobic', 'homosexual', 'hon', 'honest', 'honesty', 'honey', 'hong', 'hoo', 'hook', 'hooo', 'hooooo', 'hop', 'hope', 'hopefully', 'hopin', 'hoping', 'horny', 'horriable', 'horrible', 'horrid', 'horrified', 'horror', 'horse', 'hot', 'hots', 'hott', 'hottie', 'hotties', 'hour', 'hours', 'house', 'houses', 'housewife', 'how', 'howdy', 'however', 'howl', 'hows', 'howz', 'hPa', 'hr', 'hrs', 'http', 'http://forums.talkcity.com/tc-adults/start ', 'http://www.shadowbots.com', 'hu', 'hub', 'hubby', 'hubbys', 'hug', 'huge', 'hugggs', 'hugging', 'huggs', 'huggss', 'hugs', 'hugss', 'hugsss', 'hugsssss', 'hugsssssssss', 'hugzzzzzzz', 'huh', 'human', 'humanity', 'humid', 'humm', 'humor', 'hump', 'humple', 'hun', 'hungry', 'hunters', 'hurling', 'hurr', 'hurry', 'hurt', 'hurting', 'husband', 'huskers', 'husteling', 'huuuuuuuuuuuuuuuuuuuuuuuuuuuuuuuuuuugZ', 'hx', 'hyy', 'i', 'iamahotnip', 'iamahotniplickme', 'iamahotnipwithhotnippics', 'iamahotnipwithpics', 'ice', 'icky', 'id', 'idea', 'identity', 'idiot', 'idiots', 'idnt', 'if', 'ifr', \"iggy'd\", 'ignore', 'ignored', 'ignoring', 'ihavehotnips', 'il', 'ill', 'illin', 'illinois', 'im', 'ima', 'imaginary', 'imagine', 'imhave', 'imma', 'immediate', 'immersed', 'impaired', 'impared', 'important', 'impossible', 'impressed', 'impression', 'in', 'inch', 'included', 'incoming', 'indeed', 'individual', 'indoor', 'infection', 'infor', 'information', 'ing', 'inhales', 'inheritance', 'injureis', 'innit', 'innocense', 'innocent', 'innocently', 'insanity', 'inside', 'instead', 'insuklting', 'intelligent', 'interested', 'interesting', 'internet', 'interruption', 'intersting', 'interview', 'into', 'invention', 'invisiable', 'invisible', 'invite', 'inviting', 'involved', 'involves', 'irl', 'is', 'island', 'isnt', 'issue', 'issues', 'it', \"it's\", 'italian', 'italians', 'italy', 'itch', 'itches', 'items', 'its', 'itself', 'itz', 'ive', 'iz', 'j', 'j/k', 'j/p', 'ja', 'jack', 'jackie', 'jacking', 'jail', 'jajajaaa', 'james', 'jammed', 'jammers', 'jammies', 'japanese', 'jar', 'jeans', 'jeep', 'jeff', 'jerimiah', 'jerk', 'jerkettes', 'jerks', 'jesus', 'jimmy', 'jk', 'job', 'john', 'johnson', 'johny', 'joined', 'joining', 'joke', 'jokes', 'joking', 'joy', 'jr', 'jucilicious', 'jude', 'judge', 'judges', 'juice', 'jujubees', 'jump', 'jumpin', 'jumps', 'jungle', 'junk', 'jus', 'jush', 'just', 'jw', 'k', \"k's\", 'k-mart', 'kansas', 'kawing', 'kc', 'keep', 'keeps', 'kellogs', 'ken', 'kennedy', 'kent', 'kentucky', 'kep', 'kept', 'kev', 'kewl', 'key', 'keyboard', 'keys', 'kick', 'kickass', 'kicked', 'kicks', 'kid', 'kiddin', 'kidding', 'kidnaped', 'kids', 'kill', 'killed', 'killeded', 'killing', 'kina', 'kind', 'kinda', 'king', 'kinky', 'kiss', 'kissed', 'kisses', 'kissing', 'kissy', 'kit', 'kitchen', 'kitten', 'kitty', 'kmph', 'knee', 'knees', 'kneess', 'kneez', 'kness', 'knew', 'knock', 'knocked', 'knockin', 'know', 'known', 'knows', 'knuckles', 'knw', 'kold', 'kong', 'kookies', 'kool', 'kts', 'ky', 'l', 'la', 'label', 'lacking', 'ladies', 'ladis', 'lady', 'ladz', 'laffin', 'laffs', 'lag', 'lagging', 'laguna', 'laid', 'lake', 'lala', 'lambergini', 'lamborghini', 'lamborgini', 'lame', 'land', 'lap', 'lapd', 'laptop', 'large', 'last', 'lasts', 'lasts30', 'late', 'later', 'laters', 'laterssss', 'latest', 'latina', 'latins', 'laugh', 'laughed', 'laughin', 'laughing', 'laughs', 'laundry', 'lavendar', 'law', 'lawl', 'lazy', 'lb', 'lbs', 'ldskdlsf', 'lead', 'leaders', 'leading', 'leakin', 'learn', 'leash', 'least', 'leave', 'leaves', 'leaving', 'left', 'leg', 'legs', 'les', 'lesbian', 'lesbo', 'lesson', 'let', 'lets', 'level', 'lex', 'lez', 'lick', 'licks', 'lie', 'lies', 'life', 'light', 'lights', 'like', 'liked', 'likes', 'liking', 'lil', 'limit', 'limits', 'limp', 'lincoln', 'line', 'lingo', 'lip', 'lipstick', 'lisa', 'list', 'listen', 'listenin', 'listening', 'listens', 'lists', 'litening', 'literature', 'little', 'live', 'lived', 'lives', 'livin', 'living', 'lix', 'lixxx', 'll', 'lllllllliiiiiiiiiikeee', 'llloooozzzzeeerrrrzzzzzzzzzzzzzzzzzzzzzzzzzzzzzzzzzzzzzzzzzzzzzzzzz', 'lmao', 'lmaoo', 'lmaooo', 'lmaoooo', 'lmaooooo', 'lmfao', 'loaded', 'loc', 'local', 'log', 'lois', 'lol', 'lol.', 'lolol', 'lolololll', 'lonely', 'long', 'longer', 'look', 'looked', 'lookin', 'looking', 'looks', 'lool', 'loosen', 'lord', 'lose', 'loser', 'losing', 'loss', 'lost', 'losted', 'lot', 'lots', 'lotsa', 'lotta', 'loud', 'louis', 'louisianna', 'love', 'love4s', 'loved', 'loveing', 'lovelies', 'loveliest', 'lovely', 'lover', 'lovers', 'loves', 'lovin', 'low', 'lthen', 'ltnc', 'ltns', 'ltnsea', 'ltr', 'lubbs', 'lube', 'lucifer', 'lucifuge', 'luck', 'lucky', 'lucy-fur', 'lunch', 'lung', 'lurch', 'lurkin', 'lurks', 'lust', 'luv', 'luvs', 'lyin', 'lying', 'lysol', 'm', 'ma', 'mac', 'macho', 'mad', 'maddish', 'made', 'magical', 'magine', 'magnet', 'mah', 'mahn', 'maidstone', 'main', 'maine', 'mainland', 'major', 'make', 'makes', \"makin'\", 'making', 'male', 'males', 'mama', 'mame', 'mami', 'man', 'manage', 'mang', 'mango', 'manhattan', 'maniacal', 'manners', 'manson', 'many', 'margarita', 'marilyn', 'mark', 'marked', 'marriage', 'married', 'marry', 'martin', 'martini', \"martini's\", 'martinis', 'mary', 'maryland', 'mass', 'massage', 'massaged', 'masturbating', 'match', 'match.', 'matrix', 'matter', 'mature', 'mauh', 'may', 'maybe', 'mcgraw', 'md', 'me', 'me/', 'mean', 'means', 'meant', 'meat', 'medicine', 'medium', 'meds', 'meeeeeeeeeeeee', 'meet', 'meeting', 'member', 'memories', 'men', 'mena', 'menu', 'mercedes', 'mercy', 'meredith', 'mess', 'messages', 'messed', 'messenger', 'met', 'metal', 'metallica', 'mexican', 'mexicans', 'meyooky', \"mf'er\", 'mhm', 'mi', 'michigan', 'microwave', 'middle', 'midgets', 'might', 'miiiiiiiiiiiiinnnnnnnnnnneeeeeeeeee', 'miiiiiinnnnnnnnnneeeeeeee', 'mike', 'mikeeeeeeeeeeeeeeeeeeeeeeeeee', 'miles', 'million', 'min', 'mind', 'minded', 'mine', 'mines', 'minigames', 'minister', 'mins', 'minus', 'minute', 'minutes', 'mirror', 'misbeahve', 'misbehaving', 'mising', 'miss', \"miss'n\", 'missed', 'misses', 'missin', 'missing', 'mistake', 'misty', 'mite', 'mittens', 'mixed', 'mkay', 'mm', 'mmhmm', 'mmm', 'mmmkay', 'mmmm', 'mmmmk', 'mmmmm', 'mmmmmm', 'mmmmmmmmiiiiiiiiinnnnnnnnneeeeeeee', 'mmmmmmmmmm', 'mmmmmmmmmmmmm', 'mmmmmmmmmmmmmm', 'mmmomom', 'moanin', 'moaning', 'moans', 'moanz', 'mode', 'moderation', 'mofo', 'molest', 'mom', 'moment', 'moms', 'monday', 'money', 'mono', 'monsters', 'month', 'monthes', 'months', 'moochhhhhhhhh', 'moon', 'moonie', 'moped', 'mopeds', 'moral', 'morbidly', 'more', 'mornign', 'mornin', 'morning', 'moron', 'most', 'mostly', 'mothas', 'mother', 'mothers', 'moths', 'mountain', 'mouse', 'mouth', 'move', 'moved', 'moves', 'movie', 'movin', 'moving', 'mowin', 'mp3', 'ms', 'ms.', 'msg', 'msn', 'msners', 'mspace', 'muahhh', 'muahhhhh', 'muahssssssssssssssss', 'muahsssssssssssssssssss', 'muahz', 'muahzzzz', 'much', 'muh', 'muhaha', 'multitasking', 'mum', 'munch', 'munches', 'murder', 'muscle', 'music', 'must', 'muzak', 'mwahhs', 'mwahhss', 'mwahs', 'my', 'myself', 'myspace', 'myspace.com', 'mystery', 'n', 'n e', 'n\"t', \"n't\", 'n.n', 'n/', 'n9ne', 'n;t', 'nad', 'nada', 'nads', 'nah', 'nails', 'naked', 'nakey', 'nakie', 'name', 'named', 'names', 'nana', 'nap', 'nasty', 'national', 'nationality', 'natural', 'naughtier', 'naughty', 'nauty', 'naw', 'nawp', 'nawt', 'nawwww', 'nbc', 'nc', 'nce', 'nd', 'ne', 'near', 'nebraska', 'neck', 'necklace', 'necromancers', 'need', 'needed', 'needer', 'needs', 'needy', 'neighbor', 'neighborhood', 'neither', 'neked', 'nekkies', 'nelson', 'neone', 'nerd', 'netflix', 'nevah', 'never', 'neverneverland', 'new', 'newp', 'newspaper', 'next', 'neysa', 'nic', 'nice', 'nicer', 'nick', 'nickelback', 'nickleback', 'nickname', 'nicks', 'nicname', 'nicnames', 'night', 'nightie', 'nights', 'nirvana', 'nite', 'niteeeeeeeeeeeeeeeeeee', 'nitty', 'nj', 'nm', 'no', 'no-no', 'nobody', 'nodda', 'nods', 'noise', 'non-smoker', 'none', 'nonsense', 'noo', 'nooooo', 'noooooooooo', 'noooooooooooooo', 'nope', 'norman', 'normy', 'norny', 'nortenos', 'nose', 'nostrils', 'not', 'note', 'noted', 'notes', 'noth', 'nothin', 'nothing', 'noting', 'novel', 'now', 'nu', 'nude', 'nudes', 'nuff', 'numb', 'number', 'numbers', 'nurse', 'nut', 'nuttin', 'ny', 'nyc', 'nyone', 'nz', 'o', 'o.0', 'o.k.', 'o.o', 'o.O', 'o/~', 'o0', 'o0o', 'o<|=D', 'o_0', 'o_O', 'oates', 'oatmeal', 'oatmel', 'obbts', 'obscene', 'obsession', 'obviously', 'occasional', 'odd', 'of', 'off', 'offa', 'offence', 'offended', 'offensive', 'offer', 'office', 'officer', 'official', 'often', 'ogan', 'oh', 'ohh', 'ohhh', 'ohhhh', 'ohhhhhh', 'ohhhhhhhhhhhhhhhh', 'ohio', 'ohwa', 'oi', 'oil', 'ok', \"ok'd\", 'okay', 'okey', 'okies', 'okikes', 'oklahoma', 'ol', \"ol'\", 'old', 'older', 'oldest', 'ole', 'om', 'omg', 'omggg', 'ominous', 'omnious', 'on', 'once', 'one', 'ones', 'online', 'only', 'ono', 'ontario', 'ontrobution', 'onuimso', 'oO', 'oo', 'ooeer', 'ooer', 'ooh', 'oOo', 'ooo', 'oooh', 'ooooook', 'ooooooo', 'oooOOOOoooo', 'oooooooooooglyyyyyyyy', 'oooooooooooo', 'oooooooooooooonnnnnnnnnnnneeeeeeeeeeeeeeesssssssss', 'ooopppps', 'ooperative', 'oopps', 'ooppsss', 'oops', 'oot', 'op', 'open', 'opener', 'operator', 'opinion', 'oppertunity', 'opportunity', 'opposite', 'opps', 'oppsss', 'opr', 'ops', 'option', 'or', 'orange', 'orders', 'orgies', 'orgy', 'original', 'originally', 'orta', 'otay', 'othah', 'other', 'others', 'othing', 'ouch', 'our', 'out', 'out.', 'outa', 'outhouse', 'outlook', 'outrageously', 'outs', 'outside', 'outta', 'over', 'overplaying', 'overtime', 'ovr', 'own', 'owuldnt', 'owww', 'oxymoron', 'p', 'p u s s y', 'pa', 'packs', 'pad', 'page', 'pages', 'paid', 'pain', 'painful', 'paints', 'pair', 'paitently', 'pal', 'palmer', 'pandas', 'pants', 'paper', 'paradis', 'paragraph', 'paragraphs', 'parent', 'parents', 'park', 'parrot', 'part', 'partial', 'particular', 'party', 'pasa', 'pass', 'passed', 'passes', \"passin'\", 'passing', 'passionately', 'past', 'paste', 'pasties', 'pathetic', 'patsy', 'paxil', 'pay', 'payday', 'paypal', 'pc', 'peace-and-quiet', 'peanut', 'pedals', 'peddle', 'pedofile', 'peek', 'peeks', 'peel', 'peeps', 'penis', 'pension', 'peolpe', 'people', 'peoples', 'pepper', 'peppersteak', 'per', 'perfect', 'perfectionist', 'perhaps', 'period', 'periodically', 'perk', 'perked', 'permanent', 'permission', 'person', 'personal', 'perth', 'perv', 'perved', 'pervert', 'perverted', 'pervin', 'perving', 'pervs', 'pet', 'petanmart', 'petition', 'petunias', 'pffft', 'pfft', 'phil', 'phone', 'photshopped', 'phylosipher', 'physical', 'physically', 'pic', 'pick', 'picks', 'pics', 'picture', 'pictured', 'pictures', 'pie', 'piece', 'pies', 'piff', 'piggy', 'pigs', 'pillow', 'pills', 'pimp', 'pinch', 'pinches', 'pine', 'pineapple', 'pineapples', 'pink', 'pissed', 'pisses', 'pissing', 'pit', 'placce', 'place', 'plan', 'planned', 'platform', 'play', 'playas', 'played', 'player', 'playin', 'playing', 'plays', 'playstation', 'please', 'pleased', 'pleaseeeee', 'pleez', 'plenaty', 'plently', 'plow', 'plows', 'plus', 'plz', 'pm', \"pm'n\", \"pm's\", 'pmers', 'pming', 'pms', 'pmsl', 'pocket', 'poem', 'poeple', 'point', 'pointer', 'pointing', 'poked', 'pokes', 'pokin', 'pokkies', 'police', 'policy', 'polite', 'politely', 'political', 'politics', 'poll', 'polllution', 'poof', 'pool', 'poooland', 'poop', 'poor', 'poorrr', 'poot', 'pop', 'popcorn', 'pope', 'popped', 'popper', 'popular', 'pork', 'porn', 'pos', 'position', 'possibly', 'possum', 'post', 'posts', 'pot', 'pounce', 'pounces', 'pounds', 'pour', 'pours', 'pouting', 'pouts', 'power', 'powers', 'powter', 'pp', 'ppl', 'ppolitical', 'pppppppppppew', 'pr', 'practically', 'pray', 'praying', 'prays', 'predicted', 'preference', 'preoccupied', 'prep', 'presume', 'pretend', 'pretty', 'price', 'prime', 'priorities', 'prison', 'prisoner', 'prisoners', 'prittier', 'private', 'pro', \"pro's\", 'pro-se', 'prob', 'probably', 'problem', 'problemo', 'problems', 'product', 'profile', 'profiles', 'profilrs', 'progressive', 'proked', 'prolly', 'promise', 'promoter', 'prono', 'proocessing', 'proper', 'propper', 'props', 'proud', 'provide', 'prrty', 'ps2', 'pseudo', 'psh', 'pssssh', 'pssst', 'psychologist', 'puff', 'puhleaze', 'pujols', 'puke', 'pukes', 'pull', 'pulling', 'pumpkin', 'pumpkins', 'punch', 'punishment', 'puppet', 'pure', 'purple', 'pursued', 'purty', 'push', 'pushed', 'pushes', 'pussies', 'pussy', 'put', 'puter', 'puts', 'putting', 'puzzles', 'pvt', 'pweeze', 'pwns', 'px', 'quarrel', 'que', 'queen', 'ques', 'question', 'questioned', 'questions', 'quick', 'quiet', 'quistion', 'quit', 'quite', 'quiz', 'quizes', 'qwertyuiop', 'r', 'raaaaaaaaaaaaaaaaaaaaaaaaaaaaa', 'raarrrrrr', 'racist', 'radio', 'raed', 'rafters', 'rag', 'rain', 'rainbow', 'rained', 'raining', 'ran', 'randy', 'rang', 'rap', 'rape', 'rapest', 'rapidly', 'rarly', 'rashes', 'rather', 'rats', 'raymond', 'razor', 're', 're-think', 're-thinking', 're-thinks', 'reach', 'reached', 'react', 'read', 'reading', 'reads', 'ready', 'real', 'realise', 'realises', 'reality', 'realize', 'reallly', 'really', 'reason', 'reasons', 'recall', 'recently', 'receprion', 'recieve', 'recognize', 'recomend', 'record', 'recovering', 'red', 'redirect', 'redneck', 'redraft', 'refer', 'refill', 'refrain', 'refrains', 'regarding', 'registration', 'regret', 'regularly', 'relation', 'relax', 'relaxes', 'release', 'religion', 'remain', 'remembah', 'remember', 'rememberer', 'remembers', 'reminded', 'reminder', 'remove', 'removes', 'removing', 'rent', 'repeating', 'repeats', 'reproduce', 'republican', 'reschedual', 'research', 'resisting', 'resize', 'respec', 'respect', 'rest', 'result', 'results', 'retahhhhded', 'retarded', 'retared', 'rethinks', 'return', 'reunion', 'reunion.', 'revolving', 'rey', 'ribs', 'rich', 'rid', 'ride', 'ridem', 'rider', 'riding', 'right', 'rights', 'riiiight', 'riiiiight', 'ring', 'ringtones', 'ripping', 'riverside', 'road', 'roads', 'roaring', 'rob', 'robbie', 'robert', 'rock', 'rocker', 'rockies', 'rocks', 'rofl', 'roleplay', 'roll', 'rolled', 'roller', \"rollin'\", 'rolling', 'rolls', 'romance', 'romantic', 'roof', 'room', 'roomate', 'roomies', 'rooms', 'rooster', 'root', 'ros', 'rose', 'roses', 'rotflmao', 'rough', 'round', 'rowdy', 'royalty', 'rub', 'rubs', 'ruff', 'rule', 'rules', 'rum', 'rumour', 'rumours', 'run', 'running', 'runs', 'rush', 'ryaon', 's', \"s'\", 'sad', 'safe', 'said', 'sales', 'salsa', 'salt', 'salvation', 'saME', 'same', 'sammich', 'samn', 'san', 'sand', 'sang', 'saratoga', 'sassy', 'sat', 'satan', 'satisfie', 'sauce', 'saunders', 'saving', 'savvy', 'saw', 'say', \"sayin'\", 'saying', 'sayn', 'says', 'scar', 'scare', 'scarecrow', 'scared', 'scares', 'scary', 'schedule', 'schlep', 'schmoopies', 'school', 'scintillating', 'scopes', 'scorpio', 'scorpion', 'scorpions', 'scrabble', 'scramble', 'scrambled', 'scream', 'screamo', 'screams', 'screen', 'scroll', \"scrollin'\", 'scrolls', 'scuba', 'scuk', 'scum', 'scuse', 'scusezzy', 'sdlfkjsj', 'sea', 'seagulls', 'sean', 'searching', 'season', 'seat', 'sec', 'second', 'seconds', 'seconds.', 'secret', 'seduce', 'see', 'seee', 'seeee', 'seeing', 'seeking', 'seem', 'seems', 'seen', 'self', 'sell', 'seminilla', 'send', 'senor', 'sense', 'senseless', 'sensitive', 'sent', 'sentences', 'serg', 'series', 'serious', 'seriously', 'serties', 'service', 'sesky', 'set', 'seth', 'sets', 'settle', 'settles', 'seuss', 'sevendust', 'sex', 'sexcite', 'sexi', 'sexiest', 'sexist', 'sexs', 'sext', 'sexual', 'sexuality', 'sexy', 'sf', 'shades', 'shaken', 'shakes', 'shakin', \"shakin'\", 'shall', 'shane', 'shape', 'share', 'sharing', 'sharp', 'sharpie', 'shaun', 'she', 'sheep', 'sheepishly', 'sheesh', 'sheesin', 'sheet', 'shelf', 'shell', 'shes', 'shhhh', 'shine', 'shining', \"shinnin'\", 'shirt', 'shit', 'shivers', 'sho', 'shocked', 'shocks', 'shoes', 'shook', 'shoot', 'shoots', 'shop', 'shopgirl', 'shoppin', 'shore', 'short', 'shortage', 'shorter', 'shorty', 'shot', 'shots', 'should', 'shoulders', 'shouldnt', 'shouldve', 'shouting', 'show', 'shower', 'showered', 'shows', 'shpwing', 'shrugs', 'shup', 'shups', 'shush', 'shut', 'sicily', 'sick', 'side', 'sigh', 'sighs', 'sign', 'signed', 'sigur', 'silver', 'simply', 'simular', 'since', 'sincy', 'sing', 'singer', 'singing', 'single', 'sings', 'sink', 'sips', 'sis', 'sister', 'sisters', 'sit', 'site', 'sites', 'sits', 'sitting', 'situation', 'siver', 'six', 'size', 'skateboard', 'skin', 'sky', 'skydiving', 'slam', 'slap', 'slaps', 'sldfjlsdf', 'sleep', 'sleep over', 'sleepin', 'sleeping', 'sleepover', 'sleeps', 'sleepy', 'sleeved', 'slept', 'slick', 'slip', 'slipped', 'slipping', 'slkfjsldkfjs', 'slow', 'slowly', 'sluggish', 'smack', 'smacked', 'smacks', 'small', 'smallfry', 'smart', 'smarter', 'smax', 'smell', 'smells', 'smewchies', 'smile', 'smiles', 'smirks', 'smirkz', 'smoke', 'smoker', 'smokes', 'smoking', 'smooch', 'sneak', 'sneezed', 'snickers', 'snores', 'snort', 'snorts', 'snow', 'snowy', 'snuggles', 'so', 'soaked', 'soakin', 'sober', 'soccer', 'society', 'sock', 'socks', 'soda', 'soft', 'softener', 'softner', 'software', 'solution', 'solved', 'some', 'somebody', 'someday', 'somehow', 'someone', 'something', 'sometime', 'sometimes', 'somewhere', 'son', 'song', 'songs', 'soo', 'soojn', 'soon', 'sooners', 'sooo', 'soory', 'soothing', 'sore', 'sores', 'sori', 'sorry', 'sort', 'sorta', 'soul', 'sound', 'sounded', 'sounds', 'soup', 'south', 'sowwy', 'sox', 'soy', 'soybeans', 'sp', 'space', 'spaces', 'spain', 'span', 'spanish', 'spank', 'spanked', 'spark', 'spat', 'speaking', 'specalily', 'special', 'specialist', 'specially', 'specials', 'speech', 'speed', 'spell', 'spelled', 'spelling', 'spend', 'spending', 'spewing', 'spiff', 'spin', 'spins', 'spirits', 'spit', 'splains', 'splelnig', 'splenda', 'splinter', 'sport', 'sports', 'spose', 'sposs', 'spot', 'spouse', 'sprays', 'spread', 'spring', 'sry', 'ssi', 'ssid', 'st', 'stairs', 'stake', 'stalk', 'stalked', 'stalker', 'stand', 'standin', 'standing', 'stans', 'star', 'stares', 'start', 'started', 'starting', 'starts', 'state', 'stated', 'stationed', 'stay', 'stays', 'steak', 'steal', 'stealing', 'steve', 'stick', 'sticking', 'sticks', 'sticky', 'still', 'stinky', 'stirred', 'stocks', 'stoned', 'stop', 'stopped', 'store', 'stores', 'stories', 'story', 'straight', 'straightens', 'strait', 'strange', 'stranger', 'strangers', 'streaks', 'streched', 'street', 'streetcar', 'stressed', 'stretches', 'strickly', 'string', 'stripper', 'stron', 'strong', 'stubborn', 'stuck', 'student', 'studied', 'studio', 'stuff', \"stuffin'\", 'stupid', 'subject', 'subscription', 'subscriptions', 'subsitute', 'such', 'suck', 'sucka', 'sucked', 'sucker', 'sucking', 'sucks', 'sue', 'suffer', 'suffers', 'suffice', 'sugar', 'suggest', 'suggested', 'suggestions', 'suked', 'sullivan', 'sum', 'sum1', 'sumfin', 'summer', 'summon', 'sumpin', 'sun', 'sunglasses', 'sunnn', 'sunny', 'sunset', 'sunshine', 'sup', 'super', 'superhiway', 'superior', 'superman', 'supervisor', 'suppose', 'supposed', 'suprise', 'suprised', 'sure', 'suree', 'surf', 'surfing', 'surgery', 'surprise', 'surprised', 'sustaining', 'sux', 'sw', 'swallow', 'swamp', 'swats', 'swear', 'sweat', 'sweater', 'sweats', 'sweeeeeeeeet', 'sweet', 'sweetie', 'sweetshybbw', 'swelling', 'swim', 'swing', 'switch', 'syck', 'syllables', 'sympathies', 'sympathy', 'syndrome', 'system', 't', 't he', \"t'anks\", 't-shirt', 't/c', 't/y', 'ta', 'tab', 'tabasco', 'tabbed', 'table', 'tackles', 'tacoma', 'tad', 'tah', 'tail', 'take', 'taken', 'takers', 'takes', 'taking', 'talented', 'talk', 'talkcity', 'talked', 'talkiing', 'talkin', \"talkin'\", 'talking', 'talks', 'tall', 'tape', 'tapes', 'tapping', 'tart', 'taste', 'tastes', 'tatatatnanaantatat', 'tazzmaniane', 'tc', 'td', 'tdr', 'teach', 'teacher', 'teachers', 'team', 'tears', 'teasing', 'technical', 'technique', 'techniques', 'technologically', 'teck', 'teehee', 'teenagers', 'teens', 'teeth', 'teh', 'tell', 'tellin', 'telling', 'telllin', 'temp', 'temples', 'temptations', 'tend', 'tenn', 'tennesee', 'tennessee', 'tennies', 'teo', 'tere', 'term', 'terrible', 'test', 'texan', 'texas', 'tha', 'thah', 'than', 'thang', 'thank', 'thanks', 'thanksgiving', 'thanksss', 'thanx', 'that', 'thats', 'the', 'theere', 'theft', 'their', 'them', 'themself', 'themselves', 'themselvs', 'then', 'theory', 'ther', 'therapist', 'therapy', 'there', 'theres', 'these', 'they', 'thing', 'things', 'thingy', 'think', 'thinkin', 'thinking', 'thinks', 'third', 'thirsty', 'this', 'thje', 'thnx', 'tho', 'thomas', 'those', 'thot', 'though', 'thought', 'thoughts', 'thows', 'three', 'threw', 'thrill', 'thristy', 'through', 'throught', 'throw', 'thrown', 'throws', 'thru', 'thumb', 'thunder', 'thx', 'tick', 'ticket', 'tickets', 'tiff', 'tightly', 'tighty', 'til', 'till', 'time', 'times', 'timing', 'tingly', 'tips', 'tired', 'tisk', 'title', 'tits', 'tjhe', 'tks', 'tlak', 'to', 'tock', 'today', 'toe', 'toenails', 'toes', 'together', 'tok', 'toke', 'told', 'toledo', 'tom', 'tommorrow', 'tomorrow', 'tonawanda', 'tongue', 'tonight', 'tonite', 'too', 'took', 'tooo', 'tooooooooooo', 'toop', 'tootsie', 'top', 'topic', 'topics', 'topless', 'torah', 'torturing', 'tory', 'toss', 'tosses', 'total', 'totally', 'totaly', 'touch', 'touches', 'touchy', 'tough', 'tounge', 'toward', 'towel', 'towels', 'town', 'toy', 'tracey', 'track', 'tradition', 'traffic', 'trailer', 'trance', 'trapped', 'trash', 'trashed', 'trials', 'tried', 'tries', 'trigger', 'trip', 'trippin', 'trippy', 'troll', 'trolls', 'trouble', 'trout', 'truck', 'true', 'truss', 'trust', 'try', 'tryer', 'tryin', 'tryina', 'trying', 'tthe', 'tu', 'tuesday', 'tug', 'tummy', 'tune', 'tuned', 'turkey', 'turkish', 'turn', 'turned', 'turning', 'turns', 'tv', 'twice', 'twin', 'twisted', 'twister', 'twit', 'twizted', 'two', 'twoel', 'tx', 'ty', 'type', 'typed', 'typin', 'typing', 'typo', 'tyvm', 'u', 'u550436035', 'uffff', 'ugh', 'ughhh', 'ugly', 'uh', 'uk', 'um', 'umm', 'ummm', 'un-freeze', 'under', 'understand', 'underwear', 'uniform', 'unique', 'unisom', 'unless', 'unreal', 'until', 'untouchable', 'untouched', 'unusual', 'unwind', 'up', 'updated', 'upset', 'upstate', 'ur', 'url', 'urls', 'urs', 'urself', 'us', 'usa', 'use', 'use full', 'used', 'uses', 'using', 'ussy', 'usual', 'usually', 'uuuhhh', 'uyes', 'va', 'valiant', 'vamp', 'van', 'vanished', 'veg', 'vega', 'vent', 'very', 'vetrabrate', 'vicious', 'victims', 'victors', 'video', 'vigilant', 'village', 'vindictive', 'vinyl', 'violators', 'virgin', 'virginal', 'virginity', 'virgo', 'visual', 'vm', 'vodka', 'voice', 'voices', 'vomiting', 'vote', 'voter', 'vs.', 'vuela', 'w', 'w/', 'w/b', 'wa', 'waaa', 'wack', 'waddles', 'waddup', 'wahoooooooo', 'wahoooooooski', 'waht', 'wait', 'waitin', 'waiting', 'waits', 'wakes', 'waking', 'walderslade', 'walk', 'walked', 'walks', 'wall', 'wallpaper', 'walmart', 'walrus', 'wana', 'wanan', 'wanders', 'wanna', 'wansta', 'want', 'wanted', 'wantin', 'wanting', 'wants', 'warm', 'warned', 'warning', 'warnings', 'warts', 'was', 'wash', 'washboard', 'washington', 'wasnt', 'wasup', 'wat', 'watch', 'watched', 'watches', 'watchin', 'watching', 'water', 'waters', 'wats', 'waves', 'wax', 'way', 'ways', 'waz', 'wazz', 'wb', 'wc', 'we', 'wean', 'weapons', 'wear', 'wearin', 'wearing', 'wears', 'weasel', 'weather', 'weave', 'webcam', 'webcams', 'wed-lock', 'wedding', 'wee', 'weed', 'weeeeeeeee', 'weeeeeeeeeeeeeeee', 'weeeeeeeeeeeeeeeeeeeeeeeeed', 'week', 'weekend', 'weeks', 'weenis', 'weigh', 'weight', 'weird', 'wel', 'welcome', 'welcomes', 'welfare', 'well', 'wellbutrin', 'welll', 'welome', 'went', 'were', 'werent', 'west', 'wet', 'wha', 'whaaaaats', 'what', 'whatca', 'whatcha', 'whatever', 'whats', 'wheeeeeeeeeeeeeeeeeeeeeeeeeeeeeeeeee', 'wheel', 'wheels', 'when', 'whenever', 'wher', 'where', 'whereabouts', 'whered', 'wheres', 'whether', 'whew', 'whewwwwww', 'whhhooooo', 'which', 'while', 'whilst', 'whip', 'whipped', 'whiskey', 'whisling', 'whisper', 'whisperer', 'whispering', 'whispers', 'whistles', 'white', 'whiteys', 'whitte', 'whjat', 'who', 'whoa', 'whoaaaaaaaaaaaa', 'whoever', 'whole', 'whoo', 'whooo', 'whoopZ', 'whore', 'whos', 'whose', 'whou', 'whud', 'whupped', 'whuuped', 'why', 'whys', 'wicked', 'wid', 'widdle', 'wide', 'widow', 'wif', 'wife', 'wiggleZ', 'wild', 'wildcard', 'will', 'willams', 'willie', 'willis', 'willy', 'wiltou', 'wiltshire', 'wimmins', 'win', 'win win', 'wind', 'window', 'winds', 'wine', 'wings', 'winks', 'winner', 'wins', 'winter', 'wire', 'wireless', 'wisconsin', 'wish', 'wishes', 'wit', 'with', 'withdrawal', 'withdrawl', 'within', 'withing', 'without', 'wo', 'woah', 'woman', 'women', 'won', 'wonder', 'wondered', 'wonderful', 'wonderin', 'wondering', 'wonders', 'wonna', 'wont', 'woo', 'wood', 'woods', 'woof', 'woohoo', 'wooo', 'woooohoooo', 'wooooohoooo', 'woooooooooaaaahhhhhhhhhhhh', 'wooooooooooooohoooooooooooooooo', 'wOOt', 'woot', 'word', 'words', 'wore', 'work', 'worked', 'working', 'workout', 'works', 'worl', 'world', 'worries', 'worry', 'worse', 'worst', 'worth', 'wothough', 'would', 'wouldnt', 'wow', 'wowsa', 'wrap', 'wrecked', 'wrek', 'write', 'writing', 'wrong', 'wrote', 'wtf', 'wth', 'wubs', 'wussups', 'wut', 'wuts', 'wuuppin', 'wv', 'www.Wunderground.com', 'wz', 'x', 'x-mas', 'xbox', 'xcitable', 'xD', 'xmas', 'xxxed', 'xxxxxx', 'y', \"y'\", 'y/w', 'ya', \"ya'\", 'yada', 'yah', 'yahoo', 'yak', 'yall', 'yap', 'yard', 'yards', 'yas', 'yawn', 'yawns', 'yawnssss', 'yay', 'yayayayayyy', 'yea', 'yeah', 'year', 'years', 'yeas', 'yeee', 'yell', 'yelling', 'yello', 'yep', 'yepper', 'yepper s', 'yeppers', 'yer', 'yerself', 'yes', 'yes.', 'yesh', 'yess', 'yessum', 'yesterday', 'yet', 'yikes', 'yikesssss', 'yo', 'yoder', 'yoghurt', 'yoko', 'yoll', 'yoooou', 'yooou', 'you', 'youer', 'young', 'younger', 'your', 'youre', 'yours', 'yourself', 'yout', 'youuu', 'youuuu', 'youve', 'yow', 'yr', 'yrs', 'ysssssssss', 'yu', 'yucky', 'yum', 'yummy', 'yummylicious', 'yup', 'yuuuuuuuuuuuummmmmmmmmmmm', 'yvw', 'yw', \"yw's\", 'z-ro', 'zombie', 'zone', 'zzzzzzzing', 'zzzzzzzz', '~', '~!', '~blusherZ~', '~smirkZ~', '~winkZ~']\n",
            "4241\n"
          ],
          "name": "stdout"
        }
      ]
    },
    {
      "cell_type": "markdown",
      "metadata": {
        "id": "zozM67up5D4V",
        "colab_type": "text"
      },
      "source": [
        "\n",
        "\n",
        "16.   **Type the expression *range(10)* at the interpreter prompt. Now try range(10, 20), range(10, 20, -2). We will see a variety of uses for this built-in function in later chapters.**\n",
        "\n"
      ]
    },
    {
      "cell_type": "code",
      "metadata": {
        "id": "2cPg77Ps3SWv",
        "colab_type": "code",
        "colab": {
          "base_uri": "https://localhost:8080/",
          "height": 34
        },
        "outputId": "cba6b20f-e3c3-441f-bad7-9fd46eb4ce7c"
      },
      "source": [
        "range(10)"
      ],
      "execution_count": 24,
      "outputs": [
        {
          "output_type": "execute_result",
          "data": {
            "text/plain": [
              "range(0, 10)"
            ]
          },
          "metadata": {
            "tags": []
          },
          "execution_count": 24
        }
      ]
    },
    {
      "cell_type": "code",
      "metadata": {
        "id": "GtCROWpm4bEr",
        "colab_type": "code",
        "colab": {
          "base_uri": "https://localhost:8080/",
          "height": 34
        },
        "outputId": "e8665b95-fa28-4c2b-acc4-a1d8de259478"
      },
      "source": [
        "range(10, 20)"
      ],
      "execution_count": 25,
      "outputs": [
        {
          "output_type": "execute_result",
          "data": {
            "text/plain": [
              "range(10, 20)"
            ]
          },
          "metadata": {
            "tags": []
          },
          "execution_count": 25
        }
      ]
    },
    {
      "cell_type": "code",
      "metadata": {
        "id": "_tjSFiYa5jaB",
        "colab_type": "code",
        "colab": {
          "base_uri": "https://localhost:8080/",
          "height": 34
        },
        "outputId": "546dea1c-3a4a-4b31-bc61-1f94eb9b014e"
      },
      "source": [
        "range(10, 20, -2)"
      ],
      "execution_count": 26,
      "outputs": [
        {
          "output_type": "execute_result",
          "data": {
            "text/plain": [
              "range(10, 20, -2)"
            ]
          },
          "metadata": {
            "tags": []
          },
          "execution_count": 26
        }
      ]
    },
    {
      "cell_type": "markdown",
      "metadata": {
        "id": "R3-ty1Xt66bx",
        "colab_type": "text"
      },
      "source": [
        "\n",
        "17.  **Use *text9.index()* to find the index of the word sunset. You'll need to inset this word as an argument between the parentheses. By a process of trial and error, find the slice for the complete sentece that contains this word.**\n",
        "\n"
      ]
    },
    {
      "cell_type": "code",
      "metadata": {
        "id": "hEbAr5EC7YZ6",
        "colab_type": "code",
        "colab": {
          "base_uri": "https://localhost:8080/",
          "height": 34
        },
        "outputId": "48224c26-eed0-4718-bc34-447a46335a1b"
      },
      "source": [
        "print(\"Index: {}; Value: {}.\".format(text9.index(\"sunset\"), text9[text9.index(\"sunset\")]))"
      ],
      "execution_count": 27,
      "outputs": [
        {
          "output_type": "stream",
          "text": [
            "Index: 629; Value: sunset.\n"
          ],
          "name": "stdout"
        }
      ]
    },
    {
      "cell_type": "markdown",
      "metadata": {
        "id": "uL9_7QPr5snL",
        "colab_type": "text"
      },
      "source": [
        "\n",
        "\n",
        "18.  **Using list addition, and the set and sorted operations, compute the vocabulary of the sentences *sent1, ..., sent8*.**\n",
        "\n"
      ]
    },
    {
      "cell_type": "code",
      "metadata": {
        "id": "0njOCn0v5qu1",
        "colab_type": "code",
        "colab": {
          "base_uri": "https://localhost:8080/",
          "height": 122
        },
        "outputId": "2cc9531d-9b01-47a8-ad0c-716a411d5a83"
      },
      "source": [
        "vocabulary = ['hello', \"my first day\", \"love is beautiful\"]\n",
        "vocabulary = (' '.join(vocabulary)+' ')*10\n",
        "vocabulary"
      ],
      "execution_count": 28,
      "outputs": [
        {
          "output_type": "execute_result",
          "data": {
            "application/vnd.google.colaboratory.intrinsic+json": {
              "type": "string"
            },
            "text/plain": [
              "'hello my first day love is beautiful hello my first day love is beautiful hello my first day love is beautiful hello my first day love is beautiful hello my first day love is beautiful hello my first day love is beautiful hello my first day love is beautiful hello my first day love is beautiful hello my first day love is beautiful hello my first day love is beautiful '"
            ]
          },
          "metadata": {
            "tags": []
          },
          "execution_count": 28
        }
      ]
    },
    {
      "cell_type": "code",
      "metadata": {
        "id": "bVIQh0-66YsA",
        "colab_type": "code",
        "colab": {
          "base_uri": "https://localhost:8080/",
          "height": 34
        },
        "outputId": "749c7f18-dad5-4a2e-ec6f-673165646496"
      },
      "source": [
        "set(vocabulary.split(' '))"
      ],
      "execution_count": 29,
      "outputs": [
        {
          "output_type": "execute_result",
          "data": {
            "text/plain": [
              "{'', 'beautiful', 'day', 'first', 'hello', 'is', 'love', 'my'}"
            ]
          },
          "metadata": {
            "tags": []
          },
          "execution_count": 29
        }
      ]
    },
    {
      "cell_type": "code",
      "metadata": {
        "id": "rDp5e2bt6ivT",
        "colab_type": "code",
        "colab": {
          "base_uri": "https://localhost:8080/",
          "height": 34
        },
        "outputId": "f1a1e1c1-9166-4db4-9957-90f3d8e69f87"
      },
      "source": [
        "sorted(set(vocabulary.split(' ')), key=str.lower)"
      ],
      "execution_count": 30,
      "outputs": [
        {
          "output_type": "execute_result",
          "data": {
            "text/plain": [
              "['', 'beautiful', 'day', 'first', 'hello', 'is', 'love', 'my']"
            ]
          },
          "metadata": {
            "tags": []
          },
          "execution_count": 30
        }
      ]
    },
    {
      "cell_type": "markdown",
      "metadata": {
        "id": "wo288PNo71UK",
        "colab_type": "text"
      },
      "source": [
        "\n",
        "\n",
        "19. **What is the difference between the following two lines? Which one will give a larger value? Will this be the case for other texts?**\n",
        "\n",
        "```\n",
        "# sorted(set([w.lower() for w in text1]))\n",
        "# sorted(w.lower() for w in set(text1))\n",
        "```\n"
      ]
    },
    {
      "cell_type": "markdown",
      "metadata": {
        "id": "aQX4p9Fg8XQq",
        "colab_type": "text"
      },
      "source": [
        "Answer: the difference between the first for the second is in the first we set() the list of the all words of the text1 and after that we sorted the set. Already, the second line we set() all words first and after that we sorted the list."
      ]
    },
    {
      "cell_type": "markdown",
      "metadata": {
        "id": "fCa0HKL_9gwl",
        "colab_type": "text"
      },
      "source": [
        "\n",
        "\n",
        "20.   **What is the difference between the following two tests: *w.isupper()* and not *w.islower()*?**\n",
        "\n",
        "Answer: **isupper()**if the word is all upper case then return true if no return False.\n",
        " **islower()** if the word is all lower case then return True if no return False.\n",
        "\n"
      ]
    },
    {
      "cell_type": "code",
      "metadata": {
        "id": "mdIt9GnH6zQ3",
        "colab_type": "code",
        "colab": {
          "base_uri": "https://localhost:8080/",
          "height": 34
        },
        "outputId": "9bb842bd-035e-47df-cb74-7cc048381c5e"
      },
      "source": [
        "w = \"hello\"\n",
        "w.isupper()"
      ],
      "execution_count": 31,
      "outputs": [
        {
          "output_type": "execute_result",
          "data": {
            "text/plain": [
              "False"
            ]
          },
          "metadata": {
            "tags": []
          },
          "execution_count": 31
        }
      ]
    },
    {
      "cell_type": "code",
      "metadata": {
        "id": "O3iOLyBZ98hV",
        "colab_type": "code",
        "colab": {
          "base_uri": "https://localhost:8080/",
          "height": 34
        },
        "outputId": "a7a82639-ebf0-42f2-8554-15d512747228"
      },
      "source": [
        "w.islower()"
      ],
      "execution_count": 32,
      "outputs": [
        {
          "output_type": "execute_result",
          "data": {
            "text/plain": [
              "True"
            ]
          },
          "metadata": {
            "tags": []
          },
          "execution_count": 32
        }
      ]
    },
    {
      "cell_type": "markdown",
      "metadata": {
        "id": "W1VlWsIQ-_8h",
        "colab_type": "text"
      },
      "source": [
        "\n",
        "21.   Write the slice expression that extracts the last two words of *text2*.\n",
        "\n"
      ]
    },
    {
      "cell_type": "code",
      "metadata": {
        "id": "3yyt-s2H9-5b",
        "colab_type": "code",
        "colab": {
          "base_uri": "https://localhost:8080/",
          "height": 34
        },
        "outputId": "d30cd7d3-909a-4733-e9d8-c043a6badfac"
      },
      "source": [
        "text2[-2:]"
      ],
      "execution_count": 33,
      "outputs": [
        {
          "output_type": "execute_result",
          "data": {
            "text/plain": [
              "['THE', 'END']"
            ]
          },
          "metadata": {
            "tags": []
          },
          "execution_count": 33
        }
      ]
    },
    {
      "cell_type": "markdown",
      "metadata": {
        "id": "JrJF9LrE_VQN",
        "colab_type": "text"
      },
      "source": [
        "\n",
        "\n",
        "\n",
        "22. **Find all the four-letter words in the Chat Corpus(text5). With the help of a frequency distribution(FreqDist), show these words in decreasing order of frequency.  ** \n",
        "\n",
        "\n"
      ]
    },
    {
      "cell_type": "code",
      "metadata": {
        "id": "TK_c3vkj_SMC",
        "colab_type": "code",
        "colab": {
          "base_uri": "https://localhost:8080/",
          "height": 71
        },
        "outputId": "a0f669e4-a7b6-498f-f97e-a13be06f33be"
      },
      "source": [
        "four_letters = [word for word in text5 if len(word) == 4]\n",
        "\n",
        "print(\"All four-letter words in the Chat Corpus(text5)\")\n",
        "print(\"{}\".format(sorted(four_letters, key= lambda ele: ele.lower(), reverse=True)))"
      ],
      "execution_count": 34,
      "outputs": [
        {
          "output_type": "stream",
          "text": [
            "All four-letter words in the Chat Corpus(text5)\n",
            "['zone', 'zone', 'z-ro', \"yw's\", 'yout', 'your', 'your', 'your', 'your', 'Your', 'your', 'your', 'your', 'your', 'your', 'your', 'your', 'your', 'your', 'your', 'your', 'your', 'your', 'your', 'your', 'your', 'your', 'your', 'your', 'your', 'your', 'your', 'your', 'your', 'your', 'your', 'your', 'your', 'your', 'your', 'your', 'your', 'your', 'your', 'your', 'your', 'your', 'your', 'your', 'your', 'your', 'your', 'your', 'your', 'your', 'your', 'your', 'your', 'your', 'your', 'your', 'your', 'Your', 'your', 'your', 'your', 'your', 'your', 'your', 'your', 'your', 'your', 'your', 'your', 'your', 'your', 'your', 'your', 'your', 'your', 'your', 'your', 'your', 'your', 'your', 'your', 'your', 'your', 'your', 'your', 'your', 'your', 'your', 'your', 'your', 'your', 'your', 'your', 'your', 'your', 'your', 'your', 'your', 'your', 'your', 'your', 'your', 'your', 'your', 'Your', 'your', 'your', 'your', 'your', 'your', 'your', 'your', 'your', 'your', 'your', 'your', 'your', 'your', 'your', 'your', 'your', 'your', 'your', 'your', 'your', 'your', 'your', 'your', 'your', 'your', 'your', 'your', 'your', 'your', 'your', 'your', 'your', 'YOUR', 'YOUR', 'your', 'your', 'your', 'York', 'yoll', 'yoko', 'yoko', 'yoko', 'yoko', 'yoko', 'Yoko', 'yess', 'yesh', 'yes.', 'yell', 'yeee', 'yeas', 'yeas', 'year', 'year', 'year', 'year', 'year', 'year', 'year', 'year', 'year', 'year', 'year', 'yeah', 'yeah', 'yeah', 'yeah', 'yeah', 'yeah', 'yeah', 'yeah', 'yeah', 'yeah', 'yeah', 'yeah', 'yeah', 'yeah', 'yeah', 'yeah', 'Yeah', 'yeah', 'yeah', 'yeah', 'Yeah', 'yeah', 'yeah', 'yeah', 'yeah', 'yeah', 'yeah', 'yeah', 'yeah', 'yeah', 'yeah', 'Yeah', 'yeah', 'yeah', 'Yeah', 'yeah', 'yeah', 'yeah', 'yeah', 'yeah', 'yeah', 'yeah', 'yeah', 'yeah', 'yeah', 'yeah', 'yeah', 'yeah', 'yeah', 'yeah', 'yeah', 'yeah', 'yeah', 'yeah', 'yeah', 'yeah', 'yeah', 'yeah', 'Yeah', 'yeah', 'yeah', 'yeah', 'yeah', 'yeah', 'yeah', 'yeah', 'yeah', 'yeah', 'Yeah', 'yeah', 'yeah', 'yeah', 'yeah', 'yeah', 'yeah', 'yeah', 'yeah', 'yeah', 'Yeah', 'yeah', 'yeah', 'Yeah', 'Yeah', 'Yeah', 'yeah', 'yawn', 'yawn', 'yawn', 'yard', 'yard', 'yall', 'yall', 'yall', 'yall', 'yall', 'yall', 'yall', 'yall', 'yall', 'YALL', 'yall', 'yall', 'yada', 'yada', 'yada', 'xmas', 'xbox', 'xbox', 'xbox', 'xbox', 'xbox', 'Wyte', 'wuts', 'wubs', 'wrek', 'wrap', 'worl', 'work', 'work', 'work', 'work', 'work', 'work', 'work', 'work', 'work', 'work', 'work', 'work', 'work', 'work', 'work', 'work', 'work', 'work', 'work', 'work', 'work', 'work', 'work', 'work', 'work', 'work', 'work', 'work', 'work', 'work', 'work', 'work', 'work', 'work', 'work', 'work', 'work', 'work', 'wore', 'word', 'word', 'word', 'word', 'word', 'word', 'word', 'word', 'woot', 'woot', 'wOOt', 'wOOt', 'woot', 'woot', 'wooo', 'wooo', 'woof', 'wood', 'wont', 'wont', 'wont', 'wont', 'wont', 'wont', 'wont', 'wont', 'wont', 'wont', 'wont', 'woah', 'with', 'with', 'with', 'with', 'with', 'with', 'with', 'with', 'with', 'with', 'with', 'with', 'with', 'with', 'with', 'with', 'with', 'with', 'with', 'with', 'with', 'with', 'with', 'with', 'with', 'with', 'with', 'with', 'with', 'with', 'with', 'with', 'with', 'with', 'with', 'with', 'with', 'with', 'with', 'with', 'with', 'with', 'with', 'with', 'with', 'with', 'with', 'with', 'with', 'with', 'with', 'with', 'with', 'with', 'with', 'with', 'with', 'with', 'with', 'with', 'with', 'with', 'with', 'with', 'with', 'with', 'with', 'with', 'with', 'with', 'with', 'with', 'with', 'with', 'with', 'with', 'with', 'with', 'with', 'with', 'with', 'with', 'with', 'with', 'with', 'with', 'with', 'with', 'with', 'with', 'with', 'with', 'with', 'with', 'with', 'with', 'with', 'with', 'with', 'with', 'with', 'with', 'with', 'with', 'with', 'with', 'with', 'with', 'WITH', 'with', 'with', 'with', 'with', 'with', 'with', 'with', 'with', 'with', 'with', 'with', 'with', 'with', 'with', 'with', 'with', 'with', 'with', 'with', 'WITH', 'with', 'with', 'with', 'with', 'with', 'with', 'with', 'with', 'with', 'with', 'with', 'with', 'with', 'with', 'with', 'with', 'with', 'with', 'with', 'with', 'with', 'with', 'with', 'with', 'with', 'wish', 'wish', 'wish', 'wish', 'wish', 'wire', 'wins', 'wine', 'wine', 'wine', 'Wind', 'Wind', 'Wind', 'wind', 'will', 'will', 'will', 'will', 'will', 'Will', 'will', 'will', 'will', 'will', 'will', 'will', 'will', 'will', 'will', 'will', 'will', 'will', 'will', 'will', 'will', 'will', 'will', 'will', 'will', 'will', 'will', 'will', 'will', 'will', 'will', 'will', 'will', 'will', 'will', 'will', 'will', 'will', 'will', 'will', 'WILL', 'will', 'wild', 'wife', 'wife', 'wife', 'wife', 'wife', 'wife', 'wife', 'wife', 'wide', 'whys', 'whud', 'whud', 'whou', 'whos', 'whos', 'whos', 'whos', 'whos', 'whos', 'whoo', 'whoa', 'whoa', 'WHOA', 'whip', 'whip', 'whew', 'wher', 'when', 'when', 'When', 'when', 'when', 'when', 'when', 'when', 'when', 'when', 'when', 'when', 'when', 'When', 'When', 'when', 'when', 'when', 'when', 'when', 'when', 'when', 'when', 'when', 'when', 'when', 'when', 'when', 'when', 'when', 'when', 'when', 'when', 'when', 'when', 'when', 'when', 'when', 'when', 'when', 'when', 'when', 'when', 'when', 'when', 'WHEN', 'when', 'when', 'when', 'when', 'When', 'When', 'when', 'when', 'what', 'what', 'what', 'what', 'what', 'what', 'what', 'what', 'what', 'What', 'what', 'what', 'what', 'what', 'what', 'what', 'what', 'what', 'What', 'what', 'what', 'what', 'what', 'what', 'what', 'what', 'what', 'what', 'What', 'what', 'what', 'What', 'what', 'what', 'what', 'what', 'what', 'what', 'what', 'what', 'what', 'what', 'what', 'What', 'what', 'what', 'what', 'what', 'What', 'what', 'what', 'what', 'what', 'What', 'what', 'what', 'what', 'what', 'what', 'what', 'what', 'what', 'what', 'what', 'what', 'what', 'what', 'what', 'what', 'what', 'what', 'what', 'what', 'what', 'what', 'What', 'what', 'what', 'what', 'what', 'What', 'what', 'what', 'what', 'what', 'what', 'what', 'what', 'what', 'what', 'what', 'what', 'what', 'what', 'What', 'what', 'what', 'what', 'what', 'what', 'what', 'what', 'what', 'what', 'what', 'what', 'what', 'what', 'what', 'what', 'what', 'what', 'what', 'what', 'what', 'what', 'what', 'what', 'what', 'what', 'what', 'what', 'what', 'what', 'what', 'what', 'what', 'what', 'what', 'what', 'what', 'What', 'what', 'what', 'what', 'what', 'what', 'what', 'what', 'what', 'what', 'what', 'what', 'what', 'what', 'what', 'what', 'what', 'what', 'What', 'what', 'what', 'What', 'what', 'what', 'what', 'What', 'what', 'what', 'what', 'what', 'what', 'what', 'what', 'what', 'what', 'what', 'what', 'what', 'what', 'what', 'what', 'what', 'what', 'what', 'What', 'what', 'what', 'what', 'what', 'what', 'what', 'what', 'what', 'what', 'what', 'what', 'what', 'what', 'what', 'what', 'what', 'What', 'What', 'what', 'what', 'what', 'What', 'what', 'what', 'what', 'west', 'West', 'were', 'were', 'were', 'were', 'were', 'were', 'were', 'were', 'were', 'were', 'were', 'were', 'were', 'were', 'were', 'were', 'were', 'were', 'were', 'were', 'were', 'were', 'were', 'were', 'were', 'were', 'were', 'were', 'were', 'were', 'were', 'were', 'were', 'were', 'were', 'were', 'were', 'were', 'Were', 'Werd', 'went', 'went', 'went', 'went', 'went', 'went', 'went', 'went', 'well', 'well', 'well', 'well', 'well', 'well', 'well', 'well', 'well', 'Well', 'Well', 'Well', 'Well', 'well', 'well', 'well', 'Well', 'well', 'well', 'well', 'well', 'well', 'well', 'well', 'well', 'well', 'well', 'Well', 'well', 'well', 'well', 'well', 'well', 'well', 'well', 'well', 'well', 'well', 'well', 'well', 'well', 'well', 'well', 'well', 'well', 'well', 'well', 'well', 'well', 'well', 'well', 'well', 'well', 'well', 'well', 'well', 'well', 'well', 'well', 'well', 'well', 'well', 'well', 'well', 'well', 'well', 'Well', 'well', 'well', 'well', 'well', 'well', 'well', 'well', 'well', 'well', 'well', 'well', 'well', 'well', 'well', 'Well', 'well', 'well', 'Well', 'Well', 'well', 'well', 'well', 'well', 'well', 'week', 'week', 'week', 'week', 'week', 'week', 'week', 'week', 'week', 'week', 'weed', 'wear', 'wear', 'wear', 'wear', 'wear', 'wear', 'wear', 'wean', 'wazz', 'wazz', 'wazz', 'ways', 'ways', 'ways', 'ways', 'wats', 'wats', 'wash', 'wash', 'wash', 'warm', 'warm', 'warm', 'warm', 'warm', 'want', 'want', 'want', 'want', 'want', 'want', 'want', 'want', 'want', 'want', 'want', 'want', 'want', 'want', 'want', 'want', 'want', 'want', 'want', 'want', 'want', 'want', 'want', 'want', 'want', 'want', 'want', 'want', 'want', 'want', 'want', 'want', 'want', 'want', 'want', 'want', 'want', 'want', 'want', 'want', 'want', 'want', 'want', 'want', 'want', 'want', 'want', 'want', 'want', 'want', 'want', 'want', 'want', 'want', 'want', 'want', 'want', 'want', 'want', 'want', 'want', 'want', 'want', 'want', 'want', 'want', 'want', 'want', 'want', 'want', 'want', 'wana', 'wana', 'wana', 'wana', 'wana', 'wana', 'wana', 'wana', 'wall', 'wall', 'wall', 'wall', 'wall', 'walk', 'walk', 'walk', 'wait', 'wait', 'wait', 'wait', 'wait', 'wait', 'wait', 'wait', 'wait', 'wait', 'wait', 'wait', 'wait', 'wait', 'waht', 'wack', 'wack', 'wack', 'waaa', 'VVil', 'vote', 'vote', 'vote', 'very', 'very', 'very', 'very', 'very', 'very', 'very', 'very', 'very', 'very', 'very', 'very', 'very', 'very', 'very', 'very', 'very', 'very', 'Very', 'very', 'vent', 'vega', 'VBox', 'vamp', 'uyes', 'ussy', 'uses', 'uses', 'used', 'used', 'used', 'used', 'used', 'used', 'used', 'used', 'used', 'used', 'used', 'used', 'urls', 'ummm', 'ummm', 'ummm', 'ummm', 'Ummm', 'Ummm', 'Uhhh', 'ugly', 'ugly', 'ugly', 'ugly', 'U989', 'U989', 'U989', 'U989', 'U988', 'U988', 'U988', 'U988', 'U820', 'U820', 'U820', 'U820', 'U819', 'U819', 'U819', 'U819', 'U542', 'U520', 'U520', 'U520', 'U520', 'U520', 'U520', 'U219', 'U219', 'U219', 'U219', 'U197', 'U197', 'U197', 'U197', 'U197', 'U197', 'U196', 'U196', 'U196', 'U196', 'U190', 'U190', 'U181', 'U175', 'U175', 'U172', 'U172', 'U170', 'U170', 'U169', 'U169', 'U169', 'U169', 'U169', 'U169', 'U169', 'U168', 'U168', 'U168', 'U168', 'U168', 'U168', 'U168', 'U168', 'U168', 'U168', 'U168', 'U168', 'U168', 'U165', 'U165', 'U165', 'U165', 'U165', 'U165', 'U164', 'U163', 'U163', 'U163', 'U158', 'U156', 'U156', 'U156', 'U156', 'U156', 'U156', 'U156', 'U156', 'U156', 'U156', 'U156', 'U156', 'U156', 'U156', 'U156', 'U156', 'U156', 'U156', 'U156', 'U156', 'U156', 'U156', 'U156', 'U156', 'U156', 'U156', 'U156', 'U156', 'U156', 'U156', 'U156', 'U156', 'U156', 'U156', 'U156', 'U155', 'U155', 'U154', 'U154', 'U154', 'U154', 'U153', 'U153', 'U153', 'U150', 'U149', 'U148', 'U148', 'U148', 'U147', 'U146', 'U146', 'U146', 'U146', 'U145', 'U145', 'U145', 'U144', 'U144', 'U144', 'U144', 'U144', 'U144', 'U144', 'U144', 'U143', 'U142', 'U142', 'U142', 'U142', 'U142', 'U142', 'U141', 'U141', 'U141', 'U139', 'U139', 'U139', 'U139', 'U139', 'U139', 'U139', 'U139', 'U138', 'U138', 'U137', 'U136', 'U136', 'U136', 'U134', 'U133', 'U133', 'U133', 'U133', 'U132', 'U132', 'U132', 'U132', 'U132', 'U132', 'U132', 'U132', 'U132', 'U132', 'U130', 'U130', 'U130', 'U130', 'U129', 'U129', 'U129', 'U129', 'U129', 'U129', 'U128', 'U128', 'U128', 'U128', 'U128', 'U126', 'U126', 'U126', 'U126', 'U123', 'U123', 'U123', 'U123', 'U122', 'U122', 'U122', 'U122', 'U122', 'U122', 'U122', 'U122', 'U122', 'U122', 'U122', 'U122', 'U122', 'U122', 'U122', 'U122', 'U122', 'U122', 'U122', 'U122', 'U122', 'U122', 'U122', 'U122', 'U122', 'U122', 'U122', 'U122', 'U122', 'U122', 'U122', 'U122', 'U122', 'U122', 'U122', 'U122', 'U122', 'U122', 'U122', 'U122', 'U122', 'U122', 'U121', 'U121', 'U121', 'U121', 'U121', 'U121', 'U121', 'U121', 'U121', 'U121', 'U121', 'U121', 'U121', 'U121', 'U121', 'U121', 'U121', 'U121', 'U121', 'U121', 'U121', 'U121', 'U121', 'U121', 'U121', 'U121', 'U121', 'U121', 'U121', 'U121', 'U121', 'U121', 'U121', 'U121', 'U121', 'U121', 'U120', 'U120', 'U120', 'U120', 'U120', 'U120', 'U119', 'U119', 'U119', 'U119', 'U119', 'U119', 'U119', 'U119', 'U119', 'U119', 'U119', 'U118', 'U117', 'U117', 'U117', 'U117', 'U116', 'U116', 'U116', 'U116', 'U116', 'U116', 'U115', 'U115', 'U115', 'U115', 'U115', 'U115', 'U115', 'U115', 'U115', 'U115', 'U115', 'U115', 'U115', 'U115', 'U115', 'U115', 'U115', 'U115', 'U115', 'U115', 'U115', 'U115', 'U115', 'U115', 'U115', 'U115', 'U115', 'U115', 'U115', 'U115', 'U115', 'U115', 'U115', 'U115', 'U115', 'U115', 'U114', 'U114', 'U114', 'U114', 'U114', 'U114', 'U114', 'U114', 'U114', 'U114', 'U114', 'U114', 'U114', 'U114', 'U114', 'U114', 'U114', 'U114', 'U114', 'U114', 'U114', 'U114', 'U114', 'U114', 'U114', 'U113', 'U112', 'U112', 'U111', 'U111', 'U110', 'U110', 'U110', 'U110', 'U110', 'U110', 'U110', 'U110', 'U110', 'U110', 'U110', 'U110', 'U110', 'U110', 'U110', 'U110', 'U110', 'U110', 'U110', 'U110', 'U110', 'U110', 'U110', 'U110', 'U110', 'U109', 'U109', 'U109', 'U108', 'U108', 'U108', 'U108', 'U108', 'U108', 'U108', 'U107', 'U107', 'U107', 'U107', 'U107', 'U107', 'U107', 'U107', 'U107', 'U107', 'U107', 'U106', 'U106', 'U106', 'U105', 'U105', 'U105', 'U105', 'U105', 'U105', 'U105', 'U105', 'U105', 'U105', 'U105', 'U105', 'U105', 'U105', 'U105', 'U105', 'U105', 'U105', 'U105', 'U105', 'U105', 'U105', 'U105', 'U105', 'U105', 'U105', 'U105', 'U105', 'U105', 'U105', 'U105', 'U105', 'U105', 'U105', 'U105', 'U104', 'U104', 'U104', 'U104', 'U104', 'U104', 'U104', 'U104', 'U104', 'U104', 'U104', 'U104', 'U104', 'U104', 'U104', 'U104', 'U104', 'U103', 'U103', 'U103', 'U103', 'U103', 'U103', 'U102', 'U102', 'U102', 'U102', 'U102', 'U102', 'U102', 'U102', 'U102', 'U102', 'U102', 'U102', 'U101', 'U101', 'U101', 'U101', 'U101', 'U101', 'U101', 'U101', 'U101', 'U101', 'U100', 'U100', 'tyvm', 'tyvm', 'TYPR', 'typo', 'typo', 'type', 'type', 'type', 'type', 'type', 'type', 'type', 'type', 'Type', 'type', 'twit', 'twin', 'twin', 'Turn', 'turn', 'turn', 'turn', 'turn', 'tune', 'tune', 'tune', 'tthe', 'true', 'true', 'true', 'true', 'true', 'true', 'true', 'true', 'true', 'true', 'true', 'true', 'true', 'true', 'Troy', 'trip', 'trip', 'town', 'town', 'town', 'toss', 'toss', 'toss', 'tory', 'toop', 'tooo', 'took', 'took', 'took', 'took', 'took', 'took', 'took', 'told', 'told', 'told', 'told', 'told', 'told', 'told', 'told', 'told', 'told', 'told', 'told', 'toke', 'toes', 'toes', 'toes', 'tock', 'tock', 'tlak', 'tjhe', 'tits', 'Tisk', 'Tisk', 'tisk', 'tisk', 'tips', 'Tina', 'time', 'time', 'time', 'time', 'TIME', 'time', 'time', 'time', 'time', 'time', 'time', 'time', 'time', 'time', 'time', 'time', 'time', 'time', 'time', 'time', 'time', 'time', 'Time', 'time', 'time', 'time', 'time', 'time', 'time', 'time', 'time', 'time', 'time', 'time', 'time', 'time', 'time', 'time', 'time', 'time', 'time', 'time', 'time', 'time', 'time', 'time', 'time', 'time', 'time', 'time', 'time', 'time', 'till', 'till', 'till', 'till', 'till', 'Tiff', 'tiff', 'Tide', 'tick', 'tick', 'thru', 'thru', 'thru', 'thru', 'thru', 'thru', 'thot', 'thnx', 'thje', 'this', 'this', 'this', 'this', 'this', 'this', 'this', 'this', 'this', 'this', 'this', 'this', 'this', 'this', 'this', 'this', 'this', 'this', 'this', 'this', 'this', 'this', 'this', 'this', 'this', 'this', 'this', 'this', 'This', 'this', 'this', 'this', 'This', 'this', 'this', 'this', 'This', 'this', 'this', 'This', 'this', 'this', 'This', 'this', 'this', 'This', 'this', 'this', 'This', 'this', 'this', 'this', 'This', 'this', 'this', 'This', 'this', 'this', 'This', 'this', 'this', 'this', 'This', 'this', 'this', 'this', 'this', 'this', 'this', 'this', 'this', 'this', 'this', 'this', 'this', 'this', 'this', 'this', 'this', 'This', 'this', 'this', 'this', 'this', 'this', 'this', 'this', 'this', 'this', 'this', 'this', 'this', 'this', 'this', 'this', 'this', 'this', 'this', 'they', 'they', 'they', 'they', 'they', 'they', 'they', 'they', 'they', 'they', 'they', 'they', 'they', 'they', 'they', 'they', 'they', 'they', 'they', 'they', 'they', 'they', 'they', 'they', 'they', 'they', 'they', 'they', 'they', 'they', 'they', 'they', 'they', 'They', 'They', 'They', 'they', 'they', 'they', 'they', 'they', 'they', 'they', 'THEY', 'they', 'they', 'they', 'they', 'they', 'they', 'they', 'they', 'they', 'they', 'they', 'they', 'they', 'they', 'they', 'they', 'they', 'they', 'they', 'they', 'they', 'they', 'They', 'they', 'they', 'they', 'they', 'they', 'they', 'they', 'they', 'they', 'they', 'they', 'they', 'They', 'they', 'they', 'they', 'They', 'ther', 'then', 'then', 'then', 'then', 'then', 'then', 'then', 'then', 'then', 'then', 'then', 'then', 'then', 'then', 'then', 'then', 'then', 'then', 'Then', 'then', 'then', 'then', 'then', 'then', 'then', 'then', 'then', 'then', 'then', 'then', 'then', 'then', 'then', 'then', 'then', 'then', 'then', 'then', 'then', 'then', 'then', 'them', 'them', 'them', 'them', 'them', 'them', 'them', 'them', 'them', 'them', 'them', 'them', 'them', 'them', 'them', 'them', 'them', 'them', 'them', 'them', 'them', 'them', 'them', 'them', 'them', 'them', 'them', 'them', 'that', 'that', 'that', 'that', 'that', 'that', 'that', 'that', 'that', 'that', 'that', 'that', 'that', 'that', 'that', 'that', 'that', 'that', 'that', 'that', 'that', 'that', 'that', 'that', 'that', 'that', 'that', 'that', 'that', 'that', 'that', 'that', 'that', 'that', 'that', 'that', 'that', 'that', 'that', 'that', 'that', 'that', 'that', 'that', 'that', 'that', 'that', 'that', 'that', 'that', 'that', 'that', 'that', 'that', 'that', 'that', 'that', 'that', 'that', 'that', 'that', 'that', 'that', 'that', 'that', 'that', 'that', 'That', 'that', 'that', 'that', 'that', 'that', 'that', 'that', 'that', 'that', 'that', 'that', 'that', 'that', 'that', 'that', 'that', 'that', 'that', 'that', 'that', 'that', 'that', 'that', 'that', 'that', 'that', 'that', 'that', 'that', 'that', 'that', 'that', 'that', 'that', 'that', 'that', 'that', 'that', 'that', 'that', 'that', 'that', 'that', 'That', 'that', 'that', 'that', 'that', 'that', 'that', 'that', 'that', 'that', 'that', 'that', 'that', 'that', 'that', 'that', 'that', 'that', 'that', 'That', 'that', 'that', 'that', 'that', 'that', 'that', 'that', 'that', 'that', 'that', 'that', 'that', 'that', 'that', 'that', 'that', 'that', 'that', 'that', 'that', 'that', 'that', 'that', 'that', 'that', 'that', 'that', 'that', 'that', 'that', 'that', 'that', 'that', 'that', 'that', 'that', 'that', 'that', 'that', 'that', 'that', 'that', 'that', 'that', 'that', 'that', 'that', 'that', 'that', 'that', 'that', 'that', 'that', 'that', 'that', 'that', 'that', 'that', 'that', 'that', 'that', 'that', 'that', 'that', 'that', 'that', 'that', 'that', 'that', 'that', 'That', 'That', 'that', 'that', 'that', 'that', 'that', 'that', 'that', 'that', 'that', 'that', 'that', 'that', 'That', 'that', 'that', 'that', 'that', 'that', 'that', 'that', 'that', 'that', 'that', 'that', 'that', 'that', 'that', 'that', 'that', 'that', 'that', 'that', 'that', 'that', 'that', 'that', 'that', 'that', 'that', 'that', 'that', 'that', 'that', 'that', 'THAT', 'that', 'that', 'that', 'that', 'that', 'that', 'that', 'that', 'that', 'that', 'that', 'that', 'that', 'that', 'that', 'That', 'that', 'that', 'that', 'that', 'that', 'that', 'that', 'that', 'that', 'that', 'that', 'that', 'that', 'that', 'THAT', 'THAT', 'that', 'that', 'that', 'that', 'than', 'than', 'than', 'than', 'than', 'than', 'than', 'than', 'than', 'than', 'than', 'than', 'thah', 'TEXT', 'test', 'term', 'tere', 'tenn', 'tend', 'temp', 'temp', 'tell', 'tell', 'tell', 'tell', 'tell', 'tell', 'tell', 'tell', 'tell', 'tell', 'Tell', 'tell', 'tell', 'tell', 'tell', 'tell', 'tell', 'tell', 'tell', 'tell', 'tell', 'tell', 'tell', 'Tell', 'tell', 'tell', 'tell', 'tell', 'tell', 'Teck', 'teck', 'team', 'team', 'team', 'team', 'tart', 'tape', 'tall', 'talk', 'talk', 'talk', 'talk', 'talk', 'talk', 'talk', 'talk', 'talk', 'talk', 'talk', 'talk', 'talk', 'talk', 'talk', 'Talk', 'talk', 'talk', 'talk', 'talk', 'talk', 'talk', 'talk', 'talk', 'talk', 'talk', 'talk', 'talk', 'talk', 'talk', 'talk', 'talk', 'talk', 'talk', 'talk', 'talk', 'talk', 'talk', 'talk', 'talk', 'talk', 'talk', 'talk', 'TALK', 'talk', 'talk', 'talk', 'talk', 'talk', 'talk', 'talk', 'talk', 'talk', 'talk', 'talk', 'talk', 'talk', 'talk', 'take', 'take', 'take', 'take', 'take', 'take', 'take', 'take', 'take', 'take', 'take', 'take', 'take', 'take', 'take', 'take', 'take', 'take', 'take', 'take', 'take', 'take', 'take', 'take', 'take', 'Take', 'take', 'take', 'take', 'take', 'take', 'take', 'take', 'take', 'take', 'take', 'take', 'take', 'tail', 't he', 'syck', 'Swim', 'swim', 'swim', 'swim', 'surf', 'sure', 'sure', 'sure', 'sure', 'Sure', 'sure', 'sure', 'sure', 'sure', 'sure', 'sure', 'sure', 'sure', 'sure', 'sure', 'sure', 'sure', 'sure', 'sure', 'sure', 'sure', 'sure', 'sure', 'sure', 'sure', 'sure', 'Sure', 'sure', 'sum1', 'suck', 'suck', 'suck', 'suck', 'suck', 'suck', 'suck', 'suck', 'such', 'such', 'such', 'such', 'such', 'such', 'such', 'such', 'such', 'stop', 'stop', 'Stop', 'stop', 'stop', 'stop', 'stop', 'Stop', 'stop', 'stop', 'stop', 'stop', 'stop', 'stop', 'stop', 'stop', 'stop', 'stop', 'STOP', 'stop', 'stop', 'stop', 'STOP', 'stay', 'stay', 'stay', 'stay', 'stay', 'stay', 'stay', 'stay', 'stay', 'stay', 'stay', 'stay', 'star', 'SSRI', 'ssid', 'spot', 'spot', 'spit', 'spin', 'spin', 'spat', 'span', 'soup', 'soul', 'soul', 'soul', 'soul', 'soul', 'sort', 'sort', 'sori', 'sore', 'sore', 'sooo', 'sooo', 'soon', 'soon', 'soon', 'soon', 'soon', 'soon', 'soon', 'soon', 'soon', 'song', 'song', 'song', 'song', 'song', 'song', 'Song', 'song', 'song', 'song', 'song', 'song', 'song', 'song', 'song', 'song', 'song', 'song', 'song', 'song', 'song', 'song', 'song', 'song', 'song', 'song', 'song', 'song', 'song', 'song', 'song', 'song', 'song', 'song', 'song', 'song', 'Song', 'song', 'Song', 'Song', 'Song', 'Song', 'some', 'some', 'some', 'some', 'some', 'some', 'some', 'some', 'some', 'some', 'some', 'some', 'some', 'some', 'some', 'some', 'some', 'some', 'some', 'some', 'some', 'SOME', 'some', 'some', 'some', 'some', 'some', 'some', 'some', 'some', 'some', 'some', 'some', 'some', 'some', 'some', 'some', 'some', 'some', 'some', 'some', 'some', 'some', 'some', 'some', 'some', 'some', 'some', 'some', 'some', 'some', 'some', 'some', 'some', 'some', 'some', 'some', 'some', 'some', 'soft', 'soft', 'soft', 'soda', 'sock', 'sock', 'sock', 'sock', 'sock', 'sock', 'snow', 'snow', 'snow', 'smax', 'slow', 'slow', 'slow', 'Slip', 'slip', 'slap', 'slap', 'slap', 'slam', 'skin', 'skin', 'skin', 'size', 'SIZE', 'sits', 'sits', 'sits', 'sits', 'sits', 'sits', 'sits', 'sits', 'sits', 'sits', 'sits', 'sits', 'sits', 'sits', 'sits', 'site', 'sips', 'sink', 'sing', 'sing', 'sing', 'sing', 'sing', 'sing', 'sign', 'sigh', 'sigh', 'sigh', 'sigh', 'side', 'side', 'sick', 'sick', 'sick', 'sick', 'sick', 'sick', 'sick', 'sick', 'sick', 'shut', 'shut', 'shut', 'shut', 'shut', 'shut', 'shut', 'shut', 'shut', 'shut', 'shut', 'shut', 'shut', 'shut', 'shup', 'show', 'Show', 'show', 'show', 'show', 'show', 'show', 'show', 'show', 'show', 'show', 'shot', 'shot', 'shot', 'shot', 'shop', 'shop', 'shit', 'shit', 'shit', 'shit', 'shit', 'shit', 'shit', 'shit', 'shit', 'shit', 'shit', 'shit', 'shit', 'shit', 'shit', 'shit', 'shit', 'shes', 'shes', 'shes', 'shes', 'sexy', 'sexy', 'sexy', 'sexy', 'sexy', 'sexy', 'sexy', 'sexy', 'sexy', 'sexy', 'sexy', 'Sexy', 'sexy', 'sexy', 'sexy', 'sexy', 'sexy', 'sexy', 'SExy', 'sexy', 'sexy', 'sexy', 'sexy', 'sexy', 'sexy', 'sext', 'sexs', 'sexi', 'sets', 'seth', 'serg', 'sent', 'send', 'send', 'send', 'send', 'send', 'send', 'sell', 'sell', 'self', 'self', 'self', 'self', 'seen', 'seen', 'seen', 'seen', 'seen', 'seen', 'seen', 'seen', 'seen', 'seen', 'seen', 'seen', 'seen', 'seen', 'seen', 'seen', 'seen', 'seen', 'seen', 'seen', 'seen', 'seen', 'seen', 'seen', 'seen', 'seen', 'seen', 'seen', 'seen', 'seen', 'seen', 'SEEN', 'seen', 'seen', 'seen', 'seen', 'seem', 'seem', 'seem', 'seem', 'seem', 'seem', 'seee', 'Seee', 'seat', 'sean', 'scum', 'scuk', 'scar', 'says', 'says', 'says', 'says', 'says', 'says', 'says', 'says', 'sayn', 'Save', 'Sat.', 'sang', 'sang', 'sang', 'sang', 'sang', 'sang', 'sang', 'sang', 'sand', 'sand', 'samn', 'same', 'same', 'same', 'same', 'same', 'same', 'same', 'same', 'Same', 'same', 'saME', 'Same', 'Same', 'same', 'same', 'same', 'same', 'same', 'same', 'same', 'same', 'same', 'same', 'salt', 'said', 'said', 'said', 'said', 'said', 'said', 'said', 'said', 'said', 'said', 'said', 'said', 'said', 'said', 'said', 'said', 'said', 'said', 'said', 'said', 'said', 'said', 'said', 'safe', 'Ruth', 'rush', 'Rush', 'runs', 'runs', 'runs', 'runs', 'runs', 'runs', 'runs', 'runs', 'runs', 'rule', 'rule', 'rule', 'rule', 'rule', 'rule', 'rule', 'Rule', 'ruff', 'rubs', 'rubs', 'rubs', 'rose', 'root', 'root', 'room', 'room', 'room', 'room', 'room', 'room', 'room', 'room', 'room', 'room', 'room', 'room', 'room', 'room', 'room', 'room', 'room', 'room', 'room', 'room', 'room', 'room', 'room', 'room', 'room', 'room', 'room', 'room', 'room', 'room', 'ROOM', 'room', 'room', 'room', 'room', 'room', 'room', 'room', 'room', 'room', 'room', 'room', 'room', 'room', 'room', 'room', 'room', 'room', 'room', 'room', 'room', 'room', 'room', 'room', 'room', 'room', 'room', 'ROOM', 'room', 'room', 'room', 'room', 'room', 'room', 'room', 'room', 'room', 'room', 'room', 'room', 'room', 'room', 'room', 'Room', 'room', 'ROOM', 'room', 'room', 'room', 'room', 'room', 'room', 'room', 'room', 'room', 'room', 'ROOM', 'room', 'room', 'room', 'room', 'room', 'room', 'room', 'room', 'room', 'room', 'room', 'room', 'room', 'room', 'room', 'room', 'roof', 'roof', 'roof', 'roll', 'roll', 'roll', 'roll', 'roll', 'Rofl', 'rofl', 'rofl', 'ROFL', 'rock', 'rock', 'rock', 'rock', 'rock', 'rock', 'Rock', 'rock', 'rock', 'rock', 'road', 'Road', 'road', 'road', \"RN's\", 'ring', 'ring', 'ring', 'ride', 'ride', 'ride', 'ride', 'ride', 'ride', 'Rick', 'rich', 'rich', 'ribs', 'Reub', 'rest', 'rest', 'rest', 'rest', 'rent', 'rent', 'real', 'real', 'real', 'real', 'real', 'real', 'real', 'real', 'real', 'real', 'real', 'real', 'real', 'real', 'real', 'real', 'read', 'read', 'read', 'read', 'read', 'read', 'read', 'read', 'read', 'read', 'read', 'read', 'read', 'read', 'rats', 'rape', 'Rang', 'rang', 'rain', 'rain', 'rain', 'raed', 'quiz', 'quit', 'quit', 'quit', 'QUIT', 'quit', 'ques', 'pwns', 'puts', 'push', 'pure', 'pull', 'puke', 'puff', 'puff', 'puff', 'puff', 'Prof', 'prob', 'prep', 'pray', 'Pour', 'pour', 'post', 'porn', 'porn', 'pork', 'pope', 'poot', 'Poor', 'poor', 'poor', 'Poor', 'poor', 'poor', 'poor', 'poor', 'poop', 'pool', 'pool', 'poof', 'poll', 'poem', 'PMSL', 'pmsl', \"pm's\", \"PM's\", \"pm'n\", 'plus', 'plow', 'play', 'play', 'play', 'play', 'play', 'play', 'play', 'play', 'play', 'play', 'play', 'play', 'play', 'play', 'play', 'play', 'play', 'play', 'play', 'play', 'play', 'play', 'play', 'play', 'play', 'plan', 'plan', 'pink', 'pink', 'pink', 'pink', 'pink', 'pink', 'pine', 'pimp', 'pigs', 'piff', 'piff', 'piff', 'pies', 'pies', 'pics', 'pics', 'pics', 'pics', 'pics', 'pics', 'pics', 'pics', 'pics', 'pick', 'pick', 'pick', 'pick', 'pick', 'pick', 'pick', 'pick', 'pick', 'pick', 'pick', 'pick', 'pick', 'phil', 'Phil', 'phil', 'pfft', 'pfft', 'pfft', 'pfft', 'perv', 'perv', 'perv', 'perv', 'perv', 'perv', 'perv', 'perv', 'perv', 'perv', 'perv', 'perk', 'peel', 'peek', 'Paul', 'past', 'past', 'pass', 'pass', 'pass', 'pass', 'pasa', 'PART', 'PART', 'PART', 'PART', 'PART', 'PART', 'PART', 'PART', 'PART', 'PART', 'PART', 'PART', 'PART', 'PART', 'PART', 'PART', 'PART', 'PART', 'PART', 'PART', 'PART', 'PART', 'PART', 'PART', 'PART', 'PART', 'PART', 'PART', 'PART', 'PART', 'PART', 'PART', 'PART', 'PART', 'PART', 'PART', 'PART', 'PART', 'PART', 'PART', 'PART', 'PART', 'PART', 'PART', 'PART', 'PART', 'PART', 'PART', 'PART', 'PART', 'PART', 'PART', 'PART', 'PART', 'PART', 'PART', 'PART', 'PART', 'PART', 'PART', 'PART', 'PART', 'PART', 'PART', 'PART', 'PART', 'PART', 'PART', 'PART', 'PART', 'PART', 'PART', 'PART', 'PART', 'PART', 'PART', 'PART', 'PART', 'PART', 'PART', 'PART', 'PART', 'PART', 'PART', 'PART', 'PART', 'PART', 'PART', 'PART', 'PART', 'PART', 'PART', 'PART', 'PART', 'PART', 'PART', 'PART', 'PART', 'PART', 'PART', 'PART', 'PART', 'PART', 'PART', 'PART', 'PART', 'PART', 'PART', 'PART', 'PART', 'PART', 'PART', 'PART', 'PART', 'PART', 'PART', 'PART', 'PART', 'PART', 'PART', 'PART', 'PART', 'PART', 'PART', 'PART', 'PART', 'PART', 'PART', 'PART', 'PART', 'PART', 'PART', 'PART', 'PART', 'PART', 'PART', 'PART', 'PART', 'PART', 'PART', 'PART', 'PART', 'PART', 'PART', 'PART', 'PART', 'PART', 'PART', 'PART', 'PART', 'PART', 'PART', 'PART', 'PART', 'PART', 'PART', 'PART', 'PART', 'PART', 'PART', 'PART', 'PART', 'PART', 'PART', 'PART', 'PART', 'PART', 'PART', 'PART', 'PART', 'PART', 'PART', 'PART', 'PART', 'PART', 'PART', 'PART', 'PART', 'PART', 'PART', 'PART', 'PART', 'PART', 'PART', 'PART', 'PART', 'PART', 'PART', 'PART', 'PART', 'PART', 'PART', 'PART', 'PART', 'PART', 'PART', 'PART', 'PART', 'PART', 'PART', 'PART', 'PART', 'PART', 'PART', 'PART', 'PART', 'PART', 'PART', 'PART', 'PART', 'PART', 'PART', 'PART', 'PART', 'PART', 'PART', 'PART', 'PART', 'PART', 'PART', 'PART', 'PART', 'PART', 'PART', 'PART', 'PART', 'PART', 'PART', 'PART', 'PART', 'PART', 'PART', 'PART', 'PART', 'PART', 'PART', 'PART', 'PART', 'PART', 'PART', 'PART', 'PART', 'PART', 'PART', 'PART', 'PART', 'PART', 'PART', 'PART', 'PART', 'PART', 'PART', 'PART', 'PART', 'PART', 'PART', 'PART', 'PART', 'PART', 'PART', 'PART', 'PART', 'PART', 'PART', 'PART', 'PART', 'PART', 'PART', 'PART', 'PART', 'PART', 'PART', 'PART', 'PART', 'PART', 'PART', 'PART', 'PART', 'PART', 'PART', 'PART', 'PART', 'PART', 'PART', 'PART', 'PART', 'PART', 'PART', 'PART', 'PART', 'PART', 'PART', 'PART', 'PART', 'PART', 'PART', 'PART', 'PART', 'PART', 'PART', 'PART', 'PART', 'PART', 'PART', 'PART', 'PART', 'PART', 'PART', 'PART', 'PART', 'PART', 'PART', 'PART', 'PART', 'PART', 'PART', 'PART', 'PART', 'PART', 'part', 'PART', 'PART', 'PART', 'PART', 'PART', 'PART', 'PART', 'PART', 'PART', 'PART', 'PART', 'PART', 'PART', 'PART', 'PART', 'PART', 'PART', 'PART', 'PART', 'PART', 'PART', 'PART', 'PART', 'PART', 'PART', 'PART', 'PART', 'PART', 'PART', 'PART', 'PART', 'PART', 'PART', 'PART', 'PART', 'PART', 'PART', 'PART', 'PART', 'PART', 'PART', 'PART', 'PART', 'PART', 'PART', 'PART', 'PART', 'PART', 'PART', 'PART', 'PART', 'PART', 'PART', 'PART', 'PART', 'PART', 'PART', 'PART', 'PART', 'PART', 'PART', 'PART', 'PART', 'PART', 'PART', 'PART', 'PART', 'PART', 'PART', 'PART', 'PART', 'PART', 'PART', 'PART', 'PART', 'PART', 'PART', 'PART', 'PART', 'PART', 'PART', 'PART', 'PART', 'PART', 'PART', 'PART', 'PART', 'PART', 'PART', 'PART', 'PART', 'PART', 'PART', 'PART', 'PART', 'PART', 'PART', 'PART', 'PART', 'PART', 'PART', 'PART', 'PART', 'PART', 'PART', 'PART', 'PART', 'PART', 'PART', 'PART', 'PART', 'PART', 'PART', 'PART', 'PART', 'PART', 'PART', 'PART', 'PART', 'PART', 'PART', 'PART', 'PART', 'PART', 'PART', 'PART', 'PART', 'PART', 'PART', 'PART', 'PART', 'PART', 'PART', 'PART', 'PART', 'PART', 'PART', 'PART', 'PART', 'PART', 'PART', 'PART', 'PART', 'PART', 'PART', 'PART', 'PART', 'PART', 'PART', 'PART', 'PART', 'PART', 'PART', 'PART', 'PART', 'PART', 'PART', 'PART', 'PART', 'PART', 'PART', 'PART', 'PART', 'PART', 'PART', 'PART', 'PART', 'PART', 'PART', 'PART', 'PART', 'PART', 'PART', 'PART', 'PART', 'PART', 'PART', 'PART', 'PART', 'PART', 'PART', 'PART', 'PART', 'PART', 'PART', 'PART', 'PART', 'PART', 'PART', 'PART', 'PART', 'PART', 'PART', 'PART', 'PART', 'PART', 'PART', 'PART', 'PART', 'PART', 'PART', 'PART', 'PART', 'PART', 'PART', 'PART', 'PART', 'PART', 'PART', 'PART', 'PART', 'PART', 'PART', 'PART', 'PART', 'PART', 'PART', 'PART', 'PART', 'PART', 'PART', 'PART', 'PART', 'PART', 'PART', 'PART', 'PART', 'PART', 'PART', 'PART', 'PART', 'PART', 'PART', 'PART', 'PART', 'PART', 'PART', 'PART', 'PART', 'PART', 'PART', 'PART', 'PART', 'PART', 'PART', 'PART', 'PART', 'part', 'PART', 'PART', 'PART', 'PART', 'PART', 'PART', 'PART', 'PART', 'PART', 'PART', 'PART', 'PART', 'PART', 'PART', 'PART', 'PART', 'PART', 'PART', 'PART', 'PART', 'PART', 'PART', 'PART', 'PART', 'PART', 'PART', 'PART', 'PART', 'PART', 'PART', 'PART', 'PART', 'PART', 'PART', 'PART', 'PART', 'PART', 'PART', 'PART', 'PART', 'PART', 'PART', 'PART', 'PART', 'PART', 'PART', 'PART', 'PART', 'PART', 'PART', 'PART', 'PART', 'PART', 'PART', 'PART', 'PART', 'PART', 'PART', 'PART', 'PART', 'PART', 'PART', 'PART', 'PART', 'PART', 'PART', 'PART', 'PART', 'PART', 'PART', 'PART', 'PART', 'PART', 'PART', 'PART', 'PART', 'PART', 'PART', 'PART', 'PART', 'PART', 'PART', 'PART', 'PART', 'PART', 'PART', 'PART', 'PART', 'PART', 'PART', 'PART', 'PART', 'PART', 'PART', 'PART', 'PART', 'PART', 'PART', 'PART', 'PART', 'PART', 'PART', 'PART', 'PART', 'PART', 'PART', 'PART', 'PART', 'PART', 'PART', 'PART', 'PART', 'PART', 'PART', 'PART', 'PART', 'PART', 'PART', 'PART', 'PART', 'PART', 'PART', 'PART', 'PART', 'PART', 'PART', 'PART', 'PART', 'PART', 'PART', 'PART', 'PART', 'PART', 'PART', 'PART', 'PART', 'PART', 'PART', 'PART', 'PART', 'PART', 'PART', 'PART', 'PART', 'PART', 'PART', 'PART', 'PART', 'PART', 'PART', 'PART', 'PART', 'PART', 'PART', 'PART', 'PART', 'PART', 'PART', 'part', 'PART', 'PART', 'PART', 'PART', 'PART', 'PART', 'PART', 'PART', 'PART', 'PART', 'PART', 'PART', 'PART', 'PART', 'PART', 'PART', 'PART', 'PART', 'PART', 'PART', 'PART', 'PART', 'PART', 'PART', 'PART', 'PART', 'PART', 'PART', 'PART', 'PART', 'PART', 'PART', 'PART', 'PART', 'PART', 'PART', 'PART', 'PART', 'PART', 'PART', 'PART', 'PART', 'PART', 'PART', 'PART', 'PART', 'PART', 'PART', 'PART', 'PART', 'PART', 'PART', 'PART', 'PART', 'PART', 'PART', 'PART', 'PART', 'part', 'PART', 'PART', 'PART', 'PART', 'PART', 'PART', 'PART', 'PART', 'PART', 'PART', 'PART', 'PART', 'PART', 'PART', 'PART', 'PART', 'PART', 'PART', 'PART', 'PART', 'PART', 'PART', 'PART', 'PART', 'PART', 'part', 'PART', 'PART', 'PART', 'PART', 'PART', 'PART', 'PART', 'PART', 'PART', 'PART', 'PART', 'PART', 'PART', 'PART', 'PART', 'PART', 'PART', 'PART', 'PART', 'PART', 'PART', 'PART', 'PART', 'PART', 'PART', 'PART', 'PART', 'PART', 'PART', 'PART', 'PART', 'PART', 'PART', 'PART', 'PART', 'PART', 'PART', 'PART', 'PART', 'PART', 'PART', 'PART', 'PART', 'PART', 'PART', 'PART', 'PART', 'PART', 'PART', 'PART', 'PART', 'PART', 'PART', 'PART', 'PART', 'PART', 'PART', 'PART', 'part', 'PART', 'PART', 'PART', 'PART', 'PART', 'PART', 'PART', 'PART', 'PART', 'PART', 'PART', 'PART', 'PART', 'PART', 'PART', 'PART', 'PART', 'PART', 'PART', 'PART', 'PART', 'PART', 'PART', 'PART', 'PART', 'PART', 'PART', 'PART', 'PART', 'PART', 'PART', 'PART', 'PART', 'PART', 'PART', 'PART', 'PART', 'PART', 'PART', 'PART', 'PART', 'PART', 'PART', 'PART', 'PART', 'PART', 'PART', 'PART', 'PART', 'PART', 'PART', 'PART', 'PART', 'PART', 'PART', 'PART', 'PART', 'PART', 'PART', 'PART', 'PART', 'PART', 'PART', 'PART', 'PART', 'PART', 'PART', 'PART', 'PART', 'PART', 'PART', 'PART', 'PART', 'PART', 'PART', 'PART', 'PART', 'PART', 'PART', 'PART', 'PART', 'PART', 'PART', 'PART', 'PART', 'PART', 'PART', 'PART', 'PART', 'PART', 'PART', 'PART', 'PART', 'PART', 'PART', 'PART', 'PART', 'PART', 'PART', 'PART', 'PART', 'PART', 'PART', 'PART', 'PART', 'PART', 'PART', 'PART', 'PART', 'PART', 'PART', 'PART', 'PART', 'PART', 'PART', 'PART', 'PART', 'PART', 'PART', 'PART', 'PART', 'PART', 'PART', 'PART', 'PART', 'PART', 'PART', 'PART', 'PART', 'PART', 'PART', 'PART', 'PART', 'PART', 'PART', 'PART', 'PART', 'PART', 'PART', 'PART', 'PART', 'PART', 'PART', 'PART', 'PART', 'PART', 'PART', 'PART', 'PART', 'PART', 'PART', 'park', 'park', 'pair', 'pain', 'pain', 'pain', 'pain', 'paid', 'page', 'owww', 'over', 'over', 'over', 'over', 'over', 'over', 'over', 'over', 'over', 'over', 'over', 'over', 'over', 'over', 'over', 'over', 'over', 'over', 'over', 'over', 'over', 'over', 'over', 'over', 'over', 'over', 'over', 'over', 'over', 'over', 'over', 'over', 'Over', 'over', 'over', 'over', 'over', 'over', 'over', 'over', 'outs', 'outa', 'out.', 'ouch', 'ouch', 'ouch', 'ouch', 'otay', 'orta', 'orgy', 'orgy', 'orgy', 'opps', 'opps', 'open', 'open', 'open', 'open', 'OOPS', 'oops', 'oops', 'oops', 'oops', 'Oops', 'oops', 'oops', 'oooh', 'ooer', 'Only', 'only', 'only', 'only', 'Only', 'only', 'only', 'only', 'only', 'only', 'only', 'only', 'only', 'only', 'only', 'only', 'only', 'only', 'only', 'Only', 'only', 'only', 'only', 'only', 'only', 'only', 'only', 'only', 'only', 'only', 'only', 'only', 'only', 'only', 'only', 'only', 'ones', 'ones', 'ones', 'ones', 'once', 'once', 'once', 'once', 'once', 'once', 'once', 'once', 'once', 'once', 'okey', 'okay', 'okay', 'okay', 'okay', 'okay', 'okay', 'okay', 'Okay', 'Okay', \"ok'd\", 'ohwa', 'ohio', 'Ohio', 'ohio', 'Ohio', 'ohhh', 'ohhh', 'ohhh', 'ohhh', 'ohhh', 'Ohhh', 'ogan', 'offa', 'O.k.', 'o.k.', 'O.k.', 'numb', 'nuff', 'nude', 'NTMN', 'Nova', 'noth', 'note', 'note', 'note', 'nose', 'nose', 'nose', 'nose', 'nose', 'nope', 'nope', 'nope', 'nope', 'nope', 'nope', 'nope', 'nope', 'nope', 'nope', 'nope', 'nope', 'Nope', 'nope', 'Nooo', 'none', 'none', 'none', 'none', 'None', 'NONE', 'NONE', 'nods', 'nite', 'nite', 'nite', 'nite', 'nite', 'nite', 'nite', 'nite', 'nite', 'nite', 'nite', 'nite', 'nite', 'nite', 'nite', 'nite', 'nite', 'NICK', 'NICK', 'NICK', 'nick', 'NICK', 'NICK', 'nick', 'NICK', 'NICK', 'NICK', 'NICK', 'NICK', 'NICK', 'NICK', 'nick', 'nick', 'nick', 'nick', 'NICK', 'nick', 'nick', 'NICK', 'NICK', 'NICK', 'NICK', 'NICK', 'NICK', 'NICK', 'NICK', 'NICK', 'NICK', 'nick', 'NICK', 'nice', 'nice', 'nice', 'nice', 'nice', 'nice', 'nice', 'nice', 'nice', 'nice', 'Nice', 'nice', 'nice', 'nice', 'nice', 'nice', 'nice', 'nice', 'nice', 'nice', 'nice', 'nice', 'nice', 'nice', 'nice', 'nice', 'nice', 'nice', 'nice', 'Nice', 'nice', 'nice', 'nice', 'nice', 'nice', 'nice', 'nice', 'nice', 'nice', 'nice', 'nice', 'nice', 'nice', 'nice', 'nice', 'nice', 'nice', 'nice', 'nice', 'nice', 'nice', 'nice', 'nice', 'nice', 'next', 'next', 'next', 'next', 'next', 'next', 'News', 'newp', 'newp', 'nerd', 'need', 'need', 'Need', 'need', 'need', 'need', 'need', 'need', 'need', 'need', 'need', 'need', 'need', 'need', 'need', 'need', 'need', 'need', 'need', 'need', 'need', 'need', 'need', 'need', 'need', 'need', 'need', 'need', 'need', 'need', 'need', 'need', 'need', 'need', 'need', 'need', 'need', 'need', 'need', 'need', 'need', 'need', 'need', 'need', 'neck', 'neck', 'neck', 'neck', 'neck', 'neck', 'neck', 'neck', 'neck', 'near', 'near', 'near', 'near', 'near', 'near', 'near', 'near', 'near', 'near', 'near', 'near', 'near', 'nawt', 'nawp', 'nana', 'nana', 'nana', 'name', 'name', 'name', 'name', 'name', 'name', 'name', 'name', 'name', 'name', 'NAME', 'name', 'name', 'name', 'name', 'name', 'name', 'name', 'name', 'name', 'name', 'name', 'name', 'name', 'name', 'name', 'name', 'name', 'nads', 'nada', 'n9ne', 'n9ne', 'must', 'must', 'must', 'must', 'must', 'must', 'must', 'must', 'must', 'must', 'must', 'must', 'must', 'must', 'must', 'must', 'must', 'must', 'must', 'much', 'much', 'much', 'much', 'much', 'much', 'much', 'much', 'much', 'much', 'much', 'much', 'much', 'much', 'much', 'much', 'much', 'much', 'much', 'much', 'much', 'much', 'much', 'much', 'much', 'much', 'much', 'much', 'much', 'much', 'much', 'much', 'much', 'much', 'much', 'much', 'much', 'much', 'much', 'much', 'MUAH', 'MRIs', 'move', 'move', 'move', 'most', 'most', 'most', 'most', 'most', 'most', 'more', 'more', 'more', 'MORE', 'more', 'more', 'more', 'more', 'more', 'more', 'more', 'more', 'more', 'more', 'more', 'more', 'more', 'more', 'more', 'more', 'more', 'more', 'more', 'more', 'more', 'more', 'more', 'more', 'more', 'more', 'more', 'more', 'more', 'more', 'more', 'moon', 'moon', 'Mono', 'mono', 'moms', 'mofo', 'MODE', 'MODE', 'mode', 'MODE', 'MODE', 'MODE', 'MODE', 'MODE', 'MODE', 'MODE', 'MODE', 'MODE', 'MODE', 'MODE', 'MODE', 'MODE', 'MODE', 'MODE', 'MODE', 'MODE', 'MODE', 'MODE', 'MODE', 'MODE', 'MODE', 'MODE', 'MODE', 'MODE', 'MODE', 'MODE', 'MODE', 'MODE', 'MODE', 'MODE', 'MODE', 'MODE', 'MODE', 'MODE', 'MODE', 'MODE', 'MODE', 'MODE', 'mmmm', 'mmmm', 'mmmm', 'mmmm', 'mkay', 'mite', 'miss', 'miss', 'miss', 'miss', 'miss', 'mins', 'mins', 'mine', 'mine', 'mine', 'mine', 'mine', 'mine', 'mine', 'mine', 'mine', 'Mine', 'mind', 'mind', 'mind', 'mind', 'mind', 'mind', 'mind', 'mind', 'mind', 'mind', 'mike', 'mike', 'mess', 'menu', 'mena', 'meet', 'meet', 'meet', 'meet', 'meet', 'Meep', 'meds', 'meds', 'meds', 'meds', 'meds', 'meat', 'meat', 'mean', 'mean', 'mean', 'mean', 'mean', 'mean', 'mean', 'mean', 'mean', 'mean', 'mean', 'mean', 'mean', 'mean', 'mean', 'mean', 'mean', 'mean', 'mean', 'mauh', 'Matt', 'mass', 'mass', 'Mary', 'mary', 'mary', 'mary', 'mark', 'Maps', 'many', 'many', 'many', 'many', 'many', 'many', 'many', 'many', 'many', 'many', 'many', 'many', 'many', 'many', 'many', 'many', 'many', 'many', 'many', 'many', 'many', 'many', 'many', 'mang', 'mami', 'mame', 'mama', 'mama', 'male', 'male', 'male', 'male', 'male', 'male', 'male', 'male', 'male', 'male', 'male', 'male', 'Male', 'make', 'make', 'make', 'make', 'make', 'make', 'make', 'make', 'make', 'make', 'make', 'make', 'make', 'make', 'make', 'make', 'make', 'make', 'make', 'make', 'make', 'make', 'make', 'make', 'make', 'make', 'make', 'make', 'make', 'make', 'make', 'make', 'make', 'make', 'make', 'make', 'make', 'make', 'make', 'make', 'make', 'make', 'make', 'make', 'main', 'main', 'main', 'main', 'main', 'main', 'mahn', 'made', 'made', 'made', 'made', 'made', 'made', 'made', 'made', 'lyin', 'luvs', 'luvs', 'lust', 'lung', 'luck', 'luck', 'luck', 'luck', 'luck', 'lube', 'ltns', 'ltns', 'ltnc', 'love', 'love', 'love', 'love', 'love', 'love', 'love', 'love', 'love', 'love', 'love', 'love', 'love', 'Love', 'love', 'love', 'love', 'love', 'love', 'love', 'love', 'love', 'love', 'love', 'LoVe', 'Love', 'love', 'love', 'love', 'love', 'love', 'love', 'love', 'love', 'love', 'love', 'love', 'love', 'love', 'love', 'love', 'love', 'love', 'love', 'love', 'love', 'love', 'love', 'love', 'love', 'love', 'love', 'love', 'love', 'love', 'love', 'love', 'love', 'love', 'love', 'love', 'love', 'love', 'loud', 'LOUD', 'lots', 'lost', 'lost', 'lost', 'lost', 'lost', 'lost', 'lost', 'lost', 'lost', 'lost', 'lost', 'lost', 'lost', 'lost', 'lost', 'lost', 'lost', 'loss', 'lose', 'lose', 'lose', 'lose', 'lose', 'Lord', 'lord', 'lord', 'lord', 'lord', 'lool', 'look', 'look', 'look', 'look', 'look', 'look', 'look', 'look', 'look', 'look', 'look', 'look', 'look', 'look', 'look', 'look', 'look', 'look', 'look', 'look', 'look', 'look', 'Look', 'look', 'look', 'look', 'look', 'long', 'long', 'LONG', 'long', 'long', 'long', 'long', 'long', 'long', 'long', 'long', 'long', 'long', 'long', 'long', 'long', 'long', 'long', 'long', 'Long', 'long', 'long', 'long', 'long', 'long', 'long', 'long', 'long', 'long', 'long', 'lol.', 'lois', 'lmao', 'lmao', 'lmao', 'lmao', 'lmao', 'lmao', 'lmao', 'lmao', 'lmao', 'lmao', 'lmao', 'lmao', 'lmao', 'lmao', 'lmao', 'lmao', 'lmao', 'lmao', 'lmao', 'lmao', 'lmao', 'lmao', 'lmao', 'lmao', 'lmao', 'lmao', 'lmao', 'lmao', 'lmao', 'LMAO', 'lmao', 'LMAO', 'lmao', 'lmao', 'lmao', 'lmao', 'lmao', 'LMAO', 'LMAO', 'lmao', 'lmao', 'lmao', 'lmao', 'lmao', 'lmao', 'lmao', 'LMAO', 'lmao', 'lmao', 'lmao', 'lmao', 'lmao', 'lmao', 'lmao', 'lmao', 'lmao', 'lmao', 'lmao', 'lmao', 'lmao', 'lmao', 'lmao', 'lmao', 'lmao', 'lmao', 'lmao', 'lmao', 'lmao', 'lmao', 'lmao', 'lmao', 'lmao', 'LMAO', 'lmao', 'lmao', 'lmao', 'lmao', 'lmao', 'lmao', 'lmao', 'lmao', 'lmao', 'lmao', 'lmao', 'lmao', 'lmao', 'lmao', 'lmao', 'LMAO', 'lmao', 'lmao', 'lmao', 'LMAO', 'lmao', 'lmao', 'LMAO', 'LMAO', 'LMAO', 'lmao', 'lmao', 'LMAO', 'LMAO', 'LMAO', 'lmao', 'LMAO', 'LMAO', 'lmao', 'lmao', 'lmao', 'LMAO', 'lmao', 'lmao', 'lmao', 'lmao', 'LMAO', 'lmao', 'lmao', 'lmao', 'lmao', 'lmao', 'lmao', 'lmao', 'lmao', 'LMAO', 'Lmao', 'lmao', 'Lmao', 'lmao', 'LIVE', 'live', 'live', 'live', 'Live', 'Live', 'live', 'live', 'live', 'live', 'live', 'live', 'live', 'live', 'live', 'live', 'live', 'live', 'live', 'live', 'live', 'live', 'live', 'list', 'list', 'list', 'list', 'list', 'list', 'lisa', 'Lion', 'line', 'line', 'line', 'line', 'limp', 'limp', 'Lime', 'Lime', 'Lime', 'Lime', 'Lime', 'like', 'like', 'like', 'like', 'like', 'like', 'like', 'like', 'like', 'like', 'like', 'like', 'like', 'like', 'like', 'like', 'like', 'like', 'like', 'Like', 'like', 'like', 'like', 'like', 'like', 'like', 'like', 'like', 'like', 'like', 'like', 'like', 'like', 'like', 'like', 'like', 'like', 'like', 'like', 'like', 'like', 'like', 'like', 'like', 'like', 'like', 'like', 'like', 'like', 'like', 'like', 'like', 'like', 'like', 'like', 'like', 'Like', 'like', 'like', 'like', 'like', 'like', 'like', 'like', 'like', 'like', 'like', 'like', 'like', 'like', 'like', 'like', 'Like', 'like', 'like', 'like', 'like', 'like', 'like', 'like', 'like', 'like', 'like', 'like', 'like', 'like', 'like', 'like', 'like', 'like', 'like', 'like', 'like', 'like', 'like', 'like', 'like', 'like', 'like', 'like', 'like', 'like', 'like', 'like', 'Like', 'like', 'like', 'like', 'like', 'like', 'like', 'like', 'like', 'like', 'like', 'like', 'like', 'like', 'like', 'like', 'like', 'like', 'like', 'like', 'like', 'like', 'like', 'like', 'like', 'like', 'like', 'like', 'like', 'like', 'like', 'like', 'like', 'like', 'like', 'like', 'like', 'like', 'like', 'like', 'like', 'like', 'like', 'like', 'like', 'like', 'like', 'like', 'like', 'like', 'like', 'like', 'like', 'like', 'like', 'like', 'life', 'life', 'life', 'Life', 'life', 'life', 'life', 'life', 'life', 'life', 'life', 'life', 'life', 'life', 'life', 'life', 'life', 'life', 'life', 'life', 'life', 'life', 'Lies', 'Lies', 'lies', 'lies', 'lick', 'lick', 'lick', 'lick', 'lick', 'Liam', 'Liam', 'Liam', 'Liam', 'Liam', 'Liam', 'Liam', 'Liam', 'Liam', 'Liam', 'lets', 'lets', 'lets', 'lets', 'lets', 'lets', 'Lets', 'lets', 'Lets', 'lets', 'lets', 'lets', 'lets', 'lets', 'lets', 'lets', 'lets', 'legs', 'legs', 'legs', 'legs', 'legs', 'left', 'left', 'left', 'left', 'left', 'left', 'left', 'left', 'left', 'left', 'left', 'left', 'left', 'left', 'left', 'left', 'left', 'lead', 'lead', 'lead', 'lazy', 'lawl', 'lawl', 'late', 'late', 'late', 'late', 'LATE', 'late', 'LAst', 'last', 'last', 'last', 'last', 'last', 'last', 'last', 'last', 'last', 'last', 'last', 'last', 'last', 'Last', 'Last', 'last', 'last', 'last', 'last', 'last', 'last', 'last', 'last', 'Last', 'Last', 'last', 'Last', 'Last', 'lapd', 'land', 'land', 'land', 'land', 'land', 'lame', 'lame', 'lame', 'lame', 'lala', 'lake', 'laid', 'ladz', 'lady', 'lady', 'lady', 'lady', 'lady', 'lady', 'lady', 'lady', 'kool', 'kool', 'kool', 'KoOL', 'kool', 'KoOL', 'kool', 'kong', 'Kold', 'kold', 'know', 'know', 'know', 'know', 'know', 'know', 'know', 'know', 'know', 'know', 'know', 'know', 'know', 'know', 'know', 'know', 'know', 'know', 'know', 'know', 'know', 'know', 'know', 'know', 'know', 'know', 'know', 'know', 'know', 'know', 'know', 'know', 'know', 'know', 'know', 'know', 'know', 'know', 'know', 'know', 'know', 'know', 'know', 'know', 'know', 'know', 'know', 'know', 'know', 'know', 'know', 'know', 'know', 'know', 'know', 'know', 'know', 'know', 'know', 'know', 'know', 'know', 'know', 'know', 'know', 'know', 'know', 'know', 'know', 'know', 'know', 'know', 'know', 'know', 'know', 'know', 'know', 'know', 'know', 'know', 'know', 'know', 'know', 'know', 'know', 'know', 'know', 'know', 'know', 'know', 'know', 'know', 'know', 'know', 'know', 'know', 'know', 'know', 'know', 'KNOW', 'know', 'know', 'know', 'know', 'knew', 'knew', 'knew', 'knew', 'knew', 'knew', 'knee', 'kmph', 'kiss', 'kiss', 'kiss', 'kiss', 'kiss', 'kiss', 'Kiss', 'kiss', 'kiss', 'kiss', 'King', 'king', 'kind', 'kind', 'kina', 'kill', 'kill', 'kill', 'kill', 'kill', 'kill', 'kill', 'kill', 'kill', 'kill', 'kill', 'kill', 'kill', 'kill', 'kill', 'kids', 'kids', 'kids', 'kids', 'kids', 'kids', 'kids', 'kids', 'kids', 'kids', 'kids', 'Kids', 'kick', 'Kick', 'kick', 'kick', 'kick', 'kick', 'kick', 'kick', 'keys', 'kewl', 'Kewl', 'kewl', 'kept', 'kent', 'Kent', 'kent', 'kent', 'kent', 'keep', 'keep', 'keep', 'keep', 'keep', 'keep', 'keep', 'keep', 'keep', 'keep', 'keep', 'keep', 'keep', 'keep', 'Just', 'just', 'just', 'just', 'just', 'just', 'just', 'just', 'just', 'just', 'just', 'just', 'just', 'just', 'just', 'just', 'just', 'just', 'just', 'just', 'just', 'just', 'just', 'just', 'just', 'just', 'just', 'just', 'just', 'just', 'just', 'just', 'just', 'just', 'just', 'just', 'just', 'just', 'just', 'just', 'just', 'just', 'just', 'just', 'just', 'just', 'just', 'just', 'just', 'just', 'just', 'just', 'just', 'just', 'just', 'just', 'just', 'just', 'just', 'just', 'just', 'just', 'just', 'just', 'just', 'just', 'just', 'just', 'Just', 'just', 'just', 'just', 'just', 'just', 'just', 'just', 'just', 'just', 'just', 'just', 'just', 'just', 'just', 'just', 'just', 'just', 'just', 'just', 'just', 'just', 'just', 'just', 'just', 'just', 'just', 'just', 'just', 'just', 'just', 'just', 'just', 'just', 'just', 'just', 'just', 'just', 'just', 'just', 'just', 'just', 'just', 'just', 'just', 'just', 'just', 'just', 'just', 'just', 'just', 'just', 'just', 'just', 'just', 'just', 'just', 'JUST', 'just', 'just', 'jush', 'junk', 'jump', 'jump', 'jump', 'Judy', 'jude', 'joke', 'joke', 'joke', 'joke', 'joke', 'JOIN', 'JOIN', 'JOIN', 'JOIN', 'JOIN', 'JOIN', 'JOIN', 'JOIN', 'JOIN', 'JOIN', 'JOIN', 'JOIN', 'JOIN', 'JOIN', 'JOIN', 'JOIN', 'JOIN', 'JOIN', 'JOIN', 'JOIN', 'JOIN', 'JOIN', 'JOIN', 'JOIN', 'JOIN', 'JOIN', 'JOIN', 'JOIN', 'JOIN', 'JOIN', 'JOIN', 'JOIN', 'JOIN', 'JOIN', 'JOIN', 'JOIN', 'JOIN', 'JOIN', 'JOIN', 'JOIN', 'JOIN', 'JOIN', 'JOIN', 'JOIN', 'JOIN', 'JOIN', 'JOIN', 'JOIN', 'JOIN', 'JOIN', 'JOIN', 'JOIN', 'JOIN', 'JOIN', 'JOIN', 'JOIN', 'JOIN', 'JOIN', 'JOIN', 'JOIN', 'JOIN', 'JOIN', 'JOIN', 'JOIN', 'JOIN', 'JOIN', 'JOIN', 'JOIN', 'JOIN', 'JOIN', 'JOIN', 'JOIN', 'JOIN', 'JOIN', 'JOIN', 'JOIN', 'JOIN', 'JOIN', 'JOIN', 'JOIN', 'JOIN', 'JOIN', 'JOIN', 'JOIN', 'JOIN', 'JOIN', 'JOIN', 'JOIN', 'JOIN', 'JOIN', 'JOIN', 'JOIN', 'JOIN', 'JOIN', 'JOIN', 'JOIN', 'JOIN', 'JOIN', 'JOIN', 'JOIN', 'JOIN', 'JOIN', 'JOIN', 'JOIN', 'JOIN', 'JOIN', 'JOIN', 'JOIN', 'JOIN', 'JOIN', 'JOIN', 'JOIN', 'JOIN', 'JOIN', 'JOIN', 'JOIN', 'JOIN', 'JOIN', 'JOIN', 'JOIN', 'JOIN', 'JOIN', 'JOIN', 'JOIN', 'JOIN', 'JOIN', 'JOIN', 'JOIN', 'JOIN', 'JOIN', 'JOIN', 'JOIN', 'JOIN', 'JOIN', 'JOIN', 'JOIN', 'JOIN', 'JOIN', 'JOIN', 'JOIN', 'JOIN', 'JOIN', 'JOIN', 'JOIN', 'JOIN', 'JOIN', 'JOIN', 'JOIN', 'JOIN', 'JOIN', 'JOIN', 'JOIN', 'JOIN', 'JOIN', 'JOIN', 'JOIN', 'JOIN', 'JOIN', 'JOIN', 'JOIN', 'JOIN', 'JOIN', 'JOIN', 'JOIN', 'JOIN', 'JOIN', 'JOIN', 'JOIN', 'JOIN', 'JOIN', 'JOIN', 'JOIN', 'JOIN', 'JOIN', 'JOIN', 'JOIN', 'JOIN', 'JOIN', 'JOIN', 'JOIN', 'JOIN', 'JOIN', 'JOIN', 'JOIN', 'JOIN', 'JOIN', 'JOIN', 'JOIN', 'JOIN', 'JOIN', 'JOIN', 'JOIN', 'JOIN', 'JOIN', 'JOIN', 'JOIN', 'JOIN', 'JOIN', 'JOIN', 'JOIN', 'JOIN', 'JOIN', 'JOIN', 'JOIN', 'JOIN', 'JOIN', 'JOIN', 'JOIN', 'JOIN', 'JOIN', 'JOIN', 'JOIN', 'JOIN', 'JOIN', 'JOIN', 'JOIN', 'JOIN', 'JOIN', 'JOIN', 'JOIN', 'JOIN', 'JOIN', 'JOIN', 'JOIN', 'JOIN', 'JOIN', 'JOIN', 'JOIN', 'JOIN', 'JOIN', 'JOIN', 'JOIN', 'JOIN', 'JOIN', 'JOIN', 'JOIN', 'JOIN', 'JOIN', 'JOIN', 'JOIN', 'JOIN', 'JOIN', 'JOIN', 'JOIN', 'JOIN', 'JOIN', 'JOIN', 'JOIN', 'JOIN', 'JOIN', 'JOIN', 'JOIN', 'JOIN', 'JOIN', 'JOIN', 'JOIN', 'JOIN', 'JOIN', 'JOIN', 'JOIN', 'JOIN', 'JOIN', 'JOIN', 'JOIN', 'JOIN', 'JOIN', 'JOIN', 'JOIN', 'JOIN', 'JOIN', 'JOIN', 'JOIN', 'JOIN', 'JOIN', 'JOIN', 'JOIN', 'JOIN', 'JOIN', 'JOIN', 'JOIN', 'JOIN', 'JOIN', 'JOIN', 'JOIN', 'JOIN', 'JOIN', 'JOIN', 'JOIN', 'JOIN', 'JOIN', 'JOIN', 'JOIN', 'JOIN', 'JOIN', 'JOIN', 'JOIN', 'JOIN', 'JOIN', 'JOIN', 'JOIN', 'JOIN', 'JOIN', 'JOIN', 'JOIN', 'JOIN', 'JOIN', 'JOIN', 'JOIN', 'JOIN', 'JOIN', 'JOIN', 'JOIN', 'JOIN', 'JOIN', 'JOIN', 'JOIN', 'JOIN', 'JOIN', 'JOIN', 'JOIN', 'JOIN', 'JOIN', 'JOIN', 'JOIN', 'JOIN', 'JOIN', 'JOIN', 'JOIN', 'JOIN', 'JOIN', 'JOIN', 'JOIN', 'JOIN', 'JOIN', 'JOIN', 'JOIN', 'JOIN', 'JOIN', 'JOIN', 'JOIN', 'JOIN', 'JOIN', 'JOIN', 'JOIN', 'JOIN', 'JOIN', 'JOIN', 'JOIN', 'JOIN', 'JOIN', 'JOIN', 'JOIN', 'JOIN', 'JOIN', 'JOIN', 'JOIN', 'JOIN', 'JOIN', 'JOIN', 'JOIN', 'JOIN', 'JOIN', 'JOIN', 'JOIN', 'JOIN', 'JOIN', 'JOIN', 'JOIN', 'JOIN', 'JOIN', 'JOIN', 'JOIN', 'JOIN', 'JOIN', 'JOIN', 'JOIN', 'JOIN', 'JOIN', 'JOIN', 'JOIN', 'JOIN', 'JOIN', 'JOIN', 'JOIN', 'JOIN', 'JOIN', 'JOIN', 'JOIN', 'JOIN', 'JOIN', 'JOIN', 'JOIN', 'JOIN', 'JOIN', 'JOIN', 'JOIN', 'JOIN', 'JOIN', 'JOIN', 'JOIN', 'JOIN', 'JOIN', 'JOIN', 'JOIN', 'JOIN', 'JOIN', 'JOIN', 'JOIN', 'JOIN', 'JOIN', 'JOIN', 'JOIN', 'JOIN', 'JOIN', 'JOIN', 'JOIN', 'JOIN', 'JOIN', 'JOIN', 'JOIN', 'JOIN', 'JOIN', 'JOIN', 'JOIN', 'JOIN', 'JOIN', 'JOIN', 'JOIN', 'JOIN', 'JOIN', 'JOIN', 'JOIN', 'JOIN', 'JOIN', 'JOIN', 'JOIN', 'JOIN', 'JOIN', 'JOIN', 'JOIN', 'JOIN', 'JOIN', 'JOIN', 'JOIN', 'JOIN', 'JOIN', 'JOIN', 'JOIN', 'JOIN', 'JOIN', 'JOIN', 'JOIN', 'JOIN', 'JOIN', 'JOIN', 'JOIN', 'JOIN', 'JOIN', 'JOIN', 'JOIN', 'JOIN', 'JOIN', 'JOIN', 'JOIN', 'JOIN', 'JOIN', 'JOIN', 'JOIN', 'JOIN', 'JOIN', 'JOIN', 'JOIN', 'JOIN', 'JOIN', 'JOIN', 'JOIN', 'JOIN', 'JOIN', 'JOIN', 'JOIN', 'JOIN', 'JOIN', 'JOIN', 'JOIN', 'JOIN', 'JOIN', 'JOIN', 'JOIN', 'JOIN', 'JOIN', 'JOIN', 'JOIN', 'JOIN', 'JOIN', 'JOIN', 'JOIN', 'JOIN', 'JOIN', 'JOIN', 'JOIN', 'JOIN', 'JOIN', 'JOIN', 'JOIN', 'JOIN', 'JOIN', 'JOIN', 'JOIN', 'JOIN', 'JOIN', 'JOIN', 'JOIN', 'JOIN', 'JOIN', 'JOIN', 'JOIN', 'JOIN', 'JOIN', 'JOIN', 'JOIN', 'JOIN', 'JOIN', 'JOIN', 'JOIN', 'JOIN', 'JOIN', 'JOIN', 'JOIN', 'JOIN', 'JOIN', 'JOIN', 'JOIN', 'JOIN', 'JOIN', 'JOIN', 'JOIN', 'JOIN', 'JOIN', 'JOIN', 'JOIN', 'JOIN', 'JOIN', 'JOIN', 'JOIN', 'JOIN', 'JOIN', 'JOIN', 'JOIN', 'JOIN', 'JOIN', 'JOIN', 'JOIN', 'JOIN', 'JOIN', 'JOIN', 'JOIN', 'JOIN', 'JOIN', 'JOIN', 'JOIN', 'JOIN', 'JOIN', 'JOIN', 'JOIN', 'JOIN', 'JOIN', 'JOIN', 'JOIN', 'JOIN', 'JOIN', 'JOIN', 'JOIN', 'JOIN', 'JOIN', 'JOIN', 'JOIN', 'JOIN', 'JOIN', 'JOIN', 'JOIN', 'JOIN', 'JOIN', 'JOIN', 'JOIN', 'JOIN', 'JOIN', 'JOIN', 'JOIN', 'JOIN', 'JOIN', 'JOIN', 'JOIN', 'JOIN', 'JOIN', 'JOIN', 'JOIN', 'JOIN', 'JOIN', 'JOIN', 'JOIN', 'JOIN', 'JOIN', 'JOIN', 'JOIN', 'JOIN', 'JOIN', 'JOIN', 'JOIN', 'JOIN', 'JOIN', 'JOIN', 'JOIN', 'JOIN', 'JOIN', 'JOIN', 'JOIN', 'JOIN', 'JOIN', 'JOIN', 'JOIN', 'JOIN', 'JOIN', 'JOIN', 'JOIN', 'JOIN', 'JOIN', 'JOIN', 'JOIN', 'JOIN', 'JOIN', 'JOIN', 'JOIN', 'JOIN', 'JOIN', 'JOIN', 'JOIN', 'JOIN', 'JOIN', 'JOIN', 'JOIN', 'JOIN', 'JOIN', 'JOIN', 'JOIN', 'JOIN', 'JOIN', 'JOIN', 'JOIN', 'JOIN', 'JOIN', 'JOIN', 'JOIN', 'JOIN', 'JOIN', 'JOIN', 'JOIN', 'JOIN', 'JOIN', 'JOIN', 'JOIN', 'JOIN', 'JOIN', 'JOIN', 'JOIN', 'JOIN', 'JOIN', 'JOIN', 'JOIN', 'JOIN', 'JOIN', 'JOIN', 'JOIN', 'JOIN', 'JOIN', 'JOIN', 'JOIN', 'JOIN', 'JOIN', 'JOIN', 'JOIN', 'JOIN', 'JOIN', 'JOIN', 'JOIN', 'JOIN', 'JOIN', 'JOIN', 'JOIN', 'JOIN', 'JOIN', 'JOIN', 'JOIN', 'JOIN', 'JOIN', 'JOIN', 'JOIN', 'JOIN', 'JOIN', 'JOIN', 'JOIN', 'JOIN', 'JOIN', 'JOIN', 'JOIN', 'JOIN', 'JOIN', 'JOIN', 'JOIN', 'JOIN', 'JOIN', 'JOIN', 'JOIN', 'JOIN', 'JOIN', 'JOIN', 'JOIN', 'JOIN', 'JOIN', 'JOIN', 'JOIN', 'JOIN', 'JOIN', 'JOIN', 'JOIN', 'JOIN', 'JOIN', 'JOIN', 'JOIN', 'JOIN', 'JOIN', 'JOIN', 'JOIN', 'JOIN', 'JOIN', 'JOIN', 'JOIN', 'JOIN', 'JOIN', 'JOIN', 'JOIN', 'JOIN', 'JOIN', 'JOIN', 'JOIN', 'JOIN', 'JOIN', 'JOIN', 'JOIN', 'JOIN', 'JOIN', 'JOIN', 'JOIN', 'JOIN', 'JOIN', 'JOIN', 'JOIN', 'JOIN', 'JOIN', 'JOIN', 'JOIN', 'JOIN', 'JOIN', 'JOIN', 'JOIN', 'JOIN', 'JOIN', 'JOIN', 'JOIN', 'JOIN', 'JOIN', 'JOIN', 'JOIN', 'JOIN', 'JOIN', 'JOIN', 'JOIN', 'JOIN', 'JOIN', 'JOIN', 'JOIN', 'JOIN', 'JOIN', 'JOIN', 'JOIN', 'JOIN', 'JOIN', 'JOIN', 'JOIN', 'JOIN', 'JOIN', 'JOIN', 'JOIN', 'JOIN', 'JOIN', 'JOIN', 'JOIN', 'JOIN', 'JOIN', 'JOIN', 'JOIN', 'JOIN', 'JOIN', 'JOIN', 'JOIN', 'JOIN', 'JOIN', 'JOIN', 'JOIN', 'JOIN', 'JOIN', 'JOIN', 'JOIN', 'JOIN', 'JOIN', 'JOIN', 'JOIN', 'JOIN', 'JOIN', 'JOIN', 'JOIN', 'JOIN', 'JOIN', 'JOIN', 'JOIN', 'JOIN', 'JOIN', 'JOIN', 'JOIN', 'JOIN', 'JOIN', 'JOIN', 'JOIN', 'JOIN', 'JOIN', 'JOIN', 'JOIN', 'JOIN', 'JOIN', 'JOIN', 'JOIN', 'JOIN', 'JOIN', 'JOIN', 'JOIN', 'JOIN', 'JOIN', 'JOIN', 'JOIN', 'JOIN', 'JOIN', 'JOIN', 'JOIN', 'JOIN', 'JOIN', 'JOIN', 'JOIN', 'JOIN', 'JOIN', 'JOIN', 'JOIN', 'JOIN', 'JOIN', 'JOIN', 'JOIN', 'JOIN', 'JOIN', 'JOIN', 'JOIN', 'JOIN', 'JOIN', 'JOIN', 'JOIN', 'JOIN', 'JOIN', 'JOIN', 'JOIN', 'JOIN', 'JOIN', 'JOIN', 'JOIN', 'JOIN', 'JOIN', 'JOIN', 'JOIN', 'JOIN', 'JOIN', 'JOIN', 'JOIN', 'JOIN', 'JOIN', 'JOIN', 'JOIN', 'JOIN', 'JOIN', 'JOIN', 'JOIN', 'JOIN', 'JOIN', 'JOIN', 'JOIN', 'JOIN', 'JOIN', 'JOIN', 'JOIN', 'JOIN', 'JOIN', 'JOIN', 'JOIN', 'JOIN', 'JOIN', 'JOIN', 'JOIN', 'JOIN', 'JOIN', 'JOIN', 'JOIN', 'JOIN', 'JOIN', 'JOIN', 'JOIN', 'JOIN', 'JOIN', 'JOIN', 'JOIN', 'JOIN', 'JOIN', 'JOIN', 'JOIN', 'JOIN', 'JOIN', 'JOIN', 'JOIN', 'JOIN', 'JOIN', 'JOIN', 'JOIN', 'JOIN', 'JOIN', 'JOIN', 'JOIN', 'JOIN', 'JOIN', 'JOIN', 'JOIN', 'JOIN', 'JOIN', 'JOIN', 'JOIN', 'JOIN', 'JOIN', 'JOIN', 'JOIN', 'JOIN', 'JOIN', 'JOIN', 'JOIN', 'JOIN', 'JOIN', 'JOIN', 'JOIN', 'JOIN', 'JOIN', 'JOIN', 'JOIN', 'JOIN', 'JOIN', 'JOIN', 'JOIN', 'JOIN', 'JOIN', 'JOIN', 'JOIN', 'JOIN', 'JOIN', 'JOIN', 'JOIN', 'JOIN', 'JOIN', 'JOIN', 'JOIN', 'JOIN', 'JOIN', 'JOIN', 'JOIN', 'JOIN', 'JOIN', 'JOIN', 'JOIN', 'JOIN', 'JOIN', 'JOIN', 'JOIN', 'JOIN', 'JOIN', 'JOIN', 'JOIN', 'JOIN', 'JOIN', 'JOIN', 'JOIN', 'JOIN', 'JOIN', 'JOIN', 'JOIN', 'JOIN', 'JOIN', 'JOIN', 'JOIN', 'JOIN', 'JOIN', 'JOIN', 'JOIN', 'JOIN', 'JOIN', 'JOIN', 'JOIN', 'JOIN', 'JOIN', 'JOIN', 'JOIN', 'JOIN', 'John', 'john', 'john', 'John', 'Joey', 'Jess', 'jerk', 'jerk', 'jerk', 'jerk', 'jeff', 'jeep', 'Jane', 'jail', 'jack', 'itch', 'itch', 'itch', \"it's\", 'isnt', 'isnt', 'isnt', 'Iowa', 'into', 'into', 'into', 'into', 'into', 'into', 'into', 'into', 'into', 'into', 'into', 'inch', 'imma', 'imma', 'imma', 'idnt', 'idea', 'idea', 'idea', 'idea', 'idea', 'icky', 'hurt', 'hurt', 'hurt', 'hurr', 'hump', 'hump', 'hump', 'humm', 'humm', 'hugs', 'hugs', 'hugs', 'hugs', 'hugs', 'hugs', 'hugs', 'Hugs', 'hugs', 'hugs', 'hugs', 'hugs', 'hugs', 'hugs', 'hugs', 'hugs', 'hugs', 'hugs', 'hugs', 'HUGE', 'huge', 'huge', 'huge', 'huge', 'http', 'howz', 'howz', 'hows', 'hows', 'hows', 'hows', 'hows', 'hows', 'hows', 'hows', 'howl', 'hour', 'hour', 'hour', 'hour', 'hour', 'hour', 'hour', 'hour', 'hour', 'hott', 'Hott', 'HOTT', 'hott', 'hots', 'hope', 'hope', 'hope', 'hope', 'hope', 'hope', 'hope', 'hope', 'hope', 'hope', 'hope', 'hope', 'hooo', 'hook', 'hook', 'hook', 'hook', 'hong', 'home', 'home', 'home', 'home', 'home', 'Home', 'home', 'home', 'home', 'home', 'home', 'home', 'holy', 'holy', 'holy', 'Holy', 'holy', 'hold', 'Hold', 'hold', 'hola', 'hola', 'hola', 'hogs', 'hmph', 'hmph', 'hmmm', 'hmmm', 'hmmm', 'hmmm', 'hmmm', 'hmmm', 'hmmm', 'hmmm', 'hmmm', 'hiya', 'hiya', 'hiya', 'hiya', 'hiya', 'Hiya', 'hiya', 'hiya', 'hiya', 'hiya', 'hiya', 'hiya', 'hiya', 'hiya', 'hiya', 'hiya', 'hiya', 'hiya', 'Hiya', 'Hiya', 'Hiya', 'hiya', 'hiya', 'hiya', 'hiya', 'hiya', 'hiya', 'hiya', 'hiya', 'hiya', 'hiya', 'hiya', 'Hiya', 'hiya', 'hiya', 'hiya', 'hiya', 'hiya', 'hiya', 'hiya', 'hiya', 'hiya', 'hiya', 'hiya', 'hiya', 'hiya', 'hiya', 'hiya', 'hiya', 'hiya', 'hiya', 'hiya', 'hiya', 'hiya', 'hiya', 'hiya', 'hiya', 'Hiya', 'hiya', 'hiya', 'hiya', 'hiya', 'hiya', 'hiya', 'hiya', 'hiya', 'hiya', 'hiya', 'hiya', 'Hiya', 'hiya', 'hiya', 'hiya', 'hiya', 'hiya', 'hiya', 'hiya', 'hiya', 'hiya', 'hiya', 'hiya', 'hiya', 'hiya', 'hiya', 'hiya', 'hits', 'hits', 'hiom', 'hint', 'hint', 'Hill', 'hill', 'hiii', 'hiii', 'hiii', 'high', 'High', 'High', 'high', 'high', 'high', 'hide', 'hick', 'hick', 'hick', 'hgey', 'heyy', 'heyy', 'heyy', 'Heyy', 'Heyy', 'heyy', 'heyy', 'heyy', 'heyy', 'heyy', 'Heys', 'heya', 'heya', 'heya', 'heya', 'heya', 'heya', 'heya', 'heya', 'Heya', 'heya', 'heya', 'heya', 'heya', 'heya', 'heya', 'heya', 'Hero', 'here', 'here', 'here', 'here', 'here', 'here', 'here', 'here', 'here', 'here', 'here', 'here', 'here', 'here', 'here', 'here', 'here', 'here', 'here', 'here', 'here', 'here', 'here', 'here', 'here', 'here', 'here', 'here', 'here', 'here', 'here', 'here', 'here', 'here', 'here', 'here', 'here', 'here', 'here', 'here', 'here', 'here', 'here', 'here', 'here', 'here', 'here', 'here', 'here', 'here', 'here', 'here', 'here', 'here', 'here', 'here', 'here', 'here', 'here', 'here', 'Here', 'Here', 'here', 'here', 'here', 'here', 'here', 'here', 'here', 'here', 'herE', 'here', 'here', 'here', 'here', 'here', 'here', 'here', 'here', 'here', 'here', 'here', 'here', 'here', 'here', 'here', 'here', 'here', 'here', 'here', 'here', 'here', 'here', 'here', 'here', 'here', 'here', 'here', 'here', 'here', 'here', 'here', 'here', 'here', 'here', 'here', 'here', 'here', 'here', 'here', 'here', 'here', 'here', 'here', 'here', 'here', 'here', 'here', 'here', 'here', 'here', 'here', 'here', 'here', 'here', 'here', 'here', 'here', 'here', 'here', 'here', 'here', 'here', 'here', 'here', 'here', 'here', 'here', 'here', 'here', 'here', 'here', 'here', 'here', 'here', 'here', 'here', 'here', 'here', 'here', 'here', 'here', 'here', 'here', 'here', 'here', 'here', 'here', 'here', 'HERE', 'here', 'here', 'here', 'here', 'here', 'here', 'here', 'here', 'here', 'here', 'here', 'here', 'here', 'here', 'here', 'here', 'here', 'here', 'here', 'here', 'here', 'here', 'here', 'here', 'here', 'herd', 'help', 'help', 'help', 'help', 'help', 'Help', 'help', 'help', 'help', 'help', 'help', 'hell', 'hell', 'hell', 'hell', 'hell', 'hell', 'hell', 'hell', 'hell', 'hell', 'hell', 'hell', 'hell', 'hell', 'hell', 'hell', 'hell', 'hell', 'hell', 'hell', 'hell', 'hell', 'hell', 'hell', 'hell', 'hell', 'hell', 'hell', 'hell', 'hehe', 'hehe', 'hehe', 'hehe', 'hehe', 'hehe', 'hehe', 'hehe', 'hehe', 'hehe', 'hehe', 'hehe', 'heee', 'heck', 'heck', 'heck', 'heck', 'heck', 'heat', 'hear', 'hear', 'hear', 'hear', 'hear', 'hear', 'hear', 'hear', 'hear', 'hear', 'hear', 'hear', 'hear', 'hear', 'hear', 'hear', 'hear', 'hear', 'hear', 'hear', 'hear', 'heal', 'heal', 'head', 'head', 'head', 'head', 'head', 'head', 'head', 'head', 'head', 'head', 'head', 'head', 'hazy', 'haze', 'haze', 'hawT', 'hawt', 'hawt', 'hawt', 'have', 'have', 'have', 'have', 'have', 'have', 'have', 'have', 'have', 'have', 'have', 'have', 'have', 'have', 'have', 'have', 'have', 'have', 'have', 'have', 'have', 'have', 'have', 'have', 'have', 'have', 'have', 'have', 'have', 'have', 'have', 'have', 'have', 'have', 'have', 'have', 'have', 'have', 'have', 'have', 'have', 'have', 'have', 'have', 'have', 'Have', 'have', 'have', 'have', 'have', 'have', 'have', 'have', 'have', 'have', 'have', 'have', 'have', 'Have', 'have', 'have', 'have', 'have', 'have', 'have', 'have', 'have', 'have', 'have', 'have', 'have', 'have', 'have', 'have', 'have', 'have', 'have', 'have', 'have', 'have', 'have', 'have', 'have', 'have', 'Have', 'have', 'have', 'have', 'have', 'have', 'have', 'have', 'have', 'have', 'have', 'have', 'have', 'have', 'have', 'have', 'have', 'have', 'have', 'have', 'have', 'have', 'have', 'have', 'have', 'have', 'have', 'have', 'have', 'Have', 'have', 'have', 'have', 'Have', 'have', 'have', 'have', 'have', 'have', 'have', 'have', 'have', 'have', 'have', 'have', 'have', 'have', 'have', 'have', 'have', 'have', 'have', 'have', 'have', 'have', 'have', 'have', 'have', 'have', 'have', 'have', 'have', 'have', 'have', 'have', 'have', 'have', 'have', 'have', 'have', 'have', 'have', 'have', 'have', 'have', 'have', 'have', 'have', 'have', 'have', 'HAVE', 'HAVE', 'have', 'have', 'have', 'have', 'have', 'hate', 'hate', 'hate', 'hate', 'hate', 'hate', 'hate', 'hate', 'hate', 'hate', 'hate', 'hate', 'hate', 'hate', 'hate', 'hate', 'hate', 'hate', 'hate', 'hate', 'hate', 'hate', 'hate', 'hard', 'hard', 'hard', 'Hard', 'hard', 'hard', 'hard', 'hard', 'hard', 'hard', 'hard', 'hank', 'hank', 'hank', 'hang', 'hang', 'hang', 'hang', 'hang', 'Hand', 'hand', 'hand', 'hand', 'hand', 'hand', 'hand', 'hand', 'HALO', 'halo', 'hall', 'hall', 'half', 'half', 'half', 'hair', 'hair', 'hair', 'hair', 'hair', 'hair', 'hair', 'hair', 'hair', 'hair', 'hair', 'hair', 'hair', 'hair', 'hair', 'hair', 'hair', 'Hail', 'hail', 'hail', 'hail', 'haha', 'haha', 'HAHA', 'haha', 'haha', 'haha', 'haha', 'haha', 'haha', 'haha', 'haha', 'haha', 'haha', 'haha', 'haha', 'haha', 'haha', 'haha', 'haha', 'haha', 'haha', 'haha', 'haha', 'haha', 'haha', 'haha', 'Haha', 'haha', 'haha', 'haha', 'haha', 'haha', 'haha', 'haha', 'haha', 'haha', 'haha', 'haha', 'haha', 'haha', 'haha', 'haha', 'haha', 'haha', 'haha', 'haha', 'haaa', 'guyz', 'guyz', 'guyz', 'guys', 'guys', 'guys', 'guys', 'guys', 'guys', 'guys', 'guys', 'guys', 'guys', 'guys', 'guys', 'guys', 'guys', 'guys', 'guys', 'guys', 'guys', 'guys', 'guys', 'guys', 'guys', 'guys', 'guys', 'guys', 'guys', 'guys', 'guys', 'guys', 'guys', 'guys', 'guys', 'guys', 'guys', 'guys', 'guys', 'guys', 'guys', 'guys', 'guys', 'guys', 'guys', 'guys', 'guys', 'guys', 'guys', 'guys', 'guys', 'guys', 'guys', 'guys', 'GUYS', 'guys', 'guys', 'guys', 'guys', 'guys', 'guys', 'guys', 'guts', 'guns', 'grrr', 'grrr', 'grrr', 'grrr', 'grrl', 'grrl', 'GrlZ', 'grin', 'grew', 'gret', 'grea', 'gray', 'gosh', 'Gosh', 'Gosh', 'gooo', 'goof', 'good', 'good', 'good', 'good', 'good', 'good', 'good', 'good', 'good', 'good', 'good', 'good', 'good', 'good', 'good', 'good', 'good', 'good', 'good', 'good', 'good', 'good', 'good', 'good', 'good', 'good', 'good', 'good', 'good', 'good', 'good', 'good', 'good', 'good', 'good', 'good', 'good', 'good', 'good', 'good', 'good', 'good', 'good', 'good', 'good', 'good', 'good', 'good', 'good', 'good', 'good', 'good', 'good', 'good', 'good', 'good', 'good', 'good', 'good', 'good', 'good', 'good', 'good', 'good', 'good', 'good', 'good', 'good', 'good', 'good', 'good', 'good', 'GOOD', 'good', 'good', 'good', 'good', 'good', 'good', 'good', 'good', 'good', 'good', 'good', 'good', 'good', 'good', 'good', 'good', 'good', 'good', 'good', 'good', 'good', 'good', 'good', 'good', 'good', 'good', 'good', 'good', 'good', 'good', 'good', 'good', 'good', 'good', 'good', 'good', 'good', 'good', 'good', 'good', 'good', 'good', 'good', 'good', 'good', 'good', 'good', 'good', 'good', 'good', 'good', 'good', 'good', 'good', 'good', 'good', 'Good', 'good', 'good', 'gone', 'gone', 'gone', 'gone', 'gone', 'gone', 'golf', 'golf', 'gold', 'gold', 'gold', 'goin', 'goin', 'goin', 'goin', 'goin', 'goin', 'goes', 'goes', 'goes', 'goes', 'goes', 'goes', 'goes', 'goes', 'goes', 'goes', 'goes', 'goes', 'goes', 'goes', 'glad', 'glad', 'glad', 'glad', 'givs', 'give', 'give', 'give', 'give', 'give', 'give', 'give', 'give', 'give', 'give', 'give', 'give', 'give', 'give', 'give', 'give', 'give', 'give', 'give', 'giva', 'girl', 'girl', 'girl', 'girl', 'girl', 'girl', 'girl', 'girl', 'girl', 'girl', 'girl', 'girl', 'girl', 'girl', 'girl', 'girl', 'girl', 'girl', 'girl', 'girl', 'girl', 'girl', 'girl', 'girl', 'girl', 'girl', 'Girl', 'girl', 'girl', 'girl', 'girl', 'girl', 'girl', 'girl', 'girl', 'girl', 'girl', 'girl', 'GIRL', 'girl', 'girl', 'girl', 'girl', 'girl', 'girl', 'gimp', 'gimp', 'gift', 'ghet', 'gets', 'gets', 'gets', 'gets', 'gets', 'gets', 'gets', 'gets', 'gets', 'gets', 'gets', 'gets', 'geez', 'gees', 'gear', 'gays', 'gays', 'gawd', 'gawd', 'gawd', 'game', 'game', 'game', 'game', 'game', 'game', 'game', 'game', 'game', 'game', 'game', 'game', 'game', 'game', 'game', 'game', 'gals', 'gags', 'full', 'full', 'full', 'full', 'full', 'full', 'full', 'full', 'full', 'fuck', 'fuck', 'fuck', 'fuck', 'fuck', 'fuck', 'fuck', 'fuck', 'fuck', 'fuck', 'fuck', 'fuck', 'fuck', 'fuck', 'fuck', 'frst', 'from', 'from', 'from', 'from', 'from', 'from', 'from', 'from', 'from', 'from', 'from', 'from', 'from', 'from', 'from', 'from', 'from', 'from', 'from', 'from', 'From', 'from', 'from', 'from', 'from', 'from', 'from', 'from', 'from', 'from', 'from', 'from', 'from', 'from', 'from', 'from', 'from', 'from', 'from', 'from', 'from', 'from', 'from', 'from', 'from', 'From', 'from', 'from', 'from', 'from', 'from', 'from', 'from', 'from', 'from', 'from', 'from', 'from', 'from', 'from', 'from', 'from', 'FROM', 'from', 'from', 'from', 'from', 'from', 'from', 'from', 'from', 'from', 'FROM', 'from', 'from', 'from', 'from', 'from', 'from', 'from', 'from', 'from', 'from', 'from', 'from', 'from', 'from', 'from', 'from', 'from', 'from', 'from', 'from', 'from', 'from', 'from', 'free', 'free', 'free', 'free', 'free', 'free', 'free', 'free', 'free', 'free', 'free', 'free', 'free', 'four', 'Fort', 'form', 'foot', 'foot', 'fool', 'fool', 'fool', 'fool', 'fool', 'food', 'food', 'food', 'food', 'food', 'food', 'Food', 'fock', 'flow', 'flow', 'flaw', 'flaw', 'five', 'five', 'fits', 'fits', 'fish', 'firs', 'fire', 'fire', 'fire', 'fire', 'fire', 'fine', 'fine', 'fine', 'fine', 'fine', 'fine', 'fine', 'FINE', 'fine', 'fine', 'fine', 'fine', 'fine', 'fine', 'fine', 'fine', 'fine', 'find', 'find', 'find', 'find', 'find', 'find', 'find', 'find', 'find', 'find', 'find', 'find', 'find', 'find', 'find', 'find', 'find', 'find', 'felt', 'felt', 'felt', 'felt', 'felt', 'feet', 'feet', 'feet', 'feet', 'feet', 'feel', 'feel', 'feel', 'feel', 'feel', 'feel', 'feel', 'feel', 'feel', 'feel', 'feel', 'feel', 'feel', 'feel', 'feel', 'feel', 'feel', 'feel', 'feel', 'febe', 'feat', 'fear', 'fawk', 'fast', 'fast', 'fast', 'fast', 'fast', 'fast', 'fast', 'fart', 'fart', 'fart', 'fart', 'fall', 'fall', 'fall', 'fall', 'fall', 'fake', 'fair', 'Fade', 'face', 'face', 'face', 'face', 'face', 'face', 'face', 'face', 'face', 'face', 'face', 'FACE', 'eyes', 'eyes', 'Eyes', 'eyes', 'eyes', 'eyes', 'eyes', 'eyes', 'eyes', 'eyes', 'eyes', 'eyes', 'eyes', 'eyes', 'eyes', 'eyes', 'exit', \"ex's\", \"ex's\", 'ewww', 'ewww', 'evil', 'evil', 'Evil', 'evil', 'evil', 'ever', 'ever', 'ever', 'ever', 'ever', 'ever', 'ever', 'ever', 'ever', 'ever', 'ever', 'ever', 'ever', 'ever', 'ever', 'ever', 'ever', 'ever', 'ever', 'ever', 'ever', 'ever', 'even', 'even', 'even', 'even', 'even', 'even', 'even', 'even', 'even', 'even', 'even', 'even', 'even', 'even', 'even', 'even', 'even', 'even', 'even', 'even', 'even', 'even', 'Even', 'even', 'even', 'even', 'even', 'even', 'even', 'even', 'even', 'even', 'even', 'even', 'even', 'even', 'EVEN', 'evah', 'este', 'eric', 'eric', 'enuf', 'ELSE', 'else', 'else', 'else', 'else', 'else', 'else', 'else', 'else', 'else', 'else', 'else', 'else', 'else', 'ello', 'ello', 'ello', 'elle', 'Elle', 'elle', 'elle', 'Elev', 'Elev', 'Elev', 'Eggs', 'eeww', 'eeek', 'ebay', 'eats', 'eats', 'easy', 'easy', 'easy', 'easy', 'easy', 'east', 'ears', 'ears', 'each', 'each', 'each', 'each', 'dyed', 'dust', 'dump', 'dumb', 'dumb', 'duet', 'dude', 'dude', 'dude', 'dude', 'dude', 'dude', 'dude', 'Dude', 'drug', 'Drop', 'drop', 'drop', 'drew', 'drew', 'Drew', 'Drew', 'draw', 'down', 'down', 'down', 'down', 'down', 'down', 'down', 'Down', 'Down', 'down', 'down', 'down', 'down', 'down', 'down', 'down', 'down', 'down', 'down', 'down', 'down', 'down', 'down', 'down', 'down', 'down', 'dotn', 'dork', 'door', 'door', 'door', 'door', 'Dood', 'dont', 'dont', 'dont', 'dont', 'dont', 'dont', 'dont', 'dont', 'dont', 'dont', 'dont', 'dont', 'dont', 'dont', 'dont', 'dont', 'dont', 'dont', 'DONT', 'dont', 'dont', 'dont', 'dont', 'dont', 'dont', 'dont', 'dont', 'dont', 'DONT', 'dont', 'dont', 'dont', 'dont', 'dont', 'dont', 'dont', 'dont', 'dont', 'dont', 'dont', 'dont', 'dont', 'dont', 'dont', 'dont', 'dont', 'dont', 'dont', 'dont', 'dont', 'dont', 'dont', 'dont', 'dont', 'dont', 'dont', 'dont', 'dont', 'dont', 'dont', 'dont', 'dont', 'dont', 'dont', 'dont', 'dont', 'dont', 'dont', 'dont', 'dont', 'dont', 'dont', 'dont', 'dont', 'dont', 'dont', 'dont', 'done', 'done', 'done', 'done', 'done', 'done', 'doll', 'doll', 'dojn', 'doin', 'doin', 'doin', 'doin', 'doin', 'doin', 'doin', 'doin', 'doin', 'doin', 'doin', 'dogs', 'does', 'does', 'does', 'does', 'does', 'does', 'does', 'does', 'DOES', 'does', 'does', 'does', 'does', 'does', 'does', 'does', 'does', 'does', 'does', 'does', 'does', 'does', 'does', 'DOES', 'does', 'does', 'does', 'does', 'does', 'does', 'does', 'does', 'does', 'does', 'does', 'Does', 'does', 'does', 'docs', 'dman', 'disc', 'dirt', 'dint', 'DING', 'DING', 'DING', 'dies', 'died', 'died', 'died', 'dick', 'deop', 'deop', 'deop', 'Deep', 'deep', 'deep', 'dear', 'dear', 'dear', 'dear', 'dear', 'dear', 'dear', 'deal', 'deal', 'deal', 'deaf', 'deaf', 'dead', 'dead', 'dead', 'dead', 'dead', 'dead', 'dead', 'dead', 'dead', 'Days', 'days', 'days', 'days', 'days', 'Days', 'days', 'days', 'days', 'days', 'days', 'Dawn', 'dawg', 'date', 'date', 'date', 'date', 'dark', 'dang', 'dang', 'dang', 'Dang', 'Dang', 'dang', 'dang', 'dang', 'dang', 'dang', 'dang', 'damn', 'damn', 'damn', 'damn', 'damn', 'damn', 'damn', 'damn', 'damn', 'Damn', 'damn', 'damn', 'damn', 'damn', 'damn', 'damn', 'damn', 'damn', 'damn', 'damn', 'damn', 'damn', 'damn', 'damn', 'damn', 'damn', 'damn', 'damn', 'damn', 'damn', 'damn', 'damn', 'damn', 'damn', 'DAMN', 'damn', 'daft', 'cyas', 'cute', 'Cute', 'cute', 'cute', 'cute', 'cuss', 'cure', 'cums', 'Ctrl', 'crop', 'crib', 'crap', 'crap', 'crap', 'crap', 'crap', 'crap', 'crap', 'crap', 'crap', 'cost', 'cost', 'corn', 'corn', 'cops', 'cool', 'cool', 'cool', 'cool', 'cool', 'cool', 'cool', 'cool', 'cool', 'cool', 'cool', 'cool', 'cool', 'cool', 'cool', 'cool', 'cool', 'cool', 'cool', 'cool', 'cool', 'Cool', 'Cool', 'cool', 'cool', 'cool', 'cook', 'comp', 'comp', 'comp', 'comp', 'comp', 'comp', 'come', 'Come', 'come', 'come', 'come', 'come', 'come', 'come', 'come', 'come', 'come', 'come', 'come', 'come', 'Come', 'come', 'come', 'come', 'come', 'come', 'come', 'come', 'come', 'come', 'come', 'come', 'come', 'come', 'come', 'come', 'come', 'come', 'come', 'come', 'COME', 'come', 'cold', 'cold', 'cold', 'cold', 'cold', 'cold', 'cold', 'cold', 'cold', 'cold', 'cold', 'cold', 'coem', 'cock', 'coat', 'cmon', 'cmon', 'clue', 'clue', 'club', 'club', 'clay', 'clap', 'clap', 'clap', 'city', 'city', 'City', 'ciao', 'ciao', 'Chop', 'choc', 'chit', 'chip', 'chip', 'chik', 'chat', 'chat', 'chat', 'chat', 'chat', 'chat', 'chat', 'chat', 'chat', 'chat', 'chat', 'chat', 'chat', 'CHAT', 'chat', 'chat', 'chat', 'chat', 'chat', 'chat', 'chat', 'chat', 'chat', 'chat', 'chat', 'chat', 'chat', 'chat', 'chat', 'chat', 'chat', 'chat', 'chat', 'chat', 'chat', 'chat', 'chat', 'chat', 'chat', 'chat', 'Chat', 'chat', 'chat', 'chat', 'chat', 'chat', 'chat', 'chat', 'chat', 'chat', 'chat', 'chat', 'chat', 'chat', 'chat', 'chat', 'chat', 'chat', 'chat', 'chat', 'chat', 'chat', 'chat', 'chat', 'chat', 'chat', 'chat', 'chat', 'chat', 'chat', 'chat', 'chat', 'chat', 'chat', 'chat', 'chat', 'chat', 'chat', 'chat', 'chat', 'chat', 'chat', 'chat', 'chat', 'chat', 'chat', 'chat', 'CHAT', 'chat', 'chat', 'chat', 'chat', 'chat', 'chat', 'chat', 'chat', 'chat', 'chat', 'chat', 'CHAT', 'chat', 'chat', 'chat', 'chat', 'chat', 'chat', 'chat', 'chat', 'chat', 'chat', 'chat', 'chat', 'chat', 'chat', 'chat', 'chat', 'chat', 'chat', 'chat', 'chat', 'chat', 'chat', 'chat', 'chat', 'chat', 'chat', 'chat', 'chat', 'chat', 'chat', 'chat', 'chat', 'chat', 'chat', 'chat', 'chat', 'chat', 'chat', 'chat', 'chat', 'chat', 'chat', 'chat', 'chat', 'chat', 'chat', 'cepn', 'cell', 'cell', 'cast', 'cast', 'cash', 'cash', 'case', 'case', 'case', 'case', 'case', 'case', 'case', 'case', 'cars', 'cars', 'care', 'care', 'care', 'care', 'care', 'Care', 'care', 'care', 'care', 'care', 'card', 'caps', 'caps', 'caps', 'CAPS', 'caps', 'caps', 'cant', 'cant', 'cant', 'cant', 'cant', 'cant', 'cant', 'cant', 'cant', 'cant', 'cant', 'cant', 'cant', 'cant', 'cant', 'cant', 'cant', 'cant', 'cams', 'came', 'came', 'came', 'came', 'Came', 'came', 'calm', 'call', 'call', 'call', 'call', 'call', 'call', 'call', 'call', 'call', 'call', 'call', 'call', 'call', 'call', 'call', 'call', 'call', 'call', 'call', 'call', 'call', 'call', 'call', 'call', 'call', 'call', 'cali', 'cali', 'cali', 'cali', 'cali', 'CALI', 'caca', 'caan', 'byes', 'butt', 'butt', 'butt', 'busy', 'busy', 'busy', 'busy', 'busy', 'busy', 'busy', 'busy', 'busy', 'busy', 'busy', 'busy', 'busy', 'busy', 'busy', 'busy', 'busy', 'bust', 'burp', 'burp', 'bull', 'bugs', 'buff', 'brwn', 'bred', 'brat', 'brad', 'Boyz', 'boys', 'boys', 'boys', 'boys', 'boys', 'bowl', 'bout', 'bout', 'bout', 'bout', 'bout', 'bout', 'bout', 'bout', 'bout', 'bout', 'bout', 'bout', 'both', 'both', 'both', 'both', 'both', 'boss', 'boss', 'boss', 'boss', 'boss', 'Born', 'born', 'born', 'boot', 'boom', 'book', 'book', 'book', 'book', 'book', 'book', 'book', 'book', 'book', 'bong', 'Bone', 'bone', 'bomb', 'bois', 'boed', 'body', 'blue', 'blue', 'blue', 'blue', 'blue', 'blue', 'blue', 'blue', 'blow', 'bloe', 'blew', 'blew', 'blah', 'blah', 'blah', 'blah', 'blah', 'blah', 'bite', 'bite', 'bird', 'bike', 'bied', 'best', 'best', 'best', 'best', 'best', 'best', 'best', 'best', 'best', 'benz', 'bend', 'bend', 'bend', 'bell', 'bein', 'beer', 'beer', 'beer', 'beer', 'beer', 'been', 'been', 'been', 'been', 'been', 'been', 'been', 'Been', 'been', 'been', 'been', 'been', 'been', 'been', 'been', 'been', 'been', 'been', 'been', 'been', 'been', 'been', 'been', 'been', 'been', 'been', 'been', 'been', 'been', 'been', 'been', 'been', 'been', 'been', 'been', 'been', 'been', 'been', 'been', 'been', 'been', 'been', 'been', 'been', 'been', 'been', 'been', 'been', 'been', 'been', 'been', 'been', 'been', 'been', 'been', 'been', 'been', 'been', 'beat', 'beat', 'beat', 'beat', 'bear', 'bear', 'beam', 'base', 'barn', 'bare', 'bare', 'bare', 'band', 'band', 'band', 'ball', 'ball', 'ball', 'ball', 'ball', 'ball', 'bacl', 'back', 'back', 'back', 'back', 'back', 'back', 'back', 'back', 'back', 'back', 'back', 'back', 'back', 'back', 'back', 'back', 'back', 'back', 'back', 'back', 'back', 'back', 'back', 'back', 'back', 'back', 'back', 'back', 'back', 'back', 'back', 'back', 'back', 'back', 'back', 'Back', 'back', 'back', 'back', 'back', 'back', 'back', 'back', 'back', 'back', 'back', 'back', 'back', 'back', 'back', 'back', 'back', 'back', 'back', 'back', 'back', 'back', 'back', 'back', 'back', 'back', 'back', 'back', 'back', 'back', 'back', 'back', 'back', 'back', 'back', 'back', 'back', 'back', 'back', 'back', 'back', 'back', 'back', 'back', 'baby', 'baby', 'baby', 'baby', 'baby', 'baby', 'baby', 'baby', 'baby', 'baby', 'baby', 'baby', 'baby', 'baby', 'baby', 'baby', 'baby', 'baby', 'baby', 'baby', 'baby', 'baby', 'baby', 'baby', 'baby', 'baby', 'babi', 'babi', 'babe', 'babe', 'babe', 'babe', 'babe', 'babe', 'babe', 'babe', 'babe', 'babe', 'babe', 'awww', 'Awww', 'awww', 'awww', 'awww', 'awww', 'awww', 'awww', 'awww', 'awww', 'awww', 'awww', 'awww', 'away', 'away', 'away', 'away', 'away', 'away', 'away', 'away', 'away', 'away', 'away', 'away', 'away', 'away', 'away', 'away', 'Away', 'away', 'away', 'away', 'away', 'away', 'away', 'away', 'away', 'AWAY', 'away', 'away', 'aunt', 'aunt', 'asss', 'asks', 'army', 'army', 'army', 'arms', 'argh', 'argh', 'area', 'area', 'any1', 'any1', 'anti', 'anal', 'amen', 'amen', 'amen', 'also', 'also', 'also', 'also', 'also', 'alot', 'alot', 'alot', 'alot', 'alot', 'alot', 'alot', 'ally', 'allo', 'AKST', 'akon', 'AKDT', 'AKDT', 'AKDT', 'aint', 'aint', 'aint', 'aint', 'aint', 'aint', 'aint', 'aint', 'aint', 'aime', 'ahhh', 'ahhh', 'ahhh', 'ahhh', 'ahhh', 'Ahhh', 'ahhh', 'ahhh', 'Ahhh', 'ahem', 'ahem', 'ahem', 'ahah', 'ages', 'ages', 'addy', 'adds', 'adds', 'acid', 'abou', 'able', '????', '????', '????', '????', '????', '????', '????', '????', '????', '????', '????', '????', '????', '????', '????', '????', '????', '??!!', '??!!', '?!?!', '?!?!', '>:->', '>:->', '<~~~', '<<<<', '<<<<', '<333', '<333', \"<3's\", '<---', '<---', '<---', '<---', '<---', '<---', '; ..', '; ..', '; ..', '; ..', '; ..', '; ..', '; ..', '; ..', '; ..', ':o *', '9:10', '98.6', '98.5', '9.53', '7:45', '6:53', '6:51', '6:41', '6:38', '64.8', '4:03', '45.5', '4.20', '3:45', '39.3', '2Pac', '2DAY', '2:55', '2006', '2006', '2006', '1cos', '1996', '1996', '1985', '1980', '1930', '1900', '18ST', '1299', '1200', '10th', '100%', '1.99', '1.98', '.op.', '....', '....', '....', '....', '....', '....', '....', '....', '....', '....', '....', '....', '....', '....', '....', '....', '....', '....', '....', '....', '....', '....', '....', '....', '....', '....', '....', '....', '....', '....', '....', '....', '....', '....', '....', '....', '....', '....', '....', '....', '....', '....', '....', '....', '....', '....', '....', '....', '....', '....', '....', '....', '....', '....', '....', '....', '....', '....', '....', '....', '....', '....', '....', '....', '....', '....', '....', '....', '....', '....', '....', '....', '....', '....', '....', '....', '....', '....', '....', '....', '....', '....', '....', '....', '....', '....', '....', '....', '....', '....', '....', '....', '....', '....', '....', '....', '....', '....', '....', '....', '....', '....', '....', '....', '....', '....', '....', '....', '....', '....', '....', '....', '....', '....', '....', '....', '....', '....', '....', '....', '....', '....', '....', '....', '....', '....', '....', '....', '....', '....', '....', '....', '....', '....', '....', '....', '....', '....', '....', '....', '....', '....', '....', '....', '....', '....', '....', '....', '....', '....', '....', '....', '....', '....', '....', '....', '....', '....', '....', '....', '....', '....', '....', '....', '....', '....', '....', '....', '....', '....', '.. .', '.. .', '.. .', '.. .', '.. .', '.. .', '.. .', '.. .', '.. .', '.. .', '.. .', ',,,,', ',,,,', ',,,,', ',,,,', '))))', '))))', '))))', '))))', '))))', '))))', '((((', '((((', '((((', '####', '####', '####', '####', '####', '\"...', '!???', '!...', '!!!.', '!!!.', '!!!!', '!!!!', '!!!!', '!!!!', '!!!!', '!!!!', '!!!!', '!!!!', '!!!!', '!!!!', '!!!!', '!!!!', '!!!!', '!!!!', '!!!!', '!!!!', '!!!!', '!!!!']\n"
          ],
          "name": "stdout"
        }
      ]
    },
    {
      "cell_type": "markdown",
      "metadata": {
        "id": "v8HZevzBAovk",
        "colab_type": "text"
      },
      "source": [
        "\n",
        "\n",
        "23.  **Review the discussion of looping with conditions in Section 1.4. Use a combination of for and if statements to loop over the words of the movie script for Monty Python and The Holy Grail (text6) and print all the uppercase words, one per line.**\n"
      ]
    },
    {
      "cell_type": "code",
      "metadata": {
        "id": "IkxeL9o2_4PT",
        "colab_type": "code",
        "colab": {
          "base_uri": "https://localhost:8080/",
          "height": 1000
        },
        "outputId": "3f4fd3e2-3d1d-4863-9e92-47ddab6f8bd0"
      },
      "source": [
        "for word in text6:\n",
        "    if word.isupper():\n",
        "        print(word)\n"
      ],
      "execution_count": 39,
      "outputs": [
        {
          "output_type": "stream",
          "text": [
            "SCENE\n",
            "KING\n",
            "ARTHUR\n",
            "SOLDIER\n",
            "ARTHUR\n",
            "I\n",
            "SOLDIER\n",
            "ARTHUR\n",
            "I\n",
            "I\n",
            "SOLDIER\n",
            "ARTHUR\n",
            "SOLDIER\n",
            "ARTHUR\n",
            "SOLDIER\n",
            "ARTHUR\n",
            "SOLDIER\n",
            "ARTHUR\n",
            "SOLDIER\n",
            "ARTHUR\n",
            "SOLDIER\n",
            "ARTHUR\n",
            "SOLDIER\n",
            "ARTHUR\n",
            "SOLDIER\n",
            "A\n",
            "ARTHUR\n",
            "SOLDIER\n",
            "A\n",
            "ARTHUR\n",
            "SOLDIER\n",
            "ARTHUR\n",
            "SOLDIER\n",
            "I\n",
            "ARTHUR\n",
            "I\n",
            "SOLDIER\n",
            "SOLDIER\n",
            "SOLDIER\n",
            "I\n",
            "ARTHUR\n",
            "SOLDIER\n",
            "SOLDIER\n",
            "SOLDIER\n",
            "SOLDIER\n",
            "SOLDIER\n",
            "SOLDIER\n",
            "SOLDIER\n",
            "SOLDIER\n",
            "SCENE\n",
            "CART\n",
            "MASTER\n",
            "CUSTOMER\n",
            "CART\n",
            "MASTER\n",
            "DEAD\n",
            "PERSON\n",
            "I\n",
            "CART\n",
            "MASTER\n",
            "CUSTOMER\n",
            "DEAD\n",
            "PERSON\n",
            "I\n",
            "CART\n",
            "MASTER\n",
            "CUSTOMER\n",
            "DEAD\n",
            "PERSON\n",
            "I\n",
            "CART\n",
            "MASTER\n",
            "CUSTOMER\n",
            "DEAD\n",
            "PERSON\n",
            "I\n",
            "CUSTOMER\n",
            "CART\n",
            "MASTER\n",
            "I\n",
            "DEAD\n",
            "PERSON\n",
            "I\n",
            "CUSTOMER\n",
            "CART\n",
            "MASTER\n",
            "I\n",
            "DEAD\n",
            "PERSON\n",
            "I\n",
            "CUSTOMER\n",
            "CART\n",
            "MASTER\n",
            "I\n",
            "CUSTOMER\n",
            "CART\n",
            "MASTER\n",
            "I\n",
            "CUSTOMER\n",
            "CART\n",
            "MASTER\n",
            "DEAD\n",
            "PERSON\n",
            "I\n",
            "I\n",
            "CUSTOMER\n",
            "DEAD\n",
            "PERSON\n",
            "I\n",
            "I\n",
            "CUSTOMER\n",
            "CART\n",
            "MASTER\n",
            "CUSTOMER\n",
            "CART\n",
            "MASTER\n",
            "I\n",
            "CUSTOMER\n",
            "CART\n",
            "MASTER\n",
            "SCENE\n",
            "ARTHUR\n",
            "DENNIS\n",
            "ARTHUR\n",
            "DENNIS\n",
            "I\n",
            "ARTHUR\n",
            "I\n",
            "DENNIS\n",
            "I\n",
            "I\n",
            "ARTHUR\n",
            "I\n",
            "DENNIS\n",
            "ARTHUR\n",
            "I\n",
            "DENNIS\n",
            "ARTHUR\n",
            "I\n",
            "DENNIS\n",
            "I\n",
            "ARTHUR\n",
            "I\n",
            "DENNIS\n",
            "WOMAN\n",
            "ARTHUR\n",
            "I\n",
            "WOMAN\n",
            "ARTHUR\n",
            "WOMAN\n",
            "ARTHUR\n",
            "I\n",
            "WOMAN\n",
            "I\n",
            "I\n",
            "DENNIS\n",
            "A\n",
            "WOMAN\n",
            "DENNIS\n",
            "ARTHUR\n",
            "I\n",
            "WOMAN\n",
            "ARTHUR\n",
            "WOMAN\n",
            "ARTHUR\n",
            "DENNIS\n",
            "I\n",
            "ARTHUR\n",
            "DENNIS\n",
            "ARTHUR\n",
            "I\n",
            "DENNIS\n",
            "ARTHUR\n",
            "DENNIS\n",
            "ARTHUR\n",
            "I\n",
            "WOMAN\n",
            "ARTHUR\n",
            "I\n",
            "WOMAN\n",
            "I\n",
            "ARTHUR\n",
            "WOMAN\n",
            "ARTHUR\n",
            "I\n",
            "I\n",
            "DENNIS\n",
            "ARTHUR\n",
            "DENNIS\n",
            "ARTHUR\n",
            "DENNIS\n",
            "I\n",
            "I\n",
            "I\n",
            "ARTHUR\n",
            "DENNIS\n",
            "ARTHUR\n",
            "DENNIS\n",
            "I\n",
            "ARTHUR\n",
            "DENNIS\n",
            "I\n",
            "SCENE\n",
            "BLACK\n",
            "KNIGHT\n",
            "BLACK\n",
            "KNIGHT\n",
            "GREEN\n",
            "KNIGHT\n",
            "BLACK\n",
            "KNIGHT\n",
            "GREEN\n",
            "KNIGHT\n",
            "BLACK\n",
            "KNIGHT\n",
            "BLACK\n",
            "KNIGHT\n",
            "GREEN\n",
            "KNIGHT\n",
            "GREEN\n",
            "KNIGHT\n",
            "BLACK\n",
            "KNIGHT\n",
            "GREEN\n",
            "KNIGHT\n",
            "BLACK\n",
            "KNIGHT\n",
            "ARTHUR\n",
            "I\n",
            "I\n",
            "BLACK\n",
            "KNIGHT\n",
            "ARTHUR\n",
            "BLACK\n",
            "KNIGHT\n",
            "ARTHUR\n",
            "I\n",
            "I\n",
            "BLACK\n",
            "KNIGHT\n",
            "ARTHUR\n",
            "I\n",
            "BLACK\n",
            "KNIGHT\n",
            "I\n",
            "ARTHUR\n",
            "ARTHUR\n",
            "BLACK\n",
            "KNIGHT\n",
            "ARTHUR\n",
            "BLACK\n",
            "KNIGHT\n",
            "ARTHUR\n",
            "BLACK\n",
            "KNIGHT\n",
            "ARTHUR\n",
            "A\n",
            "BLACK\n",
            "KNIGHT\n",
            "ARTHUR\n",
            "BLACK\n",
            "KNIGHT\n",
            "I\n",
            "ARTHUR\n",
            "BLACK\n",
            "KNIGHT\n",
            "ARTHUR\n",
            "BLACK\n",
            "KNIGHT\n",
            "ARTHUR\n",
            "BLACK\n",
            "KNIGHT\n",
            "ARTHUR\n",
            "BLACK\n",
            "KNIGHT\n",
            "ARTHUR\n",
            "BLACK\n",
            "KNIGHT\n",
            "ARTHUR\n",
            "BLACK\n",
            "KNIGHT\n",
            "I\n",
            "ARTHUR\n",
            "BLACK\n",
            "KNIGHT\n",
            "ARTHUR\n",
            "BLACK\n",
            "KNIGHT\n",
            "ARTHUR\n",
            "I\n",
            "ARTHUR\n",
            "BLACK\n",
            "KNIGHT\n",
            "BLACK\n",
            "KNIGHT\n",
            "I\n",
            "ARTHUR\n",
            "BLACK\n",
            "KNIGHT\n",
            "ARTHUR\n",
            "BLACK\n",
            "KNIGHT\n",
            "I\n",
            "ARTHUR\n",
            "BLACK\n",
            "KNIGHT\n",
            "ARTHUR\n",
            "BLACK\n",
            "KNIGHT\n",
            "BLACK\n",
            "KNIGHT\n",
            "ARTHUR\n",
            "BLACK\n",
            "KNIGHT\n",
            "I\n",
            "I\n",
            "SCENE\n",
            "MONKS\n",
            "CROWD\n",
            "A\n",
            "A\n",
            "A\n",
            "A\n",
            "MONKS\n",
            "CROWD\n",
            "A\n",
            "A\n",
            "A\n",
            "A\n",
            "A\n",
            "A\n",
            "A\n",
            "A\n",
            "A\n",
            "A\n",
            "A\n",
            "A\n",
            "A\n",
            "VILLAGER\n",
            "CROWD\n",
            "BEDEVERE\n",
            "VILLAGER\n",
            "CROWD\n",
            "BEDEVERE\n",
            "WITCH\n",
            "I\n",
            "I\n",
            "BEDEVERE\n",
            "WITCH\n",
            "CROWD\n",
            "WITCH\n",
            "BEDEVERE\n",
            "VILLAGER\n",
            "BEDEVERE\n",
            "VILLAGER\n",
            "VILLAGER\n",
            "CROWD\n",
            "BEDEVERE\n",
            "VILLAGER\n",
            "VILLAGER\n",
            "VILLAGER\n",
            "VILLAGER\n",
            "VILLAGERS\n",
            "VILLAGER\n",
            "VILLAGER\n",
            "VILLAGER\n",
            "VILLAGER\n",
            "A\n",
            "VILLAGERS\n",
            "A\n",
            "VILLAGER\n",
            "A\n",
            "VILLAGER\n",
            "RANDOM\n",
            "BEDEVERE\n",
            "VILLAGER\n",
            "BEDEVERE\n",
            "A\n",
            "VILLAGER\n",
            "I\n",
            "VILLAGER\n",
            "VILLAGER\n",
            "CROWD\n",
            "BEDEVERE\n",
            "VILLAGER\n",
            "VILLAGER\n",
            "VILLAGER\n",
            "CROWD\n",
            "BEDEVERE\n",
            "VILLAGER\n",
            "VILLAGER\n",
            "CROWD\n",
            "BEDEVERE\n",
            "VILLAGER\n",
            "VILLAGER\n",
            "VILLAGER\n",
            "BEDEVERE\n",
            "VILLAGER\n",
            "B\n",
            "BEDEVERE\n",
            "CROWD\n",
            "BEDEVERE\n",
            "VILLAGER\n",
            "BEDEVERE\n",
            "VILLAGER\n",
            "RANDOM\n",
            "BEDEVERE\n",
            "VILLAGER\n",
            "VILLAGER\n",
            "VILLAGER\n",
            "CROWD\n",
            "BEDEVERE\n",
            "VILLAGER\n",
            "VILLAGER\n",
            "VILLAGER\n",
            "VILLAGER\n",
            "VILLAGER\n",
            "VILLAGER\n",
            "VILLAGER\n",
            "VILLAGER\n",
            "VILLAGER\n",
            "ARTHUR\n",
            "A\n",
            "CROWD\n",
            "BEDEVERE\n",
            "VILLAGER\n",
            "BEDEVERE\n",
            "VILLAGER\n",
            "A\n",
            "VILLAGER\n",
            "A\n",
            "CROWD\n",
            "A\n",
            "A\n",
            "VILLAGER\n",
            "BEDEVERE\n",
            "CROWD\n",
            "BEDEVERE\n",
            "CROWD\n",
            "A\n",
            "A\n",
            "A\n",
            "WITCH\n",
            "VILLAGER\n",
            "CROWD\n",
            "BEDEVERE\n",
            "ARTHUR\n",
            "I\n",
            "BEDEVERE\n",
            "ARTHUR\n",
            "BEDEVERE\n",
            "I\n",
            "ARTHUR\n",
            "BEDEVERE\n",
            "ARTHUR\n",
            "I\n",
            "NARRATOR\n",
            "SCENE\n",
            "SIR\n",
            "BEDEVERE\n",
            "ARTHUR\n",
            "BEDEVERE\n",
            "SIR\n",
            "LAUNCELOT\n",
            "ARTHUR\n",
            "SIR\n",
            "GALAHAD\n",
            "LAUNCELOT\n",
            "PATSY\n",
            "ARTHUR\n",
            "I\n",
            "KNIGHTS\n",
            "PRISONER\n",
            "KNIGHTS\n",
            "MAN\n",
            "I\n",
            "ARTHUR\n",
            "KNIGHTS\n",
            "SCENE\n",
            "GOD\n",
            "I\n",
            "ARTHUR\n",
            "GOD\n",
            "I\n",
            "I\n",
            "ARTHUR\n",
            "I\n",
            "O\n",
            "GOD\n",
            "ARTHUR\n",
            "GOD\n",
            "ARTHUR\n",
            "O\n",
            "GOD\n",
            "LAUNCELOT\n",
            "A\n",
            "A\n",
            "GALAHAD\n",
            "SCENE\n",
            "ARTHUR\n",
            "FRENCH\n",
            "GUARD\n",
            "ARTHUR\n",
            "FRENCH\n",
            "GUARD\n",
            "ARTHUR\n",
            "FRENCH\n",
            "GUARD\n",
            "I\n",
            "I\n",
            "ARTHUR\n",
            "GALAHAD\n",
            "ARTHUR\n",
            "FRENCH\n",
            "GUARD\n",
            "I\n",
            "ARTHUR\n",
            "FRENCH\n",
            "GUARD\n",
            "ARTHUR\n",
            "FRENCH\n",
            "GUARD\n",
            "I\n",
            "I\n",
            "GALAHAD\n",
            "FRENCH\n",
            "GUARD\n",
            "ARTHUR\n",
            "FRENCH\n",
            "GUARD\n",
            "I\n",
            "GALAHAD\n",
            "ARTHUR\n",
            "FRENCH\n",
            "GUARD\n",
            "I\n",
            "I\n",
            "GALAHAD\n",
            "FRENCH\n",
            "GUARD\n",
            "I\n",
            "ARTHUR\n",
            "I\n",
            "FRENCH\n",
            "GUARD\n",
            "OTHER\n",
            "FRENCH\n",
            "GUARD\n",
            "FRENCH\n",
            "GUARD\n",
            "ARTHUR\n",
            "I\n",
            "KNIGHTS\n",
            "ARTHUR\n",
            "KNIGHTS\n",
            "FRENCH\n",
            "GUARD\n",
            "FRENCH\n",
            "GUARD\n",
            "ARTHUR\n",
            "KNIGHTS\n",
            "FRENCH\n",
            "GUARD\n",
            "FRENCH\n",
            "GUARDS\n",
            "LAUNCELOT\n",
            "I\n",
            "ARTHUR\n",
            "BEDEVERE\n",
            "I\n",
            "FRENCH\n",
            "GUARDS\n",
            "C\n",
            "A\n",
            "ARTHUR\n",
            "BEDEVERE\n",
            "I\n",
            "ARTHUR\n",
            "BEDEVERE\n",
            "U\n",
            "I\n",
            "ARTHUR\n",
            "BEDEVERE\n",
            "ARTHUR\n",
            "KNIGHTS\n",
            "CRASH\n",
            "FRENCH\n",
            "GUARDS\n",
            "SCENE\n",
            "VOICE\n",
            "DIRECTOR\n",
            "HISTORIAN\n",
            "KNIGHT\n",
            "KNIGHT\n",
            "HISTORIAN\n",
            "HISTORIAN\n",
            "S\n",
            "WIFE\n",
            "SCENE\n",
            "NARRATOR\n",
            "MINSTREL\n",
            "O\n",
            "SIR\n",
            "ROBIN\n",
            "DENNIS\n",
            "WOMAN\n",
            "ALL\n",
            "HEADS\n",
            "MINSTREL\n",
            "ROBIN\n",
            "I\n",
            "ALL\n",
            "HEADS\n",
            "MINSTREL\n",
            "ROBIN\n",
            "I\n",
            "ALL\n",
            "HEADS\n",
            "I\n",
            "ROBIN\n",
            "W\n",
            "I\n",
            "I\n",
            "ALL\n",
            "HEADS\n",
            "ROBIN\n",
            "I\n",
            "LEFT\n",
            "HEAD\n",
            "I\n",
            "MIDDLE\n",
            "HEAD\n",
            "I\n",
            "RIGHT\n",
            "HEAD\n",
            "I\n",
            "MIDDLE\n",
            "HEAD\n",
            "I\n",
            "LEFT\n",
            "HEAD\n",
            "I\n",
            "RIGHT\n",
            "HEAD\n",
            "LEFT\n",
            "HEAD\n",
            "ROBIN\n",
            "I\n",
            "LEFT\n",
            "HEAD\n",
            "I\n",
            "RIGHT\n",
            "HEAD\n",
            "MIDDLE\n",
            "HEAD\n",
            "LEFT\n",
            "HEAD\n",
            "RIGHT\n",
            "HEAD\n",
            "MIDDLE\n",
            "HEAD\n",
            "LEFT\n",
            "HEAD\n",
            "MIDDLE\n",
            "HEAD\n",
            "LEFT\n",
            "HEAD\n",
            "I\n",
            "MIDDLE\n",
            "HEAD\n",
            "RIGHT\n",
            "HEAD\n",
            "LEFT\n",
            "HEAD\n",
            "MIDDLE\n",
            "HEAD\n",
            "RIGHT\n",
            "HEAD\n",
            "LEFT\n",
            "HEAD\n",
            "ALL\n",
            "HEADS\n",
            "MIDDLE\n",
            "HEAD\n",
            "RIGHT\n",
            "HEAD\n",
            "MINSTREL\n",
            "ROBIN\n",
            "MINSTREL\n",
            "ROBIN\n",
            "I\n",
            "MINSTREL\n",
            "ROBIN\n",
            "MINSTREL\n",
            "ROBIN\n",
            "I\n",
            "MINSTREL\n",
            "ROBIN\n",
            "I\n",
            "MINSTREL\n",
            "ROBIN\n",
            "MINSTREL\n",
            "ROBIN\n",
            "I\n",
            "CARTOON\n",
            "MONKS\n",
            "CARTOON\n",
            "CHARACTER\n",
            "CARTOON\n",
            "MONKS\n",
            "CARTOON\n",
            "CHARACTERS\n",
            "CARTOON\n",
            "MONKS\n",
            "CARTOON\n",
            "CHARACTER\n",
            "VOICE\n",
            "CARTOON\n",
            "CHARACTER\n",
            "SCENE\n",
            "NARRATOR\n",
            "GALAHAD\n",
            "GIRLS\n",
            "ZOOT\n",
            "GALAHAD\n",
            "ZOOT\n",
            "GALAHAD\n",
            "ZOOT\n",
            "GALAHAD\n",
            "ZOOT\n",
            "MIDGET\n",
            "CRAPPER\n",
            "O\n",
            "ZOOT\n",
            "MIDGET\n",
            "CRAPPER\n",
            "ZOOT\n",
            "GALAHAD\n",
            "I\n",
            "I\n",
            "ZOOT\n",
            "GALAHAD\n",
            "ZOOT\n",
            "GALAHAD\n",
            "ZOOT\n",
            "GALAHAD\n",
            "I\n",
            "ZOOT\n",
            "GALAHAD\n",
            "I\n",
            "I\n",
            "ZOOT\n",
            "I\n",
            "GALAHAD\n",
            "ZOOT\n",
            "PIGLET\n",
            "GALAHAD\n",
            "ZOOT\n",
            "GALAHAD\n",
            "B\n",
            "ZOOT\n",
            "WINSTON\n",
            "GALAHAD\n",
            "PIGLET\n",
            "GALAHAD\n",
            "PIGLET\n",
            "GALAHAD\n",
            "I\n",
            "PIGLET\n",
            "GALAHAD\n",
            "I\n",
            "PIGLET\n",
            "GALAHAD\n",
            "I\n",
            "I\n",
            "I\n",
            "GIRLS\n",
            "GALAHAD\n",
            "GIRLS\n",
            "GALAHAD\n",
            "DINGO\n",
            "I\n",
            "GALAHAD\n",
            "I\n",
            "DINGO\n",
            "GALAHAD\n",
            "I\n",
            "I\n",
            "DINGO\n",
            "GALAHAD\n",
            "DINGO\n",
            "I\n",
            "GALAHAD\n",
            "DINGO\n",
            "I\n",
            "LEFT\n",
            "HEAD\n",
            "DENNIS\n",
            "OLD\n",
            "MAN\n",
            "TIM\n",
            "THE\n",
            "ENCHANTER\n",
            "ARMY\n",
            "OF\n",
            "KNIGHTS\n",
            "DINGO\n",
            "I\n",
            "GOD\n",
            "DINGO\n",
            "GIRLS\n",
            "A\n",
            "A\n",
            "DINGO\n",
            "AMAZING\n",
            "STUNNER\n",
            "LOVELY\n",
            "DINGO\n",
            "GIRLS\n",
            "A\n",
            "A\n",
            "DINGO\n",
            "GIRLS\n",
            "GALAHAD\n",
            "I\n",
            "LAUNCELOT\n",
            "GALAHAD\n",
            "LAUNCELOT\n",
            "GALAHAD\n",
            "LAUNCELOT\n",
            "GALAHAD\n",
            "LAUNCELOT\n",
            "DINGO\n",
            "LAUNCELOT\n",
            "GALAHAD\n",
            "LAUNCELOT\n",
            "GALAHAD\n",
            "I\n",
            "LAUNCELOT\n",
            "GIRLS\n",
            "GALAHAD\n",
            "I\n",
            "DINGO\n",
            "GIRLS\n",
            "LAUNCELOT\n",
            "GALAHAD\n",
            "I\n",
            "I\n",
            "DINGO\n",
            "GIRLS\n",
            "LAUNCELOT\n",
            "GALAHAD\n",
            "I\n",
            "DINGO\n",
            "GIRLS\n",
            "DINGO\n",
            "LAUNCELOT\n",
            "GALAHAD\n",
            "I\n",
            "I\n",
            "LAUNCELOT\n",
            "GALAHAD\n",
            "LAUNCELOT\n",
            "GALAHAD\n",
            "I\n",
            "LAUNCELOT\n",
            "GALAHAD\n",
            "LAUNCELOT\n",
            "GALAHAD\n",
            "I\n",
            "LAUNCELOT\n",
            "I\n",
            "NARRATOR\n",
            "I\n",
            "I\n",
            "CROWD\n",
            "NARRATOR\n",
            "I\n",
            "SCENE\n",
            "OLD\n",
            "MAN\n",
            "ARTHUR\n",
            "OLD\n",
            "MAN\n",
            "ARTHUR\n",
            "OLD\n",
            "MAN\n",
            "ARTHUR\n",
            "OLD\n",
            "MAN\n",
            "ARTHUR\n",
            "OLD\n",
            "MAN\n",
            "ARTHUR\n",
            "OLD\n",
            "MAN\n",
            "ARTHUR\n",
            "OLD\n",
            "MAN\n",
            "SCENE\n",
            "HEAD\n",
            "KNIGHT\n",
            "OF\n",
            "NI\n",
            "KNIGHTS\n",
            "OF\n",
            "NI\n",
            "ARTHUR\n",
            "HEAD\n",
            "KNIGHT\n",
            "RANDOM\n",
            "ARTHUR\n",
            "HEAD\n",
            "KNIGHT\n",
            "BEDEVERE\n",
            "HEAD\n",
            "KNIGHT\n",
            "RANDOM\n",
            "ARTHUR\n",
            "HEAD\n",
            "KNIGHT\n",
            "ARTHUR\n",
            "HEAD\n",
            "KNIGHT\n",
            "KNIGHTS\n",
            "OF\n",
            "NI\n",
            "ARTHUR\n",
            "HEAD\n",
            "KNIGHT\n",
            "ARTHUR\n",
            "HEAD\n",
            "KNIGHT\n",
            "ARTHUR\n",
            "A\n",
            "KNIGHTS\n",
            "OF\n",
            "NI\n",
            "ARTHUR\n",
            "PARTY\n",
            "ARTHUR\n",
            "HEAD\n",
            "KNIGHT\n",
            "ARTHUR\n",
            "O\n",
            "HEAD\n",
            "KNIGHT\n",
            "ARTHUR\n",
            "HEAD\n",
            "KNIGHT\n",
            "ARTHUR\n",
            "HEAD\n",
            "KNIGHT\n",
            "CARTOON\n",
            "CHARACTER\n",
            "SUN\n",
            "CARTOON\n",
            "CHARACTER\n",
            "SUN\n",
            "CARTOON\n",
            "CHARACTER\n",
            "SUN\n",
            "CARTOON\n",
            "CHARACTER\n",
            "SCENE\n",
            "NARRATOR\n",
            "FATHER\n",
            "PRINCE\n",
            "HERBERT\n",
            "FATHER\n",
            "HERBERT\n",
            "FATHER\n",
            "HERBERT\n",
            "B\n",
            "I\n",
            "FATHER\n",
            "I\n",
            "I\n",
            "I\n",
            "I\n",
            "I\n",
            "I\n",
            "HERBERT\n",
            "I\n",
            "I\n",
            "FATHER\n",
            "HERBERT\n",
            "I\n",
            "FATHER\n",
            "I\n",
            "HERBERT\n",
            "B\n",
            "I\n",
            "FATHER\n",
            "HERBERT\n",
            "FATHER\n",
            "HERBERT\n",
            "I\n",
            "FATHER\n",
            "HERBERT\n",
            "I\n",
            "I\n",
            "I\n",
            "FATHER\n",
            "I\n",
            "GUARD\n",
            "GUARD\n",
            "FATHER\n",
            "I\n",
            "GUARD\n",
            "FATHER\n",
            "GUARD\n",
            "GUARD\n",
            "FATHER\n",
            "GUARD\n",
            "FATHER\n",
            "GUARD\n",
            "FATHER\n",
            "GUARD\n",
            "GUARD\n",
            "FATHER\n",
            "GUARD\n",
            "FATHER\n",
            "GUARD\n",
            "FATHER\n",
            "GUARD\n",
            "FATHER\n",
            "GUARD\n",
            "FATHER\n",
            "GUARD\n",
            "I\n",
            "FATHER\n",
            "N\n",
            "GUARD\n",
            "FATHER\n",
            "GUARD\n",
            "FATHER\n",
            "GUARD\n",
            "GUARD\n",
            "FATHER\n",
            "GUARD\n",
            "FATHER\n",
            "GUARD\n",
            "GUARD\n",
            "FATHER\n",
            "GUARD\n",
            "FATHER\n",
            "GUARD\n",
            "FATHER\n",
            "GUARD\n",
            "GUARD\n",
            "GUARD\n",
            "I\n",
            "FATHER\n",
            "GUARD\n",
            "GUARD\n",
            "FATHER\n",
            "GUARD\n",
            "FATHER\n",
            "I\n",
            "GUARD\n",
            "I\n",
            "HERBERT\n",
            "FATHER\n",
            "GUARD\n",
            "FATHER\n",
            "SCENE\n",
            "LAUNCELOT\n",
            "CONCORDE\n",
            "LAUNCELOT\n",
            "CONCORDE\n",
            "LAUNCELOT\n",
            "I\n",
            "I\n",
            "A\n",
            "A\n",
            "CONCORDE\n",
            "I\n",
            "I\n",
            "LAUNCELOT\n",
            "CONCORDE\n",
            "I\n",
            "I\n",
            "I\n",
            "I\n",
            "I\n",
            "LAUNCELOT\n",
            "I\n",
            "CONCORDE\n",
            "I\n",
            "I\n",
            "LAUNCELOT\n",
            "I\n",
            "I\n",
            "CONCORDE\n",
            "LAUNCELOT\n",
            "CONCORDE\n",
            "I\n",
            "LAUNCELOT\n",
            "CONCORDE\n",
            "I\n",
            "I\n",
            "I\n",
            "SCENE\n",
            "PRINCESS\n",
            "LUCKY\n",
            "GIRLS\n",
            "GUEST\n",
            "SENTRY\n",
            "SENTRY\n",
            "SENTRY\n",
            "LAUNCELOT\n",
            "SENTRY\n",
            "LAUNCELOT\n",
            "PRINCESS\n",
            "LUCKY\n",
            "GIRLS\n",
            "LAUNCELOT\n",
            "GUESTS\n",
            "LAUNCELOT\n",
            "GUARD\n",
            "LAUNCELOT\n",
            "O\n",
            "I\n",
            "I\n",
            "HERBERT\n",
            "LAUNCELOT\n",
            "I\n",
            "I\n",
            "HERBERT\n",
            "LAUNCELOT\n",
            "I\n",
            "HERBERT\n",
            "I\n",
            "I\n",
            "LAUNCELOT\n",
            "I\n",
            "HERBERT\n",
            "FATHER\n",
            "HERBERT\n",
            "I\n",
            "FATHER\n",
            "LAUNCELOT\n",
            "I\n",
            "HERBERT\n",
            "LAUNCELOT\n",
            "FATHER\n",
            "LAUNCELOT\n",
            "FATHER\n",
            "LAUNCELOT\n",
            "I\n",
            "I\n",
            "HERBERT\n",
            "I\n",
            "FATHER\n",
            "LAUNCELOT\n",
            "I\n",
            "FATHER\n",
            "I\n",
            "HERBERT\n",
            "FATHER\n",
            "LAUNCELOT\n",
            "I\n",
            "FATHER\n",
            "LAUNCELOT\n",
            "FATHER\n",
            "LAUNCELOT\n",
            "I\n",
            "I\n",
            "I\n",
            "FATHER\n",
            "HERBERT\n",
            "LAUNCELOT\n",
            "I\n",
            "FATHER\n",
            "LAUNCELOT\n",
            "HERBERT\n",
            "I\n",
            "FATHER\n",
            "LAUNCELOT\n",
            "HERBERT\n",
            "I\n",
            "LAUNCELOT\n",
            "I\n",
            "HERBERT\n",
            "LAUNCELOT\n",
            "I\n",
            "I\n",
            "I\n",
            "FATHER\n",
            "HERBERT\n",
            "SCENE\n",
            "GUESTS\n",
            "FATHER\n",
            "GUEST\n",
            "FATHER\n",
            "LAUNCELOT\n",
            "FATHER\n",
            "LAUNCELOT\n",
            "I\n",
            "I\n",
            "I\n",
            "GUEST\n",
            "GUESTS\n",
            "FATHER\n",
            "LAUNCELOT\n",
            "GUEST\n",
            "GUESTS\n",
            "FATHER\n",
            "GUESTS\n",
            "FATHER\n",
            "I\n",
            "I\n",
            "GUEST\n",
            "FATHER\n",
            "GUEST\n",
            "FATHER\n",
            "BRIDE\n",
            "S\n",
            "FATHER\n",
            "GUEST\n",
            "FATHER\n",
            "I\n",
            "I\n",
            "LAUNCELOT\n",
            "GUEST\n",
            "GUESTS\n",
            "CONCORDE\n",
            "HERBERT\n",
            "I\n",
            "FATHER\n",
            "HERBERT\n",
            "I\n",
            "FATHER\n",
            "HERBERT\n",
            "I\n",
            "FATHER\n",
            "GUESTS\n",
            "FATHER\n",
            "GUESTS\n",
            "FATHER\n",
            "GUESTS\n",
            "FATHER\n",
            "GUESTS\n",
            "FATHER\n",
            "GUESTS\n",
            "CONCORDE\n",
            "GUESTS\n",
            "CONCORDE\n",
            "GUESTS\n",
            "LAUNCELOT\n",
            "GUESTS\n",
            "LAUNCELOT\n",
            "I\n",
            "GUESTS\n",
            "CONCORDE\n",
            "LAUNCELOT\n",
            "GUESTS\n",
            "LAUNCELOT\n",
            "GUESTS\n",
            "LAUNCELOT\n",
            "SCENE\n",
            "ARTHUR\n",
            "OLD\n",
            "CRONE\n",
            "ARTHUR\n",
            "CRONE\n",
            "ARTHUR\n",
            "I\n",
            "CRONE\n",
            "ARTHUR\n",
            "CRONE\n",
            "ARTHUR\n",
            "CRONE\n",
            "BEDEVERE\n",
            "ARTHUR\n",
            "BEDEVERE\n",
            "ARTHUR\n",
            "BEDEVERE\n",
            "ARTHUR\n",
            "BEDEVERE\n",
            "ARTHUR\n",
            "BEDEVERE\n",
            "ARTHUR\n",
            "ARTHUR\n",
            "BEDEVERE\n",
            "CRONE\n",
            "BEDEVERE\n",
            "ARTHUR\n",
            "CRONE\n",
            "BEDEVERE\n",
            "ARTHUR\n",
            "BEDEVERE\n",
            "ARTHUR\n",
            "BEDEVERE\n",
            "ROGER\n",
            "THE\n",
            "SHRUBBER\n",
            "ARTHUR\n",
            "ROGER\n",
            "ARTHUR\n",
            "ROGER\n",
            "I\n",
            "I\n",
            "BEDEVERE\n",
            "ARTHUR\n",
            "SCENE\n",
            "ARTHUR\n",
            "O\n",
            "HEAD\n",
            "KNIGHT\n",
            "I\n",
            "ARTHUR\n",
            "HEAD\n",
            "KNIGHT\n",
            "KNIGHTS\n",
            "OF\n",
            "NI\n",
            "HEAD\n",
            "KNIGHT\n",
            "RANDOM\n",
            "HEAD\n",
            "KNIGHT\n",
            "ARTHUR\n",
            "O\n",
            "HEAD\n",
            "KNIGHT\n",
            "ARTHUR\n",
            "RANDOM\n",
            "HEAD\n",
            "KNIGHT\n",
            "KNIGHTS\n",
            "OF\n",
            "NI\n",
            "A\n",
            "A\n",
            "A\n",
            "HEAD\n",
            "KNIGHT\n",
            "ARTHUR\n",
            "HEAD\n",
            "KNIGHT\n",
            "ARTHUR\n",
            "KNIGHTS\n",
            "OF\n",
            "NI\n",
            "HEAD\n",
            "KNIGHT\n",
            "ARTHUR\n",
            "HEAD\n",
            "KNIGHT\n",
            "I\n",
            "ARTHUR\n",
            "KNIGHTS\n",
            "OF\n",
            "NI\n",
            "HEAD\n",
            "KNIGHT\n",
            "ARTHUR\n",
            "KNIGHTS\n",
            "OF\n",
            "NI\n",
            "HEAD\n",
            "KNIGHT\n",
            "KNIGHTS\n",
            "OF\n",
            "NI\n",
            "BEDEVERE\n",
            "MINSTREL\n",
            "ARTHUR\n",
            "ROBIN\n",
            "HEAD\n",
            "KNIGHT\n",
            "ARTHUR\n",
            "MINSTREL\n",
            "ROBIN\n",
            "HEAD\n",
            "KNIGHT\n",
            "KNIGHTS\n",
            "OF\n",
            "NI\n",
            "ROBIN\n",
            "I\n",
            "KNIGHTS\n",
            "OF\n",
            "NI\n",
            "ROBIN\n",
            "ARTHUR\n",
            "KNIGHTS\n",
            "OF\n",
            "NI\n",
            "HEAD\n",
            "KNIGHT\n",
            "ARTHUR\n",
            "KNIGHTS\n",
            "OF\n",
            "NI\n",
            "HEAD\n",
            "KNIGHT\n",
            "ARTHUR\n",
            "HEAD\n",
            "KNIGHT\n",
            "I\n",
            "I\n",
            "I\n",
            "KNIGHTS\n",
            "OF\n",
            "NI\n",
            "NARRATOR\n",
            "KNIGHTS\n",
            "NARRATOR\n",
            "MINSTREL\n",
            "NARRATOR\n",
            "KNIGHTS\n",
            "NARRATOR\n",
            "A\n",
            "CARTOON\n",
            "CHARACTER\n",
            "NARRATOR\n",
            "CARTOON\n",
            "CHARACTER\n",
            "NARRATOR\n",
            "CARTOON\n",
            "CHARACTER\n",
            "NARRATOR\n",
            "CARTOON\n",
            "CHARACTER\n",
            "NARRATOR\n",
            "CARTOON\n",
            "CHARACTER\n",
            "NARRATOR\n",
            "SCENE\n",
            "KNIGHTS\n",
            "ARTHUR\n",
            "TIM\n",
            "THE\n",
            "ENCHANTER\n",
            "I\n",
            "ARTHUR\n",
            "TIM\n",
            "ARTHUR\n",
            "TIM\n",
            "ARTHUR\n",
            "TIM\n",
            "I\n",
            "ARTHUR\n",
            "O\n",
            "TIM\n",
            "ROBIN\n",
            "ARTHUR\n",
            "KNIGHTS\n",
            "ARTHUR\n",
            "BEDEVERE\n",
            "GALAHAD\n",
            "ROBIN\n",
            "BEDEVERE\n",
            "ROBIN\n",
            "BEDEVERE\n",
            "ARTHUR\n",
            "GALAHAD\n",
            "ARTHUR\n",
            "I\n",
            "I\n",
            "TIM\n",
            "A\n",
            "ARTHUR\n",
            "A\n",
            "TIM\n",
            "A\n",
            "ARTHUR\n",
            "I\n",
            "ROBIN\n",
            "Y\n",
            "ARTHUR\n",
            "GALAHAD\n",
            "KNIGHTS\n",
            "TIM\n",
            "ROBIN\n",
            "ARTHUR\n",
            "ROBIN\n",
            "GALAHAD\n",
            "ARTHUR\n",
            "ROBIN\n",
            "KNIGHTS\n",
            "ARTHUR\n",
            "TIM\n",
            "I\n",
            "KNIGHTS\n",
            "TIM\n",
            "ARTHUR\n",
            "O\n",
            "TIM\n",
            "ARTHUR\n",
            "SCENE\n",
            "GALAHAD\n",
            "ARTHUR\n",
            "TIM\n",
            "ARTHUR\n",
            "GALAHAD\n",
            "ARTHUR\n",
            "W\n",
            "TIM\n",
            "ARTHUR\n",
            "TIM\n",
            "ARTHUR\n",
            "TIM\n",
            "ARTHUR\n",
            "TIM\n",
            "ARTHUR\n",
            "TIM\n",
            "ARTHUR\n",
            "TIM\n",
            "ARTHUR\n",
            "TIM\n",
            "ROBIN\n",
            "I\n",
            "I\n",
            "TIM\n",
            "GALAHAD\n",
            "TIM\n",
            "GALAHAD\n",
            "ROBIN\n",
            "TIM\n",
            "I\n",
            "ROBIN\n",
            "TIM\n",
            "ARTHUR\n",
            "BORS\n",
            "TIM\n",
            "BORS\n",
            "ARTHUR\n",
            "TIM\n",
            "I\n",
            "ROBIN\n",
            "I\n",
            "TIM\n",
            "I\n",
            "I\n",
            "ARTHUR\n",
            "TIM\n",
            "ARTHUR\n",
            "TIM\n",
            "KNIGHTS\n",
            "KNIGHTS\n",
            "ARTHUR\n",
            "KNIGHTS\n",
            "TIM\n",
            "ARTHUR\n",
            "LAUNCELOT\n",
            "GALAHAD\n",
            "ARTHUR\n",
            "GALAHAD\n",
            "ARTHUR\n",
            "ROBIN\n",
            "ARTHUR\n",
            "GALAHAD\n",
            "ARTHUR\n",
            "GALAHAD\n",
            "LAUNCELOT\n",
            "ARTHUR\n",
            "LAUNCELOT\n",
            "ARTHUR\n",
            "MONKS\n",
            "ARTHUR\n",
            "LAUNCELOT\n",
            "I\n",
            "ARTHUR\n",
            "BROTHER\n",
            "MAYNARD\n",
            "SECOND\n",
            "BROTHER\n",
            "O\n",
            "MAYNARD\n",
            "SECOND\n",
            "BROTHER\n",
            "MAYNARD\n",
            "KNIGHTS\n",
            "ARTHUR\n",
            "GALAHAD\n",
            "ARTHUR\n",
            "SCENE\n",
            "ARTHUR\n",
            "LAUNCELOT\n",
            "GALAHAD\n",
            "ARTHUR\n",
            "MAYNARD\n",
            "GALAHAD\n",
            "LAUNCELOT\n",
            "ARTHUR\n",
            "MAYNARD\n",
            "ARTHUR\n",
            "MAYNARD\n",
            "BEDEVERE\n",
            "MAYNARD\n",
            "LAUNCELOT\n",
            "MAYNARD\n",
            "ARTHUR\n",
            "MAYNARD\n",
            "GALAHAD\n",
            "ARTHUR\n",
            "MAYNARD\n",
            "LAUNCELOT\n",
            "ARTHUR\n",
            "BEDEVERE\n",
            "GALAHAD\n",
            "BEDEVERE\n",
            "I\n",
            "LAUNCELOT\n",
            "ARTHUR\n",
            "LAUNCELOT\n",
            "KNIGHTS\n",
            "BEDEVERE\n",
            "LAUNCELOT\n",
            "BEDEVERE\n",
            "N\n",
            "LAUNCELOT\n",
            "BEDEVERE\n",
            "I\n",
            "ARTHUR\n",
            "GALAHAD\n",
            "MAYNARD\n",
            "BROTHER\n",
            "MAYNARD\n",
            "BEDEVERE\n",
            "ARTHUR\n",
            "KNIGHTS\n",
            "BEDEVERE\n",
            "KNIGHTS\n",
            "NARRATOR\n",
            "ANIMATOR\n",
            "NARRATOR\n",
            "SCENE\n",
            "GALAHAD\n",
            "ARTHUR\n",
            "ROBIN\n",
            "ARTHUR\n",
            "BEDEVERE\n",
            "ARTHUR\n",
            "GALAHAD\n",
            "ARTHUR\n",
            "GALAHAD\n",
            "ARTHUR\n",
            "ROBIN\n",
            "ARTHUR\n",
            "ROBIN\n",
            "I\n",
            "GALAHAD\n",
            "ARTHUR\n",
            "ROBIN\n",
            "ARTHUR\n",
            "ROBIN\n",
            "I\n",
            "LAUNCELOT\n",
            "I\n",
            "I\n",
            "ARTHUR\n",
            "GALAHAD\n",
            "ARTHUR\n",
            "LAUNCELOT\n",
            "I\n",
            "ARTHUR\n",
            "BRIDGEKEEPER\n",
            "LAUNCELOT\n",
            "I\n",
            "BRIDGEKEEPER\n",
            "LAUNCELOT\n",
            "BRIDGEKEEPER\n",
            "LAUNCELOT\n",
            "BRIDGEKEEPER\n",
            "LAUNCELOT\n",
            "BRIDGEKEEPER\n",
            "LAUNCELOT\n",
            "ROBIN\n",
            "BRIDGEKEEPER\n",
            "ROBIN\n",
            "I\n",
            "BRIDGEKEEPER\n",
            "ROBIN\n",
            "BRIDGEKEEPER\n",
            "ROBIN\n",
            "BRIDGEKEEPER\n",
            "ROBIN\n",
            "I\n",
            "BRIDGEKEEPER\n",
            "GALAHAD\n",
            "BRIDGEKEEPER\n",
            "GALAHAD\n",
            "I\n",
            "BRIDGEKEEPER\n",
            "GALAHAD\n",
            "BRIDGEKEEPER\n",
            "ARTHUR\n",
            "BRIDGEKEEPER\n",
            "ARTHUR\n",
            "BRIDGEKEEPER\n",
            "ARTHUR\n",
            "BRIDGEKEEPER\n",
            "I\n",
            "I\n",
            "BEDEVERE\n",
            "ARTHUR\n",
            "SCENE\n",
            "ARTHUR\n",
            "BEDEVERE\n",
            "ARTHUR\n",
            "BEDEVERE\n",
            "ARTHUR\n",
            "FRENCH\n",
            "GUARD\n",
            "ARTHUR\n",
            "I\n",
            "FRENCH\n",
            "GUARD\n",
            "I\n",
            "I\n",
            "ARTHUR\n",
            "FRENCH\n",
            "GUARD\n",
            "I\n",
            "ARTHUR\n",
            "FRENCH\n",
            "GUARDS\n",
            "ARTHUR\n",
            "FRENCH\n",
            "GUARD\n",
            "ARTHUR\n",
            "FRENCH\n",
            "GUARD\n",
            "FRENCH\n",
            "GUARDS\n",
            "ARTHUR\n",
            "BEDEVERE\n",
            "ARTHUR\n",
            "FRENCH\n",
            "GUARDS\n",
            "ARTHUR\n",
            "FRENCH\n",
            "GUARDS\n",
            "ARTHUR\n",
            "FRENCH\n",
            "GUARDS\n",
            "ARTHUR\n",
            "ARMY\n",
            "OF\n",
            "KNIGHTS\n",
            "HISTORIAN\n",
            "S\n",
            "WIFE\n",
            "I\n",
            "INSPECTOR\n",
            "OFFICER\n",
            "HISTORIAN\n",
            "S\n",
            "WIFE\n",
            "OFFICER\n",
            "INSPECTOR\n",
            "OFFICER\n",
            "BEDEVERE\n",
            "INSPECTOR\n",
            "OFFICER\n",
            "INSPECTOR\n",
            "OFFICER\n",
            "OFFICER\n",
            "RANDOM\n",
            "RANDOM\n",
            "OFFICER\n",
            "OFFICER\n",
            "OFFICER\n",
            "OFFICER\n",
            "INSPECTOR\n",
            "OFFICER\n",
            "CAMERAMAN\n"
          ],
          "name": "stdout"
        }
      ]
    },
    {
      "cell_type": "markdown",
      "metadata": {
        "id": "qtXHJ0p3bRDq",
        "colab_type": "text"
      },
      "source": [
        "\n",
        "\n",
        "24. **Write expressions for finding all words in text6 that meet the following conditions. The result should be in the form of a list of words: ['word1', 'word2', ...].**\n",
        "\n",
        "> **a) Ending in ize**\n",
        "\n"
      ]
    },
    {
      "cell_type": "code",
      "metadata": {
        "id": "OvLVqUjqaUjx",
        "colab_type": "code",
        "colab": {
          "base_uri": "https://localhost:8080/",
          "height": 34
        },
        "outputId": "95616202-2261-4c47-8c07-785a7990d3c1"
      },
      "source": [
        "result = []\n",
        "for word in text6:\n",
        "    if word[-3:].lower() == 'ize':\n",
        "        result.append(word.lower())\n",
        "\n",
        "print(result)"
      ],
      "execution_count": 46,
      "outputs": [
        {
          "output_type": "stream",
          "text": [
            "[]\n"
          ],
          "name": "stdout"
        }
      ]
    },
    {
      "cell_type": "markdown",
      "metadata": {
        "id": "P9_7DR4UesCO",
        "colab_type": "text"
      },
      "source": [
        "> **b) Containing the letter z**"
      ]
    },
    {
      "cell_type": "code",
      "metadata": {
        "id": "D4ubCbbaa33d",
        "colab_type": "code",
        "colab": {
          "base_uri": "https://localhost:8080/",
          "height": 54
        },
        "outputId": "cc3e52fa-1d5a-4e28-af40-3dcdf1b00002"
      },
      "source": [
        "result = []\n",
        "for word in text6:\n",
        "    if word.find('z') != -1:\n",
        "        result.append(word)\n",
        "\n",
        "print(result)"
      ],
      "execution_count": 50,
      "outputs": [
        {
          "output_type": "stream",
          "text": [
            "['zone', 'amazes', 'Fetchez', 'Fetchez', 'zoop', 'zoo', 'zhiv', 'frozen', 'zoosh']\n"
          ],
          "name": "stdout"
        }
      ]
    },
    {
      "cell_type": "markdown",
      "metadata": {
        "id": "dtbpROTufgFq",
        "colab_type": "text"
      },
      "source": [
        "> **c) Containing the sequence of letters pt**"
      ]
    },
    {
      "cell_type": "code",
      "metadata": {
        "id": "2wGdiS_feJ0m",
        "colab_type": "code",
        "colab": {
          "base_uri": "https://localhost:8080/",
          "height": 54
        },
        "outputId": "1e6e1cbf-b77e-4401-aaa7-9646dd167091"
      },
      "source": [
        "result = []\n",
        "for word in text6:\n",
        "    if word.count('pt'):\n",
        "        result.append(word)\n",
        "\n",
        "print(result)"
      ],
      "execution_count": 61,
      "outputs": [
        {
          "output_type": "stream",
          "text": [
            "['empty', 'aptly', 'Thpppppt', 'Thppt', 'Thppt', 'empty', 'Thppppt', 'temptress', 'temptation', 'ptoo', 'Chapter', 'excepting', 'Thpppt']\n"
          ],
          "name": "stdout"
        }
      ]
    },
    {
      "cell_type": "markdown",
      "metadata": {
        "id": "JZIbUHv5hUXr",
        "colab_type": "text"
      },
      "source": [
        "> **d) All lowercase letters except for an initial capital (i.e., titlecase)**"
      ]
    },
    {
      "cell_type": "code",
      "metadata": {
        "id": "XBkw-1AxfE4L",
        "colab_type": "code",
        "colab": {
          "base_uri": "https://localhost:8080/",
          "height": 54
        },
        "outputId": "60c7d6a2-dc33-4eae-8271-b3a807100349"
      },
      "source": [
        "result = []\n",
        "for word in text6:\n",
        "    if word.isalpha():\n",
        "        if word.islower() or word is word.title():\n",
        "            result.append(word)\n",
        "\n",
        "print(result)"
      ],
      "execution_count": 67,
      "outputs": [
        {
          "output_type": "stream",
          "text": [
            "['wind', 'clop', 'clop', 'clop', 'there', 'clop', 'clop', 'clop', 'goes', 'there', 'is', 'son', 'of', 'from', 'the', 'castle', 'of', 'of', 'the', 'defeator', 'of', 'the', 'sovereign', 'of', 'all', 'the', 'other', 'one', 'am', 'and', 'this', 'is', 'my', 'trusty', 'servant', 'have', 'ridden', 'the', 'length', 'and', 'breadth', 'of', 'the', 'land', 'in', 'search', 'of', 'knights', 'who', 'will', 'join', 'me', 'in', 'my', 'court', 'at', 'must', 'speak', 'with', 'your', 'lord', 'and', 'master', 'on', 'a', 'horse', 're', 'using', 'coconuts', 've', 'got', 'two', 'empty', 'halves', 'of', 'coconut', 'and', 'you', 're', 'bangin', 'em', 'together', 'have', 'ridden', 'since', 'the', 'snows', 'of', 'winter', 'covered', 'this', 'land', 'through', 'the', 'kingdom', 'of', 'through', 'd', 'you', 'get', 'the', 'coconuts', 'found', 'them', 'them', 'coconut', 's', 'tropical', 'do', 'you', 'mean', 'this', 'is', 'a', 'temperate', 'zone', 'swallow', 'may', 'fly', 'south', 'with', 'the', 'sun', 'or', 'the', 'house', 'martin', 'or', 'the', 'plover', 'may', 'seek', 'warmer', 'climes', 'in', 'winter', 'yet', 'these', 'are', 'not', 'strangers', 'to', 'our', 'land', 'you', 'suggesting', 'coconuts', 'migrate', 'at', 'all', 'could', 'be', 'carried', 'swallow', 'carrying', 'a', 'coconut', 'could', 'grip', 'it', 'by', 'the', 'husk', 's', 'not', 'a', 'question', 'of', 'where', 'he', 'grips', 'it', 's', 'a', 'simple', 'question', 'of', 'weight', 'ratios', 'five', 'ounce', 'bird', 'could', 'not', 'carry', 'a', 'one', 'pound', 'coconut', 'it', 'doesn', 't', 'matter', 'you', 'go', 'and', 'tell', 'your', 'master', 'that', 'from', 'the', 'of', 'is', 'here', 'order', 'to', 'maintain', 'air', 'speed', 'velocity', 'a', 'swallow', 'needs', 'to', 'beat', 'its', 'wings', 'forty', 'three', 'times', 'every', 'second', 'right', 'right', 'm', 'not', 'interested', 'could', 'be', 'carried', 'by', 'an', 'swallow', 'yeah', 'an', 'swallow', 'maybe', 'but', 'not', 'a', 'swallow', 's', 'my', 'point', 'yeah', 'agree', 'with', 'that', 'you', 'ask', 'your', 'master', 'if', 'he', 'wants', 'to', 'join', 'my', 'court', 'at', 'then', 'of', 'course', 'a', 'swallows', 'are', 'non', 'migratory', 'yeah', 'they', 'couldn', 't', 'bring', 'a', 'coconut', 'back', 'anyway', 'clop', 'clop', 'clop', 'a', 'minute', 'two', 'swallows', 'carried', 'it', 'together', 'they', 'd', 'have', 'to', 'have', 'it', 'on', 'a', 'line', 'simple', 'd', 'just', 'use', 'a', 'strand', 'of', 'creeper', 'held', 'under', 'the', 'dorsal', 'guiding', 'feathers', 'why', 'not', 'thud', 'clang', 'out', 'your', 'dead', 'clang', 'out', 'your', 'dead', 'clang', 'out', 'your', 'dead', 'clang', 'out', 'your', 'dead', 'clang', 'out', 'your', 'dead', 'cough', 'cough', 'clang', 'cough', 'cough', 'out', 'your', 'dead', 'clang', 'out', 'your', 'dead', 'clang', 'out', 'your', 'dead', 'clang', 'out', 'your', 'dead', 'clang', 'out', 'your', 'dead', 'clang', 'out', 'rewr', 'your', 'dead', 'rewr', 'clang', 'out', 'your', 'dead', 's', 'one', 'm', 'not', 'dead', 's', 'your', 'ninepence', 'm', 'not', 'dead', 'says', 'he', 's', 'not', 'dead', 'he', 'is', 'm', 'not', 'isn', 't', 'he', 'will', 'be', 'soon', 's', 'very', 'ill', 'm', 'getting', 'better', 'you', 're', 'not', 'll', 'be', 'stone', 'dead', 'in', 'a', 'moment', 'can', 't', 'take', 'him', 'like', 'that', 's', 'against', 'regulations', 'don', 't', 'want', 'to', 'go', 'on', 'the', 'cart', 'don', 't', 'be', 'such', 'a', 'baby', 'can', 't', 'take', 'him', 'feel', 'fine', 'do', 'us', 'a', 'favor', 'can', 't', 'can', 'you', 'hang', 'around', 'a', 'couple', 'of', 'minutes', 'won', 't', 'be', 'long', 've', 'got', 'to', 'go', 'to', 'the', 's', 've', 'lost', 'nine', 'today', 'when', 's', 'your', 'next', 'round', 'think', 'll', 'go', 'for', 'a', 'walk', 're', 'not', 'fooling', 'anyone', 'you', 'know', 'isn', 't', 'there', 'something', 'you', 'can', 'do', 'singing', 'feel', 'happy', 'feel', 'happy', 'whop', 'thanks', 'very', 'much', 'at', 'all', 'you', 'on', 'right', 'howl', 'clop', 'clop', 'clop', 's', 'that', 'then', 'dunno', 'be', 'a', 'king', 'hasn', 't', 'got', 'shit', 'all', 'over', 'him', 'thud', 'music', 'thud', 'thud', 'thud', 'music', 'stops', 'woman', 'knight', 'live', 'in', 'that', 'castle', 'over', 'there', 'm', 'thirty', 'seven', 'what', 'm', 'thirty', 'seven', 'm', 'not', 'old', 'can', 't', 'just', 'call', 'you', 'you', 'could', 'say', 'didn', 't', 'know', 'you', 'were', 'called', 'you', 'didn', 't', 'bother', 'to', 'find', 'out', 'did', 'you', 'did', 'say', 'sorry', 'about', 'the', 'old', 'woman', 'but', 'from', 'the', 'behind', 'you', 'looked', 'object', 'to', 'is', 'that', 'you', 'automatically', 'treat', 'me', 'like', 'an', 'inferior', 'am', 'king', 'king', 'eh', 'very', 'nice', 'how', 'd', 'you', 'get', 'that', 'eh', 'exploiting', 'the', 'workers', 'anging', 'on', 'to', 'outdated', 'imperialist', 'dogma', 'which', 'perpetuates', 'the', 'economic', 'and', 'social', 'differences', 'in', 'our', 'society', 'there', 's', 'ever', 'going', 'to', 'be', 'any', 'progress', 'with', 'the', 'there', 's', 'some', 'lovely', 'filth', 'down', 'here', 'd', 'you', 'do', 'do', 'you', 'do', 'good', 'lady', 'am', 'of', 'the', 's', 'castle', 'is', 'that', 'of', 'the', 'who', 'are', 'the', 'we', 'all', 'are', 'are', 'all', 'and', 'am', 'your', 'king', 'didn', 't', 'know', 'we', 'had', 'a', 'king', 'thought', 'we', 'were', 'an', 'autonomous', 'collective', 're', 'fooling', 'yourself', 're', 'living', 'in', 'a', 'dictatorship', 'self', 'perpetuating', 'autocracy', 'in', 'which', 'the', 'working', 'classes', 'there', 'you', 'go', 'bringing', 'class', 'into', 'it', 'again', 's', 'what', 'it', 's', 'all', 'about', 'only', 'people', 'would', 'hear', 'of', 'please', 'good', 'people', 'am', 'in', 'haste', 'lives', 'in', 'that', 'castle', 'one', 'live', 'there', 'who', 'is', 'your', 'lord', 'don', 't', 'have', 'a', 'lord', 'told', 'you', 're', 'an', 'anarcho', 'syndicalist', 'commune', 'take', 'it', 'in', 'turns', 'to', 'act', 'as', 'a', 'sort', 'of', 'executive', 'officer', 'for', 'the', 'week', 'all', 'the', 'decision', 'of', 'that', 'officer', 'have', 'to', 'be', 'ratified', 'at', 'a', 'special', 'bi', 'weekly', 'meeting', 'see', 'a', 'simple', 'majority', 'in', 'the', 'case', 'of', 'purely', 'internal', 'affairs', 'quiet', 'by', 'a', 'two', 'thirds', 'majority', 'in', 'the', 'case', 'of', 'more', 'major', 'quiet', 'order', 'you', 'to', 'be', 'quiet', 'eh', 'does', 'he', 'think', 'he', 'is', 'am', 'your', 'king', 'didn', 't', 'vote', 'for', 'you', 'don', 't', 'vote', 'for', 'kings', 'how', 'did', 'you', 'become', 'king', 'then', 'of', 'the', 'angels', 'sing', 'her', 'arm', 'clad', 'in', 'the', 'purest', 'shimmering', 'samite', 'held', 'aloft', 'from', 'the', 'bosom', 'of', 'the', 'water', 'signifying', 'by', 'that', 'was', 'to', 'carry', 'singing', 'stops', 'is', 'why', 'am', 'your', 'king', 'strange', 'women', 'lying', 'in', 'ponds', 'distributing', 'swords', 'is', 'no', 'basis', 'for', 'a', 'system', 'of', 'government', 'executive', 'power', 'derives', 'from', 'a', 'mandate', 'from', 'the', 'masses', 'not', 'from', 'some', 'farcical', 'aquatic', 'ceremony', 'quiet', 'but', 'you', 'can', 't', 'expect', 'to', 'wield', 'supreme', 'executive', 'power', 'just', 'cause', 'some', 'watery', 'tart', 'threw', 'a', 'sword', 'at', 'you', 'up', 'mean', 'if', 'went', 'round', 'saying', 'was', 'an', 'emperor', 'just', 'because', 'some', 'moistened', 'bint', 'had', 'lobbed', 'a', 'scimitar', 'at', 'me', 'they', 'd', 'put', 'me', 'away', 'up', 'will', 'you', 'up', 'now', 'we', 'see', 'the', 'violence', 'inherent', 'in', 'the', 'system', 'up', 'and', 'see', 'the', 'violence', 'inherent', 'in', 'the', 'system', 'help', 'm', 'being', 'repressed', 'peasant', 'what', 'a', 'give', 'away', 'you', 'hear', 'that', 'you', 'hear', 'that', 'eh', 's', 'what', 'm', 'on', 'about', 'you', 'see', 'him', 'repressing', 'me', 'saw', 'it', 'didn', 't', 'you', 'music', 'music', 'stops', 'music', 'music', 'stops', 'music', 'music', 'stops', 'stab', 'music', 'music', 'stops', 'clang', 'and', 'oh', 'etc', 'woosh', 'kills', 'thud', 'scrape', 'clop', 'clop', 'clop', 'fight', 'with', 'the', 'strength', 'of', 'many', 'men', 'pause', 'am', 'of', 'the', 'pause', 'seek', 'the', 'finest', 'and', 'the', 'bravest', 'knights', 'in', 'the', 'land', 'to', 'join', 'me', 'in', 'my', 'court', 'at', 'pause', 'have', 'proved', 'yourself', 'worthy', 'you', 'join', 'me', 'pause', 'make', 'me', 'sad', 'be', 'it', 'shall', 'pass', 'shall', 'pass', 'have', 'no', 'quarrel', 'with', 'you', 'good', 'but', 'must', 'cross', 'this', 'bridge', 'you', 'shall', 'die', 'command', 'you', 'as', 'of', 'the', 'to', 'stand', 'aside', 'move', 'for', 'no', 'man', 'be', 'it', 'and', 'hiyaah', 'etc', 'chops', 'the', 's', 'left', 'arm', 'off', 'stand', 'aside', 'worthy', 'adversary', 'but', 'a', 'scratch', 'scratch', 'arm', 's', 'off', 'it', 'isn', 't', 'what', 's', 'that', 'then', 've', 'had', 'worse', 'liar', 'on', 'you', 'pansy', 'clang', 'clang', 'clang', 'chops', 'the', 's', 'right', 'arm', 'off', 'is', 'mine', 'kneeling', 'thank', 'that', 'in', 'mer', 'clunk', 'on', 'then', 'at', 'you', 'kick', 'are', 'indeed', 'brave', 'but', 'the', 'fight', 'is', 'mine', 'had', 'enough', 'eh', 'you', 'stupid', 'bastard', 've', 'got', 'no', 'arms', 'left', 'have', 'a', 'flesh', 'wound', 'kick', 'stop', 'that', 'kick', 'll', 'have', 'your', 'leg', 'kick', 'whop', 'chops', 'the', 's', 'right', 'leg', 'off', 'll', 'do', 'you', 'for', 'that', 'll', 'what', 'here', 'are', 'you', 'going', 'to', 'do', 'bleed', 'on', 'me', 'm', 'invincible', 're', 'a', 'looney', 'always', 'triumphs', 'at', 'you', 'on', 'then', 'whop', 'chops', 'the', 's', 'last', 'leg', 'off', 'right', 'we', 'll', 'call', 'it', 'a', 'draw', 'see', 'away', 'eh', 'yellow', 'bastards', 'back', 'here', 'and', 'take', 'what', 's', 'coming', 'to', 'you', 'll', 'bite', 'your', 'legs', 'off', 'chanting', 'domine', 'dona', 'eis', 'requiem', 'bonk', 'domine', 'bonk', 'dona', 'eis', 'requiem', 'bonk', 'domine', 'bonk', 'dona', 'eis', 'requiem', 'witch', 'witch', 'bonk', 'witch', 'witch', 'chanting', 'domine', 'witch', 'witch', 'witch', 'witch', 've', 'found', 'a', 'witch', 'witch', 'witch', 'witch', 'witch', 've', 'got', 'a', 'witch', 'witch', 'witch', 'her', 'her', 'her', 've', 'found', 'a', 'witch', 've', 'found', 'a', 'witch', 'witch', 'witch', 'witch', 'have', 'found', 'a', 'witch', 'we', 'burn', 'her', 'her', 'her', 'her', 'do', 'you', 'know', 'she', 'is', 'a', 'witch', 'looks', 'like', 'one', 'her', 'forward', 'm', 'not', 'a', 'witch', 'm', 'not', 'a', 'witch', 'but', 'you', 'are', 'dressed', 'as', 'one', 'dressed', 'me', 'up', 'like', 'this', 'we', 'didn', 't', 'didn', 't', 'this', 'isn', 't', 'my', 'nose', 's', 'a', 'false', 'one', 'we', 'did', 'do', 'the', 'nose', 'nose', 'the', 'hat', 'but', 'she', 'is', 'a', 'witch', 'burn', 'her', 'you', 'dress', 'her', 'up', 'like', 'this', 'and', 'and', 'a', 'bit', 'bit', 'and', 'bit', 'bit', 'has', 'got', 'a', 'wart', 'cough', 'makes', 'you', 'think', 'she', 'is', 'a', 'witch', 'she', 'turned', 'me', 'into', 'a', 'newt', 'newt', 'got', 'better', 'her', 'anyway', 'her', 'her', 'are', 'ways', 'of', 'telling', 'whether', 'she', 'is', 'a', 'witch', 'there', 'are', 'they', 'us', 'us', 'me', 'what', 'do', 'you', 'do', 'with', 'witches', 'them', 'up', 'what', 'do', 'you', 'burn', 'apart', 'from', 'witches', 'witches', 'why', 'do', 'witches', 'burn', 'pause', 'cause', 'they', 're', 'made', 'of', 'wood', 'heh', 'yeah', 'how', 'do', 'we', 'tell', 'whether', 'she', 'is', 'made', 'of', 'wood', 'a', 'bridge', 'out', 'of', 'her', 'but', 'can', 'you', 'not', 'also', 'make', 'bridges', 'out', 'of', 'stone', 'yeah', 'yeah', 'wood', 'sink', 'in', 'water', 'it', 'floats', 'floats', 'her', 'into', 'the', 'pond', 'pond', 'her', 'into', 'the', 'pond', 'also', 'floats', 'in', 'water', 'very', 'small', 'rocks', 'gra', 'gravy', 'duck', 'logically', 'she', 'weighs', 'the', 'same', 'as', 'a', 'duck', 'she', 's', 'made', 'of', 'wood', 'therefore', 'witch', 'witch', 'witch', 'witch', 'is', 'a', 'duck', 'this', 'duck', 'quack', 'quack', 'quack', 'shall', 'use', 'my', 'largest', 'scales', 'the', 'witch', 'the', 'witch', 'her', 'her', 'her', 'her', 'her', 'her', 'her', 'the', 'supports', 'whop', 'clunk', 'creak', 'witch', 'witch', 'witch', 's', 'a', 'fair', 'cop', 'her', 'her', 'her', 'her', 'are', 'you', 'who', 'are', 'so', 'wise', 'in', 'the', 'ways', 'of', 'science', 'am', 'of', 'the', 'liege', 'will', 'you', 'come', 'with', 'me', 'to', 'and', 'join', 'us', 'at', 'the', 'liege', 'would', 'be', 'honored', 'is', 'your', 'name', 'my', 'liege', 'dub', 'you', 'of', 'the', 'wise', 'was', 'the', 'first', 'to', 'join', 's', 'knights', 'but', 'other', 'illustrious', 'names', 'were', 'soon', 'to', 'follow', 'the', 'the', 'and', 'the', 'not', 'quite', 'so', 'brave', 'as', 'who', 'had', 'nearly', 'fought', 'the', 'of', 'who', 'had', 'nearly', 'stood', 'up', 'to', 'the', 'vicious', 'of', 'and', 'who', 'had', 'personally', 'wet', 'himself', 'at', 'the', 'of', 'and', 'the', 'aptly', 'named', 'appearing', 'in', 'this', 'film', 'they', 'formed', 'a', 'band', 'whose', 'names', 'and', 'deeds', 'were', 'to', 'be', 'retold', 'throughout', 'the', 'centuries', 'the', 'of', 'the', 'clop', 'clop', 'clop', 'that', 'my', 'liege', 'is', 'how', 'we', 'know', 'the', 'earth', 'to', 'be', 'banana', 'shaped', 'new', 'learning', 'amazes', 'me', 'again', 'how', 'sheep', 's', 'bladders', 'may', 'be', 'employed', 'to', 'prevent', 'earthquakes', 'certainly', 'sir', 'my', 'liege', 'trumpets', 's', 'only', 'a', 'model', 'bid', 'you', 'welcome', 'to', 'your', 'new', 'home', 'us', 'ride', 'to', 'in', 'medieval', 'hall', 'singing', 're', 'knights', 'of', 'the', 'round', 'table', 'dance', 'when', 'e', 'er', 'we', 're', 'able', 'do', 'routines', 'and', 'chorus', 'scenes', 'footwork', 'impeccable', 'dine', 'well', 'here', 'in', 'eat', 'ham', 'and', 'jam', 'and', 'spam', 'a', 'lot', 'dancing', 're', 'knights', 'of', 'the', 'shows', 'are', 'formidable', 'many', 'times', 'we', 're', 'given', 'rhymes', 'are', 'quite', 'unsingable', 're', 'opera', 'mad', 'in', 'sing', 'from', 'the', 'diaphragm', 'a', 'lot', 'in', 'dungeon', 'clap', 'clap', 'clap', 'clap', 'in', 'medieval', 'hall', 'tap', 'dancing', 'war', 'we', 're', 'tough', 'and', 'able', 'indefatigable', 'our', 'quests', 'we', 'sequin', 'vests', 'and', 'impersonate', 's', 'a', 'busy', 'life', 'in', 'have', 'to', 'push', 'the', 'pram', 'a', 'lot', 'outdoors', 'on', 'second', 'thought', 'let', 's', 'not', 'go', 'to', 'is', 'a', 'silly', 'place', 'clop', 'clop', 'clop', 'boom', 'boom', 'angels', 'sing', 'of', 'the', 'don', 't', 'grovel', 'singing', 'stops', 'thing', 'can', 't', 'stand', 'it', 's', 'people', 'groveling', 'boom', 'don', 't', 'apologise', 'time', 'try', 'to', 'talk', 'to', 'someone', 'it', 's', 'sorry', 'this', 'and', 'forgive', 'me', 'that', 'and', 'm', 'not', 'worthy', 'boom', 'are', 'you', 'doing', 'now', 'm', 'averting', 'my', 'eyes', 'don', 't', 's', 'like', 'those', 'miserable', 'they', 're', 'so', 'depressing', 'knock', 'it', 'off', 'of', 'the', 'your', 'of', 'the', 'shall', 'have', 'a', 'task', 'to', 'make', 'them', 'an', 'example', 'in', 'these', 'dark', 'times', 'idea', 'it', 's', 'a', 'good', 'idea', 'angels', 'sing', 'this', 'is', 'the', 'well', 'for', 'it', 'is', 'your', 'sacred', 'task', 'to', 'seek', 'this', 'grail', 'is', 'your', 'purpose', 'the', 'quest', 'for', 'the', 'boom', 'singing', 'stops', 'blessing', 'blessing', 'from', 'the', 'be', 'praised', 'music', 'clop', 'clop', 'clop', 'horn', 'pause', 'is', 'eet', 'is', 'and', 'these', 'are', 'my', 'of', 'the', 's', 'castle', 'is', 'this', 'is', 'the', 'castle', 'of', 'my', 'master', 'de', 'and', 'tell', 'your', 'master', 'that', 'we', 'have', 'been', 'charged', 'by', 'with', 'a', 'sacred', 'quest', 'he', 'will', 'give', 'us', 'food', 'and', 'shelter', 'for', 'the', 'night', 'he', 'can', 'join', 'us', 'in', 'our', 'quest', 'for', 'the', 'll', 'ask', 'him', 'but', 'don', 't', 'think', 'he', 'll', 'be', 'very', 'keen', 'he', 's', 'already', 'got', 'one', 'you', 'see', 'says', 'they', 've', 'already', 'got', 'one', 'you', 'sure', 'he', 's', 'got', 'one', 'yes', 'it', 's', 'very', 'nice', 'a', 'told', 'him', 'we', 'already', 'got', 'one', 'u', 'um', 'can', 'we', 'come', 'up', 'and', 'have', 'a', 'look', 'course', 'not', 'are', 'types', 'a', 'what', 'are', 'you', 'then', 'm', 'do', 'think', 'have', 'this', 'outrageous', 'accent', 'you', 'silly', 'king', 'a', 'are', 'you', 'doing', 'in', 'your', 'own', 'business', 'you', 'will', 'not', 'show', 'us', 'the', 'we', 'shall', 'take', 'your', 'castle', 'by', 'force', 'don', 't', 'frighten', 'us', 'pig', 'dogs', 'and', 'boil', 'your', 'bottom', 'sons', 'of', 'a', 'silly', 'person', 'blow', 'my', 'nose', 'at', 'you', 'so', 'called', 'you', 'and', 'all', 'your', 'silly', 'k', 'nnnnniggets', 'a', 'strange', 'person', 'look', 'here', 'my', 'good', 'man', 'don', 't', 'wanna', 'talk', 'to', 'you', 'no', 'more', 'you', 'empty', 'headed', 'animal', 'food', 'trough', 'wiper', 'fart', 'in', 'your', 'general', 'direction', 'mother', 'was', 'a', 'hamster', 'and', 'your', 'father', 'smelt', 'of', 'elderberries', 'there', 'someone', 'else', 'up', 'there', 'we', 'could', 'talk', 'to', 'now', 'go', 'away', 'or', 'shall', 'taunt', 'you', 'a', 'second', 'time', 'a', 'sniff', 'this', 'is', 'your', 'last', 'chance', 've', 'been', 'more', 'than', 'reasonable', 'la', 'vache', 'la', 'vache', 'mooo', 'you', 'do', 'not', 'agree', 'to', 'my', 'commands', 'then', 'shall', 'twong', 'mooooooo', 'thud', 'mayhem', 'this', 'one', 'is', 'for', 'your', 'mother', 'you', 'go', 'mayhem', 'this', 'one', 's', 'for', 'your', 'dad', 'away', 'away', 'taunting', 'll', 'tear', 'them', 'apart', 'no', 'no', 'have', 'a', 'plan', 'sir', 'later', 'wind', 'saw', 'saw', 'saw', 'saw', 'saw', 'saw', 'saw', 'saw', 'saw', 'saw', 'saw', 'saw', 'saw', 'saw', 'saw', 'saw', 'clunk', 'bang', 'rewr', 'squeak', 'squeak', 'squeak', 'squeak', 'squeak', 'squeak', 'squeak', 'squeak', 'squeak', 'squeak', 'rrrr', 'rrrr', 'rrrr', 'drilllll', 'sawwwww', 'clunk', 'crash', 'clang', 'squeak', 'squeak', 'squeak', 'squeak', 'squeak', 'creak', 'whispering', 'est', 'un', 'lapin', 'lapin', 'de', 'bois', 'cadeau', 'present', 'un', 'cadeau', 'oui', 's', 'go', 'y', 'va', 'magne', 'here', 'squeak', 'squeak', 'squeak', 'squeak', 'squeak', 'clllank', 'happens', 'now', 'now', 'uh', 'and', 'uh', 'wait', 'until', 'nightfall', 'and', 'then', 'leap', 'out', 'of', 'the', 'rabbit', 'taking', 'the', 'uh', 'by', 'surprise', 'only', 'by', 'surprise', 'but', 'totally', 'unarmed', 'leaps', 'out', 'u', 'uh', 'and', 'leap', 'out', 'of', 'the', 'rabbit', 'uh', 'and', 'uh', 'l', 'look', 'i', 'i', 'if', 'we', 'built', 'this', 'large', 'wooden', 'badger', 'clank', 'twong', 'away', 'away', 'away', 'away', 'away', 'away', 'away', 'away', 'haw', 'haw', 'haw', 'haw', 'haw', 'heh', 'clack', 'for', 'take', 'eight', 'at', 'the', 'castle', 'seems', 'to', 'have', 'utterly', 'disheartened', 'ferocity', 'of', 'the', 'taunting', 'took', 'him', 'completely', 'by', 'surprise', 'and', 'became', 'convinced', 'that', 'a', 'new', 'strategy', 'was', 'required', 'if', 'the', 'quest', 'for', 'the', 'were', 'to', 'be', 'brought', 'to', 'a', 'successful', 'conclusion', 'having', 'consulted', 'his', 'closest', 'knights', 'decided', 'that', 'they', 'should', 'separate', 'and', 'search', 'for', 'the', 'individually', 'clop', 'clop', 'clop', 'this', 'is', 'what', 'they', 'did', 'slash', 'kills', 'trumpets', 'of', 'each', 'of', 'the', 'knights', 'went', 'their', 'separate', 'ways', 'rode', 'north', 'through', 'the', 'dark', 'forest', 'of', 'accompanied', 'by', 'his', 'favorite', 'minstrels', 'singing', 'bold', 'rode', 'forth', 'from', 'was', 'not', 'afraid', 'to', 'die', 'brave', 'was', 'not', 'at', 'all', 'afraid', 'to', 'be', 'killed', 'in', 'nasty', 'ways', 'brave', 'brave', 'brave', 'was', 'not', 'in', 'the', 'least', 'bit', 'scared', 'to', 'be', 'mashed', 'into', 'a', 'pulp', 'to', 'have', 'his', 'eyes', 'gouged', 'out', 'and', 'his', 'elbows', 'broken', 'have', 'his', 'kneecaps', 'split', 'and', 'his', 'body', 'burned', 'away', 'his', 'limbs', 'all', 'hacked', 'and', 'mangled', 'brave', 'head', 'smashed', 'in', 'and', 'his', 'heart', 'cut', 'out', 'his', 'liver', 'removed', 'and', 'his', 'bowels', 'unplugged', 'his', 'nostrils', 'raped', 'and', 'his', 'bottom', 'burned', 'off', 'his', 'pen', 's', 'that', 's', 'uh', 'that', 's', 'enough', 'music', 'for', 'now', 'lads', 'like', 'there', 's', 'dirty', 'work', 'afoot', 'syndicalism', 'is', 'a', 'way', 'of', 'preserving', 'freedom', 'forget', 'about', 'freedom', 'haven', 't', 'got', 'enough', 'mud', 'art', 'thou', 'singing', 'is', 'brave', 'brave', 'who', 'up', 'n', 'n', 'n', 'nobody', 'really', 'm', 'j', 'j', 'j', 'ju', 'just', 'um', 'just', 'passing', 'through', 'do', 'you', 'want', 'singing', 'fight', 'and', 'up', 'oo', 'a', 'nothing', 'nothing', 'really', 'uh', 'j', 'j', 'just', 'just', 'to', 'um', 'just', 'to', 'p', 'pass', 'through', 'good', 'm', 'afraid', 'not', 'well', 'actually', 'am', 'a', 'of', 'the', 're', 'a', 'of', 'the', 'am', 'that', 'case', 'shall', 'have', 'to', 'kill', 'you', 'don', 't', 'think', 'so', 'what', 'do', 'think', 'think', 'kill', 'him', 'let', 's', 'be', 'nice', 'to', 'him', 'shut', 'up', 'could', 'you', 'quick', 'the', 'sword', 'out', 'want', 'to', 'cut', 'his', 'headoff', 'cut', 'your', 'own', 'head', 'off', 'do', 'us', 'all', 'a', 'favor', 'on', 'all', 'the', 'time', 're', 'lucky', 're', 'not', 'next', 'to', 'him', 'do', 'you', 'mean', 'snore', 'don', 't', 'you', 've', 'got', 'bad', 'breath', 'it', 's', 'only', 'because', 'you', 'don', 't', 'brush', 'my', 'teeth', 'stop', 'bitching', 'and', 'let', 's', 'go', 'have', 'tea', 'all', 'right', 'right', 'right', 'll', 'kill', 'him', 'first', 'and', 'then', 'have', 'tea', 'and', 'biscuits', 'not', 'biscuits', 'right', 'right', 'not', 'biscuits', 'but', 'let', 's', 'kill', 'him', 'anyway', 'buggered', 'off', 'he', 'has', 's', 'scarper', 'singing', 'ran', 'away', 'singing', 'ran', 'away', 'away', 'didn', 't', 'singing', 'danger', 'reared', 'its', 'ugly', 'head', 'he', 'bravely', 'turned', 'his', 'tail', 'and', 'fled', 'singing', 'brave', 'turned', 'about', 'didn', 't', 'singing', 'gallantly', 'he', 'chickened', 'out', 'bravely', 'taking', 'to', 'his', 'feet', 'never', 'did', 'singing', 'beat', 'a', 'very', 'brave', 'retreat', 'lies', 'singing', 'of', 'the', 'brave', 'never', 'chanting', 'domine', 'dona', 'eis', 'requiem', 'heh', 'heeh', 'ooh', 'twang', 'chanting', 'domine', 'splash', 'ho', 'wayy', 'twang', 'splash', 'heh', 'heh', 'heh', 'ho', 'heh', 'heh', 'chanting', 'dona', 'eis', 'requiem', 'twang', 'twang', 'whispering', 'me', 'for', 'asking', 'trumpets', 'of', 'boom', 'wind', 'howl', 'howl', 'boom', 'angels', 'singing', 'howl', 'boom', 'howl', 'boom', 'pound', 'pound', 'pound', 'the', 'door', 'the', 'door', 'pound', 'pound', 'pound', 'the', 'name', 'of', 'open', 'the', 'door', 'squeak', 'thump', 'squeak', 'boom', 'gentle', 'to', 'the', 'it', 's', 'not', 'a', 'very', 'good', 'name', 'is', 'it', 'but', 'we', 'are', 'nice', 'and', 'we', 'will', 'attend', 'to', 'your', 'every', 'every', 'need', 'are', 'the', 'keepers', 'of', 'the', 'what', 'is', 'here', 'but', 'you', 'are', 'tired', 'and', 'you', 'must', 'rest', 'awhile', 'and', 'a', 'bed', 'for', 'our', 'guest', 'and', 'thank', 'you', 'you', 'you', 'you', 'you', 'you', 'away', 'varletesses', 'beds', 'here', 'are', 'warm', 'and', 'soft', 'and', 'very', 'very', 'big', 'look', 'uh', 'is', 'your', 'name', 'handsome', 'knight', 'the', 'is', 'but', 'come', 'please', 's', 'name', 'show', 'me', 'the', 'you', 'have', 'suffered', 'much', 'are', 'delirious', 'look', 'have', 'seen', 'it', 'is', 'here', 'in', 'this', 'would', 'not', 'be', 'so', 'ungallant', 'as', 'to', 'refuse', 'our', 'hospitality', 'uh', 'am', 'afraid', 'our', 'life', 'must', 'seem', 'very', 'dull', 'and', 'quiet', 'compared', 'to', 'yours', 'are', 'but', 'eight', 'score', 'young', 'blondes', 'and', 'brunettes', 'all', 'between', 'sixteen', 'and', 'nineteen', 'and', 'a', 'half', 'cut', 'off', 'in', 'this', 'castle', 'with', 'no', 'one', 'to', 'protect', 'us', 'is', 'a', 'lonely', 'life', 'bathing', 'dressing', 'undressing', 'making', 'exciting', 'underwear', 'are', 'just', 'not', 'used', 'to', 'handsome', 'knights', 'may', 'lie', 'here', 'but', 'you', 'are', 'wounded', 'no', 'it', 's', 'it', 's', 'nothing', 'you', 'must', 'see', 'the', 'doctors', 'immediately', 'no', 'please', 'down', 'clap', 'clap', 'what', 'seems', 'to', 'be', 'the', 'trouble', 're', 'doctors', 'they', 'have', 'a', 'basic', 'medical', 'training', 'yes', 'but', 'come', 'come', 'must', 'try', 'to', 'rest', 'your', 'art', 'to', 'relax', 'you', 'sure', 'that', 's', 'absolutely', 'necessary', 'must', 'examine', 'you', 's', 'nothing', 'wrong', 'with', 'that', 'are', 'doctors', 'cannot', 'be', 'am', 'sworn', 'to', 'chastity', 'to', 'your', 'bed', 'once', 'me', 'no', 'longer', 'have', 'seen', 'the', 's', 'no', 'grail', 'here', 'have', 'seen', 'it', 'have', 'seen', 'it', 'clank', 'have', 'seen', 'am', 's', 'identical', 'twin', 'sister', 'well', 'excuse', 'me', 'are', 'you', 'going', 'seek', 'the', 'have', 'seen', 'it', 'here', 'in', 'this', 'castle', 'no', 'no', 'bad', 'what', 'is', 'it', 'wicked', 'bad', 'naughty', 'has', 'been', 'setting', 'alight', 'to', 'our', 'beacon', 'which', 'have', 'just', 'remembered', 'is', 'grail', 'shaped', 's', 'not', 'the', 'first', 'time', 'we', 've', 'had', 'this', 'problem', 's', 'not', 'the', 'real', 'wicked', 'bad', 'naughty', 'evil', 'is', 'a', 'bad', 'person', 'and', 'must', 'pay', 'the', 'penalty', 'you', 'think', 'this', 'scene', 'should', 'have', 'been', 'cut', 'were', 'so', 'worried', 'when', 'the', 'boys', 'were', 'writing', 'it', 'but', 'now', 'we', 're', 'glad', 's', 'better', 'than', 'some', 'of', 'the', 'previous', 'scenes', 'think', 'least', 'ours', 'was', 'better', 'visually', 'at', 'least', 'ours', 'was', 'committed', 'wasn', 't', 'just', 'a', 'string', 'of', 'pussy', 'jokes', 'on', 'with', 'it', 'get', 'on', 'with', 'it', 'get', 'on', 'with', 'it', 'am', 'enjoying', 'this', 'scene', 'on', 'with', 'it', 'sigh', 'wicked', 'wicked', 'she', 'is', 'a', 'naughty', 'person', 'and', 'she', 'must', 'pay', 'the', 'penalty', 'here', 'in', 'we', 'have', 'but', 'one', 'punishment', 'for', 'setting', 'alight', 'the', 'grail', 'shaped', 'beacon', 'must', 'tie', 'her', 'down', 'on', 'a', 'bed', 'and', 'spank', 'her', 'spanking', 'spanking', 'must', 'spank', 'her', 'well', 'after', 'you', 'have', 'spanked', 'her', 'you', 'may', 'deal', 'with', 'her', 'as', 'you', 'like', 'then', 'spank', 'me', 'spank', 'me', 'me', 'me', 'yes', 'you', 'must', 'give', 'us', 'all', 'a', 'good', 'spanking', 'spanking', 'spanking', 'is', 'going', 'to', 'be', 'a', 'spanking', 'tonight', 'after', 'the', 'spanking', 'the', 'oral', 'sex', 'oral', 'sex', 'oral', 'sex', 'could', 'stay', 'a', 'bit', 'longer', 'hello', 'are', 'in', 'great', 'peril', 'he', 'isn', 't', 'foul', 'temptress', 'know', 'she', 's', 'got', 'a', 'point', 'on', 'will', 'cover', 'your', 'escape', 'm', 'fine', 'on', 'can', 'tackle', 'this', 'lot', 'single', 'handed', 'him', 'tackle', 'us', 'single', 'handed', 'him', 'tackle', 'us', 'single', 'handed', 'on', 'can', 'cope', 'can', 'handle', 'this', 'lot', 'easily', 'yes', 'him', 'handle', 'us', 'easily', 'him', 'handle', 'us', 'easily', 'can', 'defeat', 'them', 's', 'only', 'a', 'hundred', 'and', 'fifty', 'of', 'them', 'yes', 'will', 'beat', 'us', 'easily', 'haven', 't', 'a', 'chance', 'haven', 't', 'a', 'chance', 'will', 'beat', 'us', 'easily', 'boom', 'shit', 'were', 'in', 'the', 'nick', 'of', 'time', 'were', 'in', 'great', 'peril', 'don', 't', 'think', 'was', 'you', 'were', 'were', 'in', 'terrible', 'peril', 'let', 'me', 'go', 'back', 'in', 'there', 'and', 'face', 'the', 'peril', 'it', 's', 'too', 'perilous', 'it', 's', 'my', 'duty', 'as', 'a', 'knight', 'to', 'sample', 'as', 'much', 'peril', 'as', 'can', 'we', 've', 'got', 'to', 'find', 'the', 'on', 'let', 'me', 'have', 'just', 'a', 'little', 'bit', 'of', 'peril', 's', 'unhealthy', 'bet', 'you', 're', 'gay', 'm', 'not', 'had', 'saved', 'from', 'almost', 'certain', 'temptation', 'but', 'they', 'were', 'still', 'no', 'nearer', 'the', 'and', 'not', 'more', 'than', 'a', 'swallow', 's', 'flight', 'away', 'had', 'discovered', 'something', 'that', 's', 'an', 'unladen', 'swallow', 's', 'flight', 'obviously', 'mean', 'they', 'were', 'more', 'than', 'two', 'laden', 'swallows', 'flights', 'away', 'four', 'really', 'if', 'they', 'had', 'a', 'coconut', 'on', 'a', 'line', 'between', 'them', 'mean', 'if', 'the', 'birds', 'were', 'walking', 'and', 'dragging', 'on', 'with', 'it', 'anyway', 'to', 'scene', 'twenty', 'four', 'which', 'is', 'a', 'smashing', 'scene', 'with', 'some', 'lovely', 'acting', 'in', 'which', 'discovers', 'a', 'vital', 'clue', 'and', 'in', 'which', 'there', 'aren', 't', 'any', 'swallows', 'although', 'think', 'you', 'can', 'hear', 'a', 'starling', 'oooh', 'hee', 'ha', 'ha', 'hee', 'hee', 'hee', 'hee', 'ha', 'ha', 'ha', 'this', 'enchanter', 'of', 'whom', 'you', 'speak', 'he', 'has', 'seen', 'the', 'ha', 'ha', 'ha', 'hee', 'ha', 'ha', 'hee', 'hee', 'ha', 'ha', 'ha', 'ha', 'does', 'he', 'live', 'heh', 'heh', 'heh', 'man', 'where', 'does', 'he', 'live', 'ha', 'ha', 'ha', 'knows', 'of', 'a', 'cave', 'a', 'cave', 'which', 'no', 'man', 'has', 'entered', 'the', 'is', 'there', 'is', 'much', 'danger', 'for', 'beyond', 'the', 'cave', 'lies', 'the', 'of', 'which', 'no', 'man', 'has', 'ever', 'crossed', 'the', 'is', 'the', 'you', 'the', 'of', 'of', 'which', 'leads', 'to', 'the', 'hee', 'hee', 'hee', 'hee', 'ha', 'ha', 'ha', 'ha', 'ha', 'ha', 'spooky', 'music', 'music', 'stops', 'are', 'you', 'are', 'the', 'the', 'same', 'are', 'they', 'are', 'the', 'keepers', 'of', 'the', 'sacred', 'words', 'and', 'wom', 'wom', 'who', 'hear', 'them', 'seldom', 'live', 'to', 'tell', 'the', 'tale', 'demand', 'a', 'sacrifice', 'of', 'we', 'are', 'but', 'simple', 'travellers', 'who', 'seek', 'the', 'enchanter', 'who', 'lives', 'beyond', 'these', 'woods', 'shall', 'say', 'ni', 'again', 'to', 'you', 'if', 'you', 'do', 'not', 'appease', 'us', 'what', 'is', 'it', 'you', 'want', 'want', 'a', 'shrubbery', 'dramatic', 'chord', 'what', 'and', 'please', 'more', 'will', 'find', 'you', 'a', 'shrubbery', 'must', 'return', 'here', 'with', 'a', 'shrubbery', 'or', 'else', 'you', 'will', 'never', 'pass', 'through', 'this', 'wood', 'alive', 'of', 'you', 'are', 'just', 'and', 'fair', 'and', 'we', 'will', 'return', 'with', 'a', 'shrubbery', 'that', 'looks', 'nice', 'course', 'not', 'too', 'expensive', 'go', 'trumpets', 'hmm', 'boom', 'scott', 'boom', 'mumble', 'mumble', 'mumble', 'boom', 'mumble', 'mumble', 'mumble', 'boom', 'mumble', 'mumble', 'mumble', 'boom', 'mumble', 'mumble', 'mumble', 'boom', 'mumble', 'mumble', 'mumble', 'boom', 'mumble', 'mumble', 'mumble', 'boom', 'mumble', 'mumble', 'mumble', 'boom', 'mumble', 'mumble', 'mumble', 'boom', 'crash', 'mumble', 'mumble', 'mumble', 'boom', 'up', 'boom', 'up', 'boom', 'boom', 'up', 'that', 'that', 'boom', 'up', 'that', 'boom', 'on', 'off', 'on', 'away', 'away', 'away', 'you', 'off', 'sniff', 'mumble', 'mumble', 'mumble', 'bells', 'weather', 'of', 'day', 'lad', 'all', 'this', 'will', 'be', 'yours', 'the', 'curtains', 'the', 'curtains', 'lad', 'that', 'you', 'can', 'see', 'stretched', 'out', 'over', 'the', 'hills', 'and', 'valleys', 'of', 'this', 'land', 'll', 'be', 'your', 'kingdom', 'lad', 'lad', 'b', 'but', 'don', 't', 'want', 'any', 'of', 'that', 'lad', 'built', 'this', 'kingdom', 'up', 'from', 'nothing', 'started', 'here', 'all', 'there', 'was', 'was', 'swamp', 'kings', 'said', 'was', 'daft', 'to', 'build', 'a', 'castle', 'on', 'a', 'swamp', 'but', 'built', 'it', 'all', 'the', 'same', 'just', 'to', 'show', 'em', 'sank', 'into', 'the', 'swamp', 'built', 'a', 'second', 'one', 'sank', 'into', 'the', 'swamp', 'built', 'a', 'third', 'one', 'burned', 'down', 'fell', 'over', 'then', 'sank', 'into', 'the', 'swamp', 'the', 'fourth', 'one', 'stayed', 'up', 'that', 's', 'what', 'you', 're', 'gonna', 'get', 'lad', 'the', 'strongest', 'castle', 'in', 'these', 'islands', 'don', 't', 'want', 'any', 'of', 'that', 'd', 'rather', 'what', 'd', 'rather', 'music', 'just', 'sing', 'that', 'that', 're', 'not', 'going', 'into', 'a', 'song', 'while', 'm', 'here', 'listen', 'lad', 'twenty', 'minutes', 'you', 're', 'getting', 'married', 'to', 'a', 'girl', 'whose', 'father', 'owns', 'the', 'biggest', 'tracts', 'of', 'open', 'land', 'in', 'but', 'don', 't', 'want', 'land', 'live', 'in', 'a', 'bloody', 'swamp', 'need', 'all', 'the', 'land', 'we', 'can', 'get', 'but', 'don', 't', 'like', 'her', 't', 'like', 'her', 's', 'wrong', 'with', 'her', 's', 'beautiful', 's', 'rich', 's', 'got', 'huge', 'tracts', 'o', 'land', 'know', 'but', 'want', 'the', 'the', 'girl', 'that', 'marry', 'to', 'have', 'music', 'a', 'certain', 'special', 'something', 'that', 'out', 'that', 'out', 'you', 're', 'marrying', 'so', 'you', 'd', 'better', 'get', 'used', 'to', 'the', 'idea', 'smack', 'sure', 'the', 'doesn', 't', 'leave', 'this', 'room', 'until', 'come', 'and', 'get', 'him', 'to', 'leave', 'the', 'room', 'even', 'if', 'you', 'come', 'and', 'get', 'him', 'no', 'come', 'and', 'get', 'him', 'you', 'come', 'and', 'get', 'him', 'we', 're', 'not', 'to', 'enter', 'the', 'room', 'no', 'stay', 'in', 'the', 'room', 'and', 'make', 'sure', 'he', 'doesn', 't', 'leave', 'you', 'll', 'come', 'and', 'get', 'him', 'don', 't', 'need', 'to', 'do', 'anything', 'apart', 'from', 'just', 'stop', 'him', 'entering', 'the', 'room', 'no', 'the', 'room', 'the', 'room', 'sniff', 'right', 'if', 'if', 'if', 'uhh', 'if', 'if', 'w', 'ehh', 'i', 'if', 'if', 'we', 'is', 'it', 'i', 'if', 'i', 'oh', 'it', 's', 'quite', 'simple', 'just', 'stay', 'here', 'and', 'make', 'sure', 'e', 'doesn', 't', 'leave', 'the', 'room', 'remember', 'can', 'he', 'leave', 'the', 'room', 'with', 'us', 'no', 'no', 'just', 'keep', 'him', 'in', 'here', 'and', 'make', 'sure', 'he', 'yes', 'll', 'keep', 'him', 'in', 'here', 'obviously', 'if', 'he', 'had', 'to', 'leave', 'and', 'we', 'were', 'with', 'him', 'no', 'no', 'no', 'keep', 'him', 'in', 'here', 'you', 'or', 'anyone', 'else', 'not', 'anyone', 'else', 'me', 'you', 'back', 'back', 'right', 'll', 'stay', 'here', 'until', 'you', 'get', 'back', 'uh', 'make', 'sure', 'he', 'doesn', 't', 'leave', 'sure', 'e', 'doesn', 't', 'leave', 'sure', 'e', 'doesn', 't', 'leave', 'yes', 'of', 'course', 'thought', 'you', 'meant', 'him', 'know', 'it', 'seemed', 'a', 'bit', 'daft', 'me', 'havin', 'to', 'guard', 'him', 'when', 'he', 's', 'a', 'guard', 'that', 'clear', 'quite', 'clear', 'problems', 'are', 'you', 'going', 're', 'coming', 'with', 'you', 'no', 'want', 'you', 'to', 'stay', 'here', 'and', 'make', 'sure', 'e', 'doesn', 't', 'leave', 'see', 'your', 'noise', 'you', 'get', 'that', 'suit', 'on', 'music', 'no', 'singing', 'go', 'and', 'get', 'a', 'glass', 'of', 'water', 'clank', 'scribble', 'scribble', 'scribble', 'fold', 'fold', 'twong', 'taken', 'you', 'sir', 'kind', 'again', 'we', 'go', 'now', 'the', 'big', 'one', 'on', 'thwonk', 'for', 'you', 'sir', 'fwump', 'to', 'me', 'whoever', 'finds', 'this', 'note', 'have', 'been', 'imprisoned', 'by', 'my', 'father', 'who', 'wishes', 'me', 'to', 'marry', 'against', 'my', 'will', 'please', 'please', 'come', 'and', 'rescue', 'me', 'am', 'in', 'the', 'of', 'last', 'call', 'cry', 'of', 'distress', 'could', 'be', 'the', 'sign', 'that', 'leads', 'us', 'to', 'the', 'brave', 'you', 'shall', 'not', 'have', 'died', 'in', 'vain', 'm', 'm', 'not', 'quite', 'dead', 'sir', 'you', 'shall', 'not', 'have', 'been', 'mortally', 'wounded', 'in', 'vain', 'think', 'c', 'could', 'pull', 'through', 'sir', 'see', 'think', 'm', 'all', 'right', 'to', 'come', 'with', 'you', 'sir', 'no', 'sweet', 'here', 'will', 'send', 'help', 'as', 'soon', 'as', 'have', 'accomplished', 'a', 'daring', 'and', 'heroic', 'rescue', 'in', 'my', 'own', 'particular', 'sigh', 'sir', 'feel', 'fine', 'actually', 'sir', 'sweet', 'll', 'um', 'll', 'just', 'stay', 'here', 'then', 'sir', 'inside', 'castle', 'and', 'giggle', 'giggle', 'giggle', 'outside', 'castle', 'ptoo', 'ha', 'etc', 'and', 'giggle', 'giggle', 'giggle', 'ha', 'ha', 'take', 'this', 'you', 're', 'not', 'allowed', 'to', 'enter', 'the', 'room', 'aaugh', 'fair', 'one', 'behold', 'your', 'humble', 'servant', 'of', 'have', 'come', 'to', 'take', 'y', 'm', 'terribly', 'sorry', 'got', 'my', 'note', 'well', 'got', 'a', 'a', 'note', 've', 'come', 'to', 'rescue', 'me', 'well', 'no', 'see', 'hadn', 't', 'knew', 'someone', 'would', 'knew', 'that', 'somewhere', 'out', 'there', 'music', 'there', 'must', 'be', 'someone', 'that', 'that', 'it', 'it', 'are', 'you', 'm', 'your', 'son', 'not', 'you', 'am', 'sir', 's', 'come', 'to', 'rescue', 'me', 'let', 's', 'not', 'jump', 'to', 'conclusions', 'you', 'kill', 'all', 'those', 'guards', 'yes', 'cost', 'fifty', 'pounds', 'each', 'm', 'awfully', 'sorry', 'really', 'can', 'explain', 'everything', 't', 'be', 'afraid', 'of', 'him', 've', 'got', 'a', 'rope', 'all', 'ready', 'killed', 'eight', 'wedding', 'guests', 'in', 'all', 'uh', 'you', 'see', 'the', 'thing', 'is', 'thought', 'your', 'son', 'was', 'a', 'lady', 'can', 'understand', 'that', 'up', 'only', 'killed', 'the', 'bride', 's', 'father', 'that', 's', 'all', 'really', 'didn', 't', 'mean', 'to', 't', 'mean', 'to', 'put', 'your', 'sword', 'right', 'through', 'his', 'head', 'dear', 'he', 'all', 'right', 'even', 'kicked', 'the', 'bride', 'in', 'the', 'chest', 'is', 'going', 'to', 'cost', 'me', 'a', 'fortune', 'can', 'explain', 'was', 'in', 'the', 'forest', 'um', 'riding', 'north', 'from', 'when', 'got', 'this', 'note', 'you', 'see', 'you', 'from', 'uh', 'am', 'a', 'of', 'sir', 'nice', 'castle', 'very', 'good', 'pig', 'country', 'it', 'm', 'ready', 'you', 'uh', 'like', 'to', 'come', 'and', 'have', 'a', 'drink', 'that', 'that', 's', 'uh', 'awfully', 'nice', 'of', 'you', 'am', 'ready', 'um', 'mean', 'to', 'be', 'so', 'understanding', 'thonk', 'woosh', 'm', 'afraid', 'when', 'm', 'in', 'this', 'idiom', 'sometimes', 'get', 'a', 'bit', 'uh', 'sort', 'of', 'carried', 'away', 'don', 't', 'worry', 'about', 'that', 'splat', 'crying', 'this', 'is', 'the', 'main', 'hall', 're', 'going', 'to', 'have', 'all', 'this', 'knocked', 'through', 'and', 'made', 'into', 'one', 'big', 'uh', 'living', 'room', 'he', 'is', 'bloody', 'hell', 'ha', 'ha', 'ha', 'it', 'it', 'it', 'it', 'it', 'it', 'it', 'see', 'what', 'mean', 'just', 'get', 'carried', 'away', 'm', 'really', 'most', 'awfully', 'sorry', 'everyone', 's', 'killed', 'the', 'best', 'man', 'yelling', 'it', 'it', 'it', 'is', 'from', 'the', 'of', 'a', 'very', 'brave', 'and', 'influential', 'knight', 'and', 'my', 'special', 'guest', 'here', 'today', 'killed', 'my', 'auntie', 'yelling', 'is', 'supposed', 'to', 'be', 'a', 'happy', 'occasion', 's', 'not', 'bicker', 'and', 'argue', 'about', 'who', 'killed', 'who', 'are', 'here', 'today', 'to', 'witness', 'the', 'union', 'of', 'two', 'young', 'people', 'in', 'the', 'joyful', 'bond', 'of', 'the', 'holy', 'wedlock', 'one', 'of', 'them', 'my', 'son', 'has', 'just', 'fallen', 'to', 'his', 'death', 'no', 'don', 't', 'want', 'to', 'think', 've', 'not', 'lost', 'a', 'son', 'so', 'much', 'as', 'gained', 'a', 'daughter', 'clap', 'clap', 'clap', 'since', 'the', 'tragic', 'death', 'of', 'her', 'father', 's', 'not', 'quite', 'dead', 'the', 'near', 'fatal', 'wounding', 'of', 'her', 'father', 's', 'getting', 'better', 'since', 'her', 'own', 'father', 'who', 'when', 'he', 'seemed', 'about', 'to', 'recover', 'suddenly', 'felt', 'the', 'icy', 'hand', 'of', 'death', 'upon', 'him', 'he', 's', 'died', 'want', 'his', 'only', 'daughter', 'to', 'look', 'upon', 'me', 'as', 'her', 'old', 'dad', 'in', 'a', 'very', 'real', 'and', 'legally', 'binding', 'sense', 'clap', 'clap', 'clap', 'feel', 'sure', 'that', 'the', 'merger', 'er', 'the', 'union', 'between', 'the', 'and', 'the', 'brave', 'but', 'dangerous', 'of', 'dead', 'dead', 's', 'not', 'quite', 'dead', 'feel', 'much', 'better', 'fell', 'out', 'of', 'the', 'you', 'creep', 'was', 'saved', 'at', 'the', 'last', 'minute', 'll', 'tell', 'you', 'music', 'like', 'that', 'like', 'that', 'it', 'singing', 's', 'going', 'to', 'tell', 's', 'going', 'to', 'tell', 'uuup', 'singing', 's', 'going', 'to', 'tell', 'up', 'singing', 's', 'going', 'to', 'tell', 'up', 'singing', 's', 'going', 'to', 'tell', 'like', 'that', 'singing', 's', 'going', 'to', 'tell', 's', 'going', 'to', 'tell', 's', 'going', 'to', 'tell', 's', 'going', 'to', 'tell', 'sir', 'singing', 's', 'going', 'to', 'tell', 'this', 'way', 'singing', 's', 'going', 'to', 'tell', 's', 'going', 'to', 'tell', 's', 'not', 'right', 'for', 'my', 'idiom', 'singing', 's', 'going', 'to', 'tell', 'about', 'his', 'great', 'escape', 'must', 'escape', 'more', 'sigh', 'singing', 'he', 'fell', 'a', 'long', 'long', 'way', 'sir', 'singing', 'he', 's', 'here', 'with', 'us', 'today', 'crash', 'singing', 'a', 'wonderful', 'escape', 'me', 'uh', 'could', 'somebody', 'give', 'me', 'a', 'push', 'please', 'music', 'clop', 'clop', 'clop', 'rewr', 'rewr', 'rewr', 'rewr', 'rewr', 'rewr', 'crone', 'rewr', 'music', 'stops', 'there', 'anywhere', 'in', 'this', 'town', 'where', 'we', 'could', 'buy', 'a', 'shrubbery', 'dramatic', 'chord', 'sent', 'you', 'have', 'no', 'shrubberies', 'here', 'you', 'do', 'not', 'tell', 'us', 'where', 'we', 'can', 'buy', 'a', 'shrubbery', 'my', 'friend', 'and', 'will', 'say', 'we', 'will', 'say', 'ni', 'your', 'worst', 'well', 'you', 'will', 'not', 'assist', 'us', 'voluntarily', 'ni', 'shrubberies', 'cough', 'no', 'no', 'no', 'it', 's', 'not', 'that', 'it', 's', 'ni', 'no', 'ni', 're', 'not', 'doing', 'it', 'properly', 'and', 's', 'it', 's', 'it', 've', 'got', 'it', 'and', 'you', 'saying', 'ni', 'to', 'that', 'old', 'woman', 'yes', 'what', 'sad', 'times', 'are', 'these', 'when', 'passing', 'ruffians', 'can', 'ni', 'at', 'will', 'to', 'old', 'ladies', 'is', 'a', 'pestilence', 'upon', 'this', 'land', 'is', 'sacred', 'those', 'who', 'arrange', 'and', 'design', 'shrubberies', 'are', 'under', 'considerable', 'economic', 'stress', 'at', 'this', 'period', 'in', 'history', 'you', 'say', 'shrubberies', 'are', 'my', 'trade', 'am', 'a', 'shrubber', 'name', 'is', 'the', 'arrange', 'design', 'and', 'sell', 'shrubberies', 'no', 'no', 'of', 'we', 'have', 'brought', 'you', 'your', 'shrubbery', 'we', 'go', 'now', 'is', 'a', 'good', 'shrubbery', 'like', 'the', 'laurels', 'particularly', 'there', 'is', 'one', 'small', 'problem', 'is', 'that', 'are', 'now', 'no', 'longer', 'the', 'are', 'now', 'the', 'ecky', 'ecky', 'ecky', 'pikang', 'zoop', 'boing', 'goodem', 'zoo', 'owli', 'zhiv', 'we', 'must', 'give', 'you', 'a', 'test', 'is', 'this', 'test', 'of', 'you', 'must', 'find', 'another', 'shrubbery', 'dramatic', 'chord', 'another', 'shrubbery', 'when', 'you', 'have', 'found', 'the', 'shrubbery', 'you', 'must', 'place', 'it', 'here', 'beside', 'this', 'shrubbery', 'only', 'slightly', 'higher', 'so', 'you', 'get', 'the', 'two', 'level', 'effect', 'with', 'a', 'little', 'path', 'running', 'down', 'the', 'middle', 'path', 'path', 'path', 'when', 'you', 'have', 'found', 'the', 'shrubbery', 'you', 'must', 'cut', 'down', 'the', 'mightiest', 'tree', 'in', 'the', 'forest', 'with', 'a', 'herring', 'dramatic', 'chord', 'shall', 'do', 'no', 'such', 'thing', 'please', 'down', 'a', 'tree', 'with', 'a', 'herring', 'can', 't', 'be', 'done', 't', 'say', 'that', 'word', 'word', 'cannot', 'tell', 'suffice', 'to', 'say', 'is', 'one', 'of', 'the', 'words', 'the', 'of', 'cannot', 'hear', 'can', 'we', 'not', 'say', 'the', 'word', 'if', 'you', 'don', 't', 'tell', 'us', 'what', 'it', 'is', 'said', 'it', 'again', 'is', 'not', 'is', 'not', 'is', 'wouldn', 't', 'get', 'vary', 'far', 'in', 'life', 'not', 'saying', 'is', 'not', 'is', 'is', 'liege', 'it', 's', 'singing', 'it', 'in', 'and', 'packing', 'it', 'up', 'sneaking', 'away', 'and', 'buggering', 'up', 'chickening', 'out', 'and', 'pissing', 'off', 'home', 'bravely', 'he', 'is', 'throwing', 'in', 'the', 'sponge', 'liege', 's', 'good', 'to', 'see', 'you', 'he', 's', 'said', 'the', 'word', 'you', 've', 'not', 'given', 'up', 'your', 'quest', 'for', 'the', 'singing', 'is', 'sneaking', 'away', 'and', 'buggering', 'up', 'up', 'no', 'from', 'it', 'said', 'the', 'word', 'again', 'was', 'looking', 'for', 'it', 'here', 'here', 'in', 'this', 'forest', 'it', 'is', 'far', 'from', 'this', 'place', 'saying', 'the', 'word', 'word', 'stop', 'it', 'we', 'cannot', 'hear', 'said', 'it', 'again', 'said', 'it', 'said', 'it', 'clop', 'clop', 'clop', 'said', 'it', 'again', 'there', 'again', 's', 'three', 'it', 's', 'so', 'and', 'and', 'set', 'out', 'on', 'their', 'search', 'to', 'find', 'the', 'enchanter', 'of', 'whom', 'the', 'old', 'man', 'had', 'spoken', 'in', 'scene', 'twenty', 'four', 'the', 'forest', 'they', 'met', 'and', 'and', 'there', 'was', 'much', 'rejoicing', 'woosh', 'the', 'frozen', 'land', 'of', 'they', 'were', 'forced', 'to', 'eat', 's', 'minstrels', 'high', 'pitched', 'back', 'there', 'was', 'much', 'rejoicing', 'year', 'passed', 'shivering', 'changed', 'into', 'nice', 'changed', 'into', 'changed', 'back', 'into', 'gave', 'and', 'a', 'miss', 'and', 'went', 'straight', 'on', 'into', 'snap', 'one', 'day', 'music', 'clop', 'clop', 'clop', 'music', 'stops', 'boom', 'it', 'boom', 'boom', 'boom', 'boom', 'boom', 'squeak', 'boom', 'boom', 'boom', 'boom', 'manner', 'of', 'man', 'are', 'you', 'that', 'can', 'summon', 'up', 'fire', 'without', 'flint', 'or', 'tinder', 'am', 'an', 'enchanter', 'what', 'name', 'are', 'you', 'known', 'are', 'some', 'who', 'call', 'me', 'the', 'know', 'my', 'name', 'do', 'zoosh', 'seek', 'the', 'is', 'our', 'quest', 'know', 'much', 'that', 'is', 'hidden', 'pweeng', 'boom', 'clap', 'clap', 'clap', 'we', 're', 'we', 're', 'looking', 'for', 'the', 'quest', 'is', 'to', 'find', 'the', 'is', 'is', 'so', 'we', 're', 'we', 're', 'we', 're', 'we', 're', 'looking', 'for', 'it', 'we', 'are', 'are', 'are', 'have', 'been', 'for', 'some', 'time', 'uh', 'so', 'uh', 'anything', 'that', 'you', 'could', 'do', 'to', 'uh', 'to', 'help', 'would', 'be', 'very', 'helpful', 'can', 'you', 'tell', 'us', 'where', 'boom', 'don', 't', 'want', 'to', 'waste', 'any', 'more', 'of', 'your', 'time', 'but', 'uh', 'don', 't', 'suppose', 'you', 'could', 'uh', 'tell', 'us', 'where', 'we', 'might', 'find', 'a', 'um', 'find', 'a', 'uh', 'a', 'um', 'a', 'uh', 'what', 'g', 'a', 'a', 'g', 'a', 'g', 'a', 'a', 'g', 'grail', 'think', 'so', 'y', 'yes', 's', 'it', 'you', 'you', 'boom', 'pweeng', 'boom', 'boom', 'um', 'you', 're', 'a', 'busy', 'man', 'uh', 'can', 'help', 'you', 'find', 'the', 'thank', 'you', 'the', 'north', 'there', 'lies', 'a', 'cave', 'the', 'cave', 'of', 'wherein', 'carved', 'in', 'mystic', 'runes', 'upon', 'the', 'very', 'living', 'rock', 'the', 'last', 'words', 'of', 'of', 'boom', 'make', 'plain', 'the', 'last', 'resting', 'place', 'of', 'the', 'most', 'could', 'we', 'find', 'this', 'cave', 'only', 'if', 'ye', 'be', 'men', 'of', 'valor', 'for', 'the', 'entrance', 'to', 'this', 'cave', 'is', 'guarded', 'by', 'a', 'creature', 'so', 'foul', 'so', 'cruel', 'that', 'no', 'man', 'yet', 'has', 'fought', 'with', 'it', 'and', 'lived', 'of', 'full', 'fifty', 'men', 'lie', 'strewn', 'about', 'its', 'lair', 'brave', 'knights', 'if', 'you', 'do', 'doubt', 'your', 'courage', 'or', 'your', 'strength', 'come', 'no', 'further', 'for', 'death', 'awaits', 'you', 'all', 'with', 'nasty', 'big', 'pointy', 'teeth', 'an', 'eccentric', 'performance', 'clop', 'clop', 'clop', 'whinny', 'whinny', 're', 'nervous', 'sire', 'we', 'd', 'best', 'leave', 'them', 'here', 'and', 'carry', 'on', 'on', 'foot', 'mount', 'the', 'cave', 'of', 'me', 'covered', 'with', 'just', 'keep', 'me', 'covered', 'late', 'dramatic', 'chord', 'he', 'is', 'behind', 'the', 'rabbit', 'is', 'the', 'rabbit', 'silly', 'sod', 'got', 'us', 'all', 'worked', 'up', 'that', 's', 'no', 'ordinary', 'rabbit', 's', 'the', 'most', 'foul', 'cruel', 'and', 'bad', 'tempered', 'rodent', 'you', 'ever', 'set', 'eyes', 'on', 'tit', 'soiled', 'my', 'armor', 'was', 'so', 'scared', 'that', 'rabbit', 's', 'got', 'a', 'vicious', 'streak', 'a', 'mile', 'wide', 'it', 's', 'a', 'killer', 'stuffed', 'll', 'do', 'you', 'up', 'a', 'treat', 'mate', 'yeah', 'mangy', 'scots', 'git', 'm', 'warning', 'you', 's', 'he', 'do', 'nibble', 'your', 'bum', 's', 'got', 'huge', 'sharp', 'eh', 'he', 'can', 'leap', 'about', 'look', 'at', 'the', 'bones', 'on', 'his', 'head', 'off', 'little', 'bleeder', 'rabbit', 'stew', 'comin', 'right', 'up', 'squeak', 'dramatic', 'chord', 'clunk', 'warned', 'you', 'done', 'it', 'again', 'warned', 'you', 'but', 'did', 'you', 'listen', 'to', 'me', 'no', 'you', 'knew', 'it', 'all', 'didn', 't', 'you', 'it', 's', 'just', 'a', 'harmless', 'little', 'bunny', 'isn', 't', 'it', 'it', 's', 'always', 'the', 'same', 'always', 'tell', 'them', 'shut', 'up', 'they', 'listen', 'to', 'me', 'no', 'squeak', 'squeak', 'squeak', 'etc', 'away', 'away', 'away', 'away', 'ha', 'ha', 'ha', 'haw', 'haw', 'ha', 'many', 'did', 'we', 'lose', 's', 'five', 'sir', 'we', 'd', 'better', 'not', 'risk', 'another', 'frontal', 'assault', 'rabbit', 's', 'dynamite', 'it', 'help', 'to', 'confuse', 'it', 'if', 'we', 'run', 'away', 'more', 'shut', 'up', 'and', 'go', 'and', 'change', 'your', 'armor', 'us', 'taunt', 'it', 'may', 'become', 'so', 'cross', 'that', 'it', 'will', 'make', 'a', 'mistake', 'what', 'ooh', 'we', 'got', 'bows', 'have', 'the', 'of', 'course', 'of', 'one', 'of', 'the', 'sacred', 'relics', 'carries', 'with', 'him', 'up', 'the', 'chanting', 'domine', 'dona', 'eis', 'requiem', 'domine', 'donaeis', 'requiem', 'domine', 'dona', 'eis', 'requiem', 'domine', 'dona', 'eisrequiem', 'does', 'it', 'um', 'how', 'does', 'it', 'work', 'know', 'not', 'my', 'liege', 'the', 'of', 'verses', 'to', 'one', 'raised', 'the', 'hand', 'grenade', 'up', 'on', 'high', 'saying', 'bless', 'this', 'thy', 'hand', 'grenade', 'that', 'with', 'it', 'thou', 'mayest', 'blow', 'thine', 'enemies', 'to', 'tiny', 'bits', 'in', 'thy', 'mercy', 'the', 'did', 'grin', 'and', 'the', 'people', 'did', 'feast', 'upon', 'the', 'lambs', 'and', 'sloths', 'and', 'carp', 'and', 'anchovies', 'and', 'orangutans', 'and', 'breakfast', 'cereals', 'and', 'fruit', 'bats', 'and', 'large', 'chu', 'a', 'bit', 'the', 'spake', 'saying', 'shalt', 'thou', 'take', 'out', 'the', 'shalt', 'thou', 'count', 'to', 'three', 'no', 'more', 'no', 'less', 'shalt', 'be', 'the', 'number', 'thou', 'shalt', 'count', 'and', 'the', 'number', 'of', 'the', 'counting', 'shall', 'be', 'three', 'shalt', 'thou', 'not', 'count', 'nor', 'either', 'count', 'thou', 'two', 'excepting', 'that', 'thou', 'then', 'proceed', 'to', 'three', 'is', 'right', 'out', 'the', 'number', 'three', 'being', 'the', 'third', 'number', 'be', 'reached', 'then', 'lobbest', 'thou', 'thy', 'of', 'towards', 'thy', 'foe', 'who', 'being', 'naughty', 'in', 'my', 'sight', 'shall', 'snuff', 'it', 'two', 'five', 'sir', 'angels', 'sing', 'boom', 'does', 'it', 'say', 'language', 'is', 'that', 'are', 'a', 'scholar', 's', 'course', 'of', 'does', 'it', 'say', 'reads', 'may', 'be', 'found', 'the', 'last', 'words', 'of', 'of', 'who', 'is', 'valiant', 'and', 'pure', 'of', 'spirit', 'may', 'find', 'the', 'in', 'the', 'of', 'uuggggggh', 'the', 'of', 'uuggggggh', 'is', 'that', 'must', 'have', 'died', 'while', 'carving', 'it', 'come', 'on', 'that', 's', 'what', 'it', 'says', 'if', 'he', 'was', 'dying', 'he', 'wouldn', 't', 'bother', 'to', 'carve', 'aaggggh', 'd', 'just', 'say', 'it', 'that', 's', 'what', 's', 'carved', 'in', 'the', 'rock', 'he', 'was', 'dictating', 'shut', 'up', 'does', 'it', 'say', 'anything', 'else', 'uuggggggh', 'you', 'suppose', 'he', 'meant', 'the', 's', 'that', 'think', 't', 'there', 'a', 'in', 'that', 's', 'yes', 'no', 'at', 'the', 'back', 'of', 'the', 'throat', 'no', 'no', 'no', 'no', 'in', 'surprise', 'and', 'alarm', 'you', 'mean', 'sort', 'of', 'a', 'aaaah', 'but', 'aaaaaah', 'dramatic', 'chord', 'roar', 's', 'the', 'legendary', 'of', 'of', 'eats', 's', 'it', 's', 'it', 'away', 'away', 'roar', 'away', 'awaaay', 'awaaaaay', 'roar', 'running', 'boom', 'roar', 've', 'lost', 'him', 'roar', 'the', 'horrendous', 'lunged', 'forward', 'escape', 'for', 'and', 'his', 'knights', 'seemed', 'hopeless', 'when', 'suddenly', 'the', 'animator', 'suffered', 'a', 'fatal', 'heart', 'attack', 'thump', 'cartoon', 'peril', 'was', 'no', 'more', 'quest', 'for', 'could', 'continue', 'gurgle', 'it', 'is', 'of', 'great', 's', 'the', 'old', 'man', 'from', 'scene', 'twenty', 'four', 'is', 'he', 'doing', 'here', 'is', 'the', 'keeper', 'of', 'the', 'of', 'asks', 'each', 'traveller', 'five', 'questions', 'questions', 'questions', 'who', 'answers', 'the', 'five', 'questions', 'questions', 'questions', 'may', 'cross', 'in', 'safety', 'if', 'you', 'get', 'a', 'question', 'wrong', 'you', 'are', 'cast', 'into', 'the', 'of', 'won', 't', 'go', 's', 'going', 'to', 'answer', 'the', 'questions', 'you', 'go', 've', 'got', 'a', 'great', 'idea', 'doesn', 't', 'go', 'me', 'go', 'my', 'liege', 'will', 'take', 'him', 'single', 'handed', 'shall', 'make', 'a', 'feint', 'to', 'the', 'north', 'east', 'that', 's', 'no', 'on', 'on', 'on', 'answer', 'the', 'five', 'questions', 'questions', 'questions', 'as', 'best', 'you', 'can', 'we', 'shall', 'watch', 'and', 'pray', 'understand', 'my', 'liege', 'luck', 'brave', 'be', 'with', 'you', 'would', 'cross', 'the', 'of', 'must', 'answer', 'me', 'these', 'questions', 'three', 'ere', 'the', 'other', 'side', 'he', 'see', 'me', 'the', 'questions', 'bridgekeeper', 'am', 'not', 'afraid', 'is', 'your', 'name', 'name', 'is', 'of', 'is', 'your', 'quest', 'seek', 'the', 'is', 'your', 'favorite', 'color', 'you', 'go', 'thank', 'you', 'you', 'very', 'much', 's', 'easy', 'approacheth', 'the', 'of', 'must', 'answer', 'me', 'these', 'questions', 'three', 'ere', 'the', 'other', 'side', 'he', 'see', 'me', 'the', 'questions', 'bridgekeeper', 'm', 'not', 'afraid', 'is', 'your', 'name', 'of', 'is', 'your', 'quest', 'seek', 'the', 'is', 'the', 'capital', 'of', 'don', 't', 'know', 'that', 'is', 'your', 'name', 'of', 'is', 'your', 'quest', 'seek', 'the', 'is', 'your', 'favorite', 'color', 'yel', 'auuuuuuuugh', 'hee', 'heh', 'is', 'your', 'name', 'is', 'of', 'the', 'is', 'your', 'quest', 'seek', 'the', 'is', 'the', 'air', 'speed', 'velocity', 'of', 'an', 'unladen', 'swallow', 'do', 'you', 'mean', 'or', 'swallow', 'don', 't', 'know', 'that', 'do', 'know', 'so', 'much', 'about', 'swallows', 'you', 'have', 'to', 'know', 'these', 'things', 'when', 'you', 're', 'a', 'king', 'you', 'know', 'suspenseful', 'music', 'music', 'suddenly', 'stops', 'intermission', 'suspenseful', 'music', 'resumes', 'police', 'radio', 'angels', 'sing', 'singing', 'stops', 'ethereal', 'music', 'quest', 'is', 'at', 'an', 'end', 'be', 'praised', 'we', 'thank', 'that', 'hast', 'vouchsafed', 'to', 'us', 'the', 'most', 'holy', 'twong', 'baaaa', 'thud', 'dappy', 'k', 'niggets', 'and', 'who', 'has', 'the', 'brain', 'of', 'a', 'duck', 'you', 'know', 'we', 'fellows', 'outwit', 'you', 'a', 'second', 'time', 'dare', 'you', 'profane', 'this', 'place', 'with', 'your', 'presence', 'command', 'you', 'in', 'the', 'name', 'of', 'the', 'of', 'to', 'open', 'the', 'doors', 'of', 'this', 'sacred', 'castle', 'to', 'which', 'has', 'guided', 'us', 'you', 'say', 'one', 'more', 'time', 'mac', 'unclog', 'my', 'nose', 'in', 'your', 'direction', 'sons', 'of', 'a', 'window', 'dresser', 'you', 'think', 'you', 'could', 'out', 'clever', 'us', 'folk', 'with', 'your', 'silly', 'knees', 'bent', 'running', 'about', 'advancing', 'behaviour', 'wave', 'my', 'private', 'parts', 'at', 'your', 'aunties', 'you', 'cheesy', 'lot', 'of', 'second', 'hand', 'electric', 'donkey', 'bottom', 'biters', 'the', 'name', 'of', 'the', 'we', 'demand', 'entrance', 'to', 'this', 'sacred', 'castle', 'chance', 'bed', 'wetting', 'types', 'burst', 'my', 'pimples', 'at', 'you', 'and', 'call', 'your', 'door', 'opening', 'request', 'a', 'silly', 'thing', 'you', 'tiny', 'brained', 'wipers', 'of', 'other', 'people', 's', 'bottoms', 'you', 'do', 'not', 'open', 'this', 'door', 'we', 'shall', 'take', 'this', 'castle', 'by', 'force', 'splat', 'the', 'name', 'of', 'and', 'the', 'glory', 'of', 'our', 'splat', 'laughing', 'settles', 'it', 'depart', 'a', 'lot', 'at', 'this', 'time', 'and', 'cut', 'the', 'approaching', 'any', 'more', 'or', 'we', 'fire', 'arrows', 'at', 'the', 'tops', 'of', 'your', 'heads', 'and', 'make', 'castanets', 'out', 'of', 'your', 'testicles', 'already', 'ha', 'haaa', 'ha', 'away', 'ignore', 'them', 'now', 'remain', 'gone', 'illegitimate', 'faced', 'bugger', 'folk', 'if', 'you', 'think', 'you', 'got', 'a', 'nasty', 'taunting', 'this', 'time', 'you', 'ain', 't', 'heard', 'nothing', 'yet', 'dappy', 'k', 'nnniggets', 'taunting', 'shall', 'attack', 'at', 'once', 'my', 'liege', 'by', 'for', 'attack', 'exciting', 'music', 'music', 'stops', 'silence', 'persons', 'taunting', 'the', 'blood', 'of', 'many', 'a', 'valiant', 'knight', 'shall', 'be', 'avenged', 'the', 'name', 'of', 'hoo', 'ha', 'ha', 'ha', 'ha', 'ha', 'we', 'shall', 'not', 'stop', 'our', 'fight', 'til', 'each', 'one', 'of', 'you', 'lies', 'dead', 'and', 'the', 'returns', 'to', 'those', 'whom', 'has', 'chosen', 'ha', 'ha', 'police', 'siren', 're', 'the', 'ones', 'm', 'sure', 'on', 'armed', 'must', 'go', 'too', 'right', 'on', 'that', 'one', 'away', 'pull', 'it', 'off', 'on', 'along', 'this', 'man', 'in', 'the', 'van', 'off', 'on', 'whom', 'one', 'this', 'one', 'on', 'him', 'in', 'the', 'van', 'a', 'blanket', 'have', 'no', 'hospital', 'squeak', 'on', 'back', 'on', 'along', 'along', 'that', 'off', 'that', 's', 'an', 'offensive', 'weapon', 'that', 'is', 'on', 'with', 'em', 'along', 'squeak', 'right', 'sonny', 's', 'enough', 'pack', 'that', 'in', 'crash']\n"
          ],
          "name": "stdout"
        }
      ]
    },
    {
      "cell_type": "markdown",
      "metadata": {
        "id": "qf0daeH1jPtA",
        "colab_type": "text"
      },
      "source": [
        "\n",
        "\n",
        "25.   **Define sento to be the list of words ['she', 'sells', 'sea', 'shells', 'by', 'the', 'sea', 'shore']. Now write code to perform the following tasks:**\n",
        "\n",
        "> **a) Print all words beginning with sh**\n",
        "\n"
      ]
    },
    {
      "cell_type": "code",
      "metadata": {
        "id": "Ag2CWzKthF9v",
        "colab_type": "code",
        "colab": {
          "base_uri": "https://localhost:8080/",
          "height": 34
        },
        "outputId": "204402b0-3382-4ea0-e70d-26d10f51bcc2"
      },
      "source": [
        "sent = ['she', 'sells', 'sea', 'shells', 'by', 'the', 'sea', 'shore']\n",
        "print(sent)"
      ],
      "execution_count": 70,
      "outputs": [
        {
          "output_type": "stream",
          "text": [
            "['she', 'sells', 'sea', 'shells', 'by', 'the', 'sea', 'shore']\n"
          ],
          "name": "stdout"
        }
      ]
    },
    {
      "cell_type": "code",
      "metadata": {
        "id": "3IZBhYBaiuoY",
        "colab_type": "code",
        "colab": {
          "base_uri": "https://localhost:8080/",
          "height": 68
        },
        "outputId": "48b4088f-e501-4f29-e55d-7cf54b363c6b"
      },
      "source": [
        "for word in sent:\n",
        "    if word[0:2] == 'sh':\n",
        "        print(word)"
      ],
      "execution_count": 71,
      "outputs": [
        {
          "output_type": "stream",
          "text": [
            "she\n",
            "shells\n",
            "shore\n"
          ],
          "name": "stdout"
        }
      ]
    },
    {
      "cell_type": "markdown",
      "metadata": {
        "id": "A-o0Q-rUkFez",
        "colab_type": "text"
      },
      "source": [
        "> **b) Print all words longer than four characters**"
      ]
    },
    {
      "cell_type": "code",
      "metadata": {
        "id": "4Zln_TBZj0Ux",
        "colab_type": "code",
        "colab": {
          "base_uri": "https://localhost:8080/",
          "height": 34
        },
        "outputId": "2a6e410b-ef19-49a0-9c92-91576481e733"
      },
      "source": [
        "print([word for word in sent if len(word)>4])"
      ],
      "execution_count": 76,
      "outputs": [
        {
          "output_type": "stream",
          "text": [
            "['sells', 'shells', 'shore']\n"
          ],
          "name": "stdout"
        }
      ]
    },
    {
      "cell_type": "markdown",
      "metadata": {
        "id": "vJ4T60s_kkUa",
        "colab_type": "text"
      },
      "source": [
        "\n",
        "26.  **What does the following Python code do? sum([len(w) for w in text1]) Can you use it to work out the average word length of a text?**\n",
        "\n"
      ]
    },
    {
      "cell_type": "code",
      "metadata": {
        "id": "BYyqKzX7kPnQ",
        "colab_type": "code",
        "colab": {
          "base_uri": "https://localhost:8080/",
          "height": 34
        },
        "outputId": "73d104b6-d02d-4e16-9468-31ed3abf48ec"
      },
      "source": [
        "sum([len(w) for w in text1])"
      ],
      "execution_count": 77,
      "outputs": [
        {
          "output_type": "execute_result",
          "data": {
            "text/plain": [
              "999044"
            ]
          },
          "metadata": {
            "tags": []
          },
          "execution_count": 77
        }
      ]
    },
    {
      "cell_type": "markdown",
      "metadata": {
        "id": "6MYtzFNolCxV",
        "colab_type": "text"
      },
      "source": [
        "Answer: This code compute the sum of all length character of the text1. Unfortunely no, because in the code above we sum the length of special character, for example '@', '_', etc. So we can't use this code to average of length of a text."
      ]
    },
    {
      "cell_type": "markdown",
      "metadata": {
        "id": "S3VQ3t3dloGn",
        "colab_type": "text"
      },
      "source": [
        "\n",
        "\n",
        "27.   **Define a function percent(word, text) that calculates how often a given word occurs in a text and expresses the result as a percentage.**\n",
        "\n"
      ]
    },
    {
      "cell_type": "code",
      "metadata": {
        "id": "PMY3JkC0lBDe",
        "colab_type": "code",
        "colab": {}
      },
      "source": [
        "def percent(word, text):\n",
        "    frequency = 0\n",
        "    total_words = 0\n",
        "    for w in text:\n",
        "        if w.isalpha():\n",
        "            total_words += 1\n",
        "            if w == word:\n",
        "                frequency += 1\n",
        "\n",
        "    return frequency/total_words*100"
      ],
      "execution_count": 89,
      "outputs": []
    },
    {
      "cell_type": "code",
      "metadata": {
        "id": "apyJd3XPmaI7",
        "colab_type": "code",
        "colab": {
          "base_uri": "https://localhost:8080/",
          "height": 187
        },
        "outputId": "2705594a-36b2-481f-dfc8-9fcad43e5ffe"
      },
      "source": [
        "count = 0\n",
        "for word in text1:\n",
        "    if word.isalpha():\n",
        "        print(f\"Percentege of {word}: {percent(word, text1)}\")\n",
        "        count += 1\n",
        "    if count == 10:\n",
        "        break"
      ],
      "execution_count": 92,
      "outputs": [
        {
          "output_type": "stream",
          "text": [
            "Percentege of Moby: 0.03846840782007776\n",
            "Percentege of Dick: 0.03846840782007776\n",
            "Percentege of by: 0.5206973772789096\n",
            "Percentege of Herman: 0.0004579572359533067\n",
            "Percentege of Melville: 0.0004579572359533067\n",
            "Percentege of ETYMOLOGY: 0.0004579572359533067\n",
            "Percentege of Supplied: 0.0009159144719066134\n",
            "Percentege of by: 0.5206973772789096\n",
            "Percentege of a: 2.092406611070658\n",
            "Percentege of Late: 0.0004579572359533067\n"
          ],
          "name": "stdout"
        }
      ]
    },
    {
      "cell_type": "markdown",
      "metadata": {
        "id": "rdcP0IcfoIcE",
        "colab_type": "text"
      },
      "source": [
        "\n",
        "\n",
        "28. **Define a function vocab_size(text) that has a single parameter for the text, and which returns the vocabulary size of the text.**  \n",
        "\n"
      ]
    },
    {
      "cell_type": "code",
      "metadata": {
        "id": "czBc4CMPnTQy",
        "colab_type": "code",
        "colab": {}
      },
      "source": [
        "def vocab_size(text):\n",
        "    return len(set([w.lower() for w in text if w.isalpha()]))\n"
      ],
      "execution_count": 98,
      "outputs": []
    },
    {
      "cell_type": "code",
      "metadata": {
        "id": "921UN796oj92",
        "colab_type": "code",
        "colab": {
          "base_uri": "https://localhost:8080/",
          "height": 34
        },
        "outputId": "2000f855-31af-4fcc-c35b-44eb8616fc9b"
      },
      "source": [
        "vocab_size(text1)"
      ],
      "execution_count": 99,
      "outputs": [
        {
          "output_type": "execute_result",
          "data": {
            "text/plain": [
              "16948"
            ]
          },
          "metadata": {
            "tags": []
          },
          "execution_count": 99
        }
      ]
    },
    {
      "cell_type": "markdown",
      "metadata": {
        "id": "2bI1aBHLp8IR",
        "colab_type": "text"
      },
      "source": [
        "\n",
        "\n",
        "\n",
        "29.   **We have been using sets to store vocabularies. Try the following Python expression: set(sent3) < set(text1). Experiment with this using different arguments to set(). What does it do? Can you think of a practica application for this?**\n",
        "\n"
      ]
    },
    {
      "cell_type": "code",
      "metadata": {
        "id": "ggIJ8DSYomyo",
        "colab_type": "code",
        "colab": {}
      },
      "source": [
        "sent3 = ['In', 'the', 'beginning', 'God', 'created', 'the',\n",
        "'heaven', 'and', 'the', 'earth', '.']"
      ],
      "execution_count": 101,
      "outputs": []
    },
    {
      "cell_type": "code",
      "metadata": {
        "id": "qsldTsHPqdwV",
        "colab_type": "code",
        "colab": {
          "base_uri": "https://localhost:8080/",
          "height": 34
        },
        "outputId": "928af6f5-8066-43ab-ee8f-82e127d5c397"
      },
      "source": [
        "set(sent3) < set(text1)"
      ],
      "execution_count": 102,
      "outputs": [
        {
          "output_type": "execute_result",
          "data": {
            "text/plain": [
              "True"
            ]
          },
          "metadata": {
            "tags": []
          },
          "execution_count": 102
        }
      ]
    },
    {
      "cell_type": "code",
      "metadata": {
        "id": "mt-0hEsSqhwI",
        "colab_type": "code",
        "colab": {
          "base_uri": "https://localhost:8080/",
          "height": 34
        },
        "outputId": "3de131bd-3c4b-4bc4-c29c-e21f28e46a09"
      },
      "source": [
        "set(text1) < set(text2)"
      ],
      "execution_count": 103,
      "outputs": [
        {
          "output_type": "execute_result",
          "data": {
            "text/plain": [
              "False"
            ]
          },
          "metadata": {
            "tags": []
          },
          "execution_count": 103
        }
      ]
    },
    {
      "cell_type": "markdown",
      "metadata": {
        "id": "Bb4CqDG0rG6O",
        "colab_type": "text"
      },
      "source": [
        "Answer: One example of application is using this statement to verifying if the text is identical, and can be one step usefull validate if text is not a copy.\n",
        "\n"
      ]
    }
  ]
}